{
 "cells": [
  {
   "cell_type": "code",
   "execution_count": null,
   "metadata": {
    "collapsed": true
   },
   "outputs": [],
   "source": [
    "from xml.etree import ElementTree as ET\n",
    "import re"
   ]
  },
  {
   "cell_type": "code",
   "execution_count": null,
   "metadata": {
    "collapsed": false
   },
   "outputs": [],
   "source": [
    "import pandas as pd\n",
    "dict(pandas=pd.__version__)"
   ]
  },
  {
   "cell_type": "code",
   "execution_count": null,
   "metadata": {
    "collapsed": true
   },
   "outputs": [],
   "source": [
    "def file_access():\n",
    "    from pathlib import Path\n",
    "    return Path('.')\n",
    "cwd = file_access()"
   ]
  },
  {
   "cell_type": "markdown",
   "metadata": {},
   "source": [
    "## Babel DB Access"
   ]
  },
  {
   "cell_type": "code",
   "execution_count": null,
   "metadata": {
    "collapsed": false,
    "scrolled": true
   },
   "outputs": [],
   "source": [
    "def db_access(key='BABEL_DB'):\n",
    "    from os import getenv, environ\n",
    "    from sqlalchemy import create_engine\n",
    "\n",
    "    url = getenv(key)\n",
    "    if not url:\n",
    "        raise IOError(key)\n",
    "    return create_engine(url)\n",
    "\n",
    "babel_db = db_access()\n",
    "babel_db.execute('select 1+1').fetchone()"
   ]
  },
  {
   "cell_type": "markdown",
   "metadata": {},
   "source": [
    "## Data Dictionary"
   ]
  },
  {
   "cell_type": "markdown",
   "metadata": {},
   "source": [
    "### i2b2 query: BC Phase 2e of Dec 17, 2015"
   ]
  },
  {
   "cell_type": "code",
   "execution_count": null,
   "metadata": {
    "collapsed": true
   },
   "outputs": [],
   "source": [
    "bc295 = cwd / 'bc295_query_definition.xml'"
   ]
  },
  {
   "cell_type": "code",
   "execution_count": null,
   "metadata": {
    "collapsed": false
   },
   "outputs": [],
   "source": [
    "def strip_counts(label):\n",
    "    return re.sub(r'\\[\\d.*', '', label)\n",
    "strip_counts('[AN000] ANTINEOPLASTICS [2,134,661 facts')"
   ]
  },
  {
   "cell_type": "code",
   "execution_count": null,
   "metadata": {
    "collapsed": false
   },
   "outputs": [],
   "source": [
    "def item_ont(item_key):\n",
    "    return item_key.split('\\\\')[4]\n",
    "\n",
    "item_ont(r'\\\\i2b2_Medications\\i2b2\\Medications\\RXAUI:3257')"
   ]
  },
  {
   "cell_type": "code",
   "execution_count": null,
   "metadata": {
    "collapsed": false,
    "scrolled": true
   },
   "outputs": [],
   "source": [
    "with bc295.open() as s:\n",
    "    qdef = ET.parse(s).getroot()\n",
    "\n",
    "def e2d(e, keys):\n",
    "    get = lambda ty, e: None if e is None else ty(e.text)\n",
    "    return [(k, get(ty, e.find(k))) for (k, ty) in keys]\n",
    "\n",
    "panel_cols = [('panel_number', int),\n",
    "             ('invert', int),\n",
    "             ('panel_date_from', str),\n",
    "             ('panel_timing', str)]  # categorical\n",
    "item_cols = [('hlevel', int),\n",
    "             ('item_name', str),\n",
    "             ('item_key', str),\n",
    "             ('item_icon', str),  # categorical\n",
    "             ('tooltip', str),\n",
    "             ('class', str),\n",
    "             ('item_is_synonym', bool)]\n",
    "qitem = pd.DataFrame([dict(e2d(panel, panel_cols) + e2d(item, item_cols))\n",
    "              for panel in qdef.iter('panel')\n",
    "              for item in panel.iter('item')])\n",
    "\n",
    "\n",
    "qitem['short_name'] = qitem.item_name.apply(strip_counts)\n",
    "qitem['ont'] = qitem.item_key.apply(item_ont)\n",
    "\n",
    "q_nice_cols = ['panel_number', 'hlevel', 'ont', 'tooltip', 'short_name']\n",
    "qitem[q_nice_cols]"
   ]
  },
  {
   "cell_type": "code",
   "execution_count": null,
   "metadata": {
    "collapsed": false
   },
   "outputs": [],
   "source": [
    "qitem[~qitem.ont.isin(['naaccr', 'Diagnoses', 'Procedures'])][q_nice_cols]"
   ]
  },
  {
   "cell_type": "code",
   "execution_count": null,
   "metadata": {
    "collapsed": false
   },
   "outputs": [],
   "source": [
    "qitem.iloc[46]"
   ]
  },
  {
   "cell_type": "markdown",
   "metadata": {},
   "source": [
    "#### Medications: Antineoplastics, Hormones"
   ]
  },
  {
   "cell_type": "code",
   "execution_count": null,
   "metadata": {
    "collapsed": false,
    "scrolled": true
   },
   "outputs": [],
   "source": [
    "qitem[qitem.ont == 'Medications'][q_nice_cols]"
   ]
  },
  {
   "cell_type": "code",
   "execution_count": null,
   "metadata": {
    "collapsed": true
   },
   "outputs": [],
   "source": [
    "def gpc_std(item_key):\n",
    "    return '\\\\GPC\\\\' + item_key.split('\\\\', 4)[-1]"
   ]
  },
  {
   "cell_type": "code",
   "execution_count": null,
   "metadata": {
    "collapsed": false
   },
   "outputs": [],
   "source": [
    "med_term_paths = ', '.join(\"'%s'\" % p\n",
    "                           for p in qitem[qitem.ont == 'Medications'].item_key.apply(gpc_std))\n",
    "print med_term_paths"
   ]
  },
  {
   "cell_type": "code",
   "execution_count": null,
   "metadata": {
    "collapsed": false
   },
   "outputs": [],
   "source": [
    "pd.read_sql(r'''\n",
    "select *\n",
    "from i2b2metadata.gpc_terms\n",
    "where c_fullname in ({paths})\n",
    "limit 100\n",
    "'''.format(paths=med_term_paths), babel_db)"
   ]
  },
  {
   "cell_type": "code",
   "execution_count": null,
   "metadata": {
    "collapsed": false
   },
   "outputs": [],
   "source": [
    "# Note %s have to be doubled in sqlalchemy API\n",
    "sql = r'''\n",
    "with va_top as (\n",
    "  select *\n",
    "  from i2b2metadata.gpc_terms\n",
    "  where c_fullname in ({paths})\n",
    ")\n",
    ", va_class as (\n",
    "  select sub.c_hlevel, sub.c_basecode, sub.c_name, sub.c_fullname\n",
    "  from i2b2metadata.gpc_terms sub\n",
    "  join va_top on sub.c_fullname like (va_top.c_fullname || '%%') escape '@'\n",
    "  where sub.c_name like '[%%]%%'\n",
    ")\n",
    "select * from va_class\n",
    "order by c_fullname\n",
    "limit 100\n",
    "'''.format(paths=med_term_paths)\n",
    "med_va_class = pd.read_sql(sql, babel_db)\n",
    "med_va_class['code'] = med_va_class.c_name.apply(lambda s: s.split('] ')[0][1:])\n",
    "med_va_class.set_index('code')[['c_name']]"
   ]
  },
  {
   "cell_type": "code",
   "execution_count": null,
   "metadata": {
    "collapsed": false,
    "scrolled": true
   },
   "outputs": [],
   "source": [
    "# Note %s have to be doubled in sqlalchemy API\n",
    "sql = r'''\n",
    "with va_top as (\n",
    "  select *\n",
    "  from i2b2metadata.gpc_terms\n",
    "  where c_fullname in ({paths})\n",
    ")\n",
    ", va_class as (\n",
    "  select sub.c_hlevel, sub.c_basecode, sub.c_name, sub.c_fullname\n",
    "  from i2b2metadata.gpc_terms sub\n",
    "  join va_top on sub.c_fullname like (va_top.c_fullname || '%%') escape '@'\n",
    "  where sub.c_name like '[%%]%%'\n",
    ")\n",
    ", rx as (\n",
    "  select sub.c_hlevel, sub.c_basecode, sub.c_name\n",
    "       , substr(va_class.c_name, 2, 5) va_class_code\n",
    "       , sub.c_fullname\n",
    "  from i2b2metadata.gpc_terms sub\n",
    "  join va_class\n",
    "    on sub.c_fullname like (va_class.c_fullname || '%%') escape '@'\n",
    "   and sub.c_hlevel = va_class.c_hlevel + 1\n",
    "  where sub.c_name not like '[%%]%%'\n",
    ")\n",
    "select distinct * from rx\n",
    "order by va_class_code, c_basecode\n",
    "'''.format(paths=med_term_paths)\n",
    "rx = pd.read_sql(sql, babel_db)\n",
    "print 'distinct drugs:', len(rx)\n",
    "print 'hlevels:', rx.c_hlevel.unique()\n",
    "rx['rxcui'] = rx.c_basecode.apply(lambda s: s.split(':')[1])\n",
    "\n",
    "\n"
   ]
  },
  {
   "cell_type": "markdown",
   "metadata": {},
   "source": [
    "#### Unique Drugs: eliminating polyhierarchy"
   ]
  },
  {
   "cell_type": "code",
   "execution_count": null,
   "metadata": {
    "collapsed": false
   },
   "outputs": [],
   "source": [
    "len(rx.rxcui), len(rx.rxcui.unique())"
   ]
  },
  {
   "cell_type": "code",
   "execution_count": null,
   "metadata": {
    "collapsed": false
   },
   "outputs": [],
   "source": [
    "rx.sort_values('rxcui', inplace=True)\n",
    "dup_cuis = rx[rx.rxcui.duplicated()].rxcui\n",
    "rx[rx.rxcui.isin(dup_cuis)]"
   ]
  },
  {
   "cell_type": "code",
   "execution_count": null,
   "metadata": {
    "collapsed": false
   },
   "outputs": [],
   "source": [
    "#rx1 = pd.DataFrame(dict(va_class_code=rx.groupby('rxcui').va_class_code.min()))\n",
    "rx1 = rx.groupby('rxcui')[['va_class_code', 'c_name']].min()\n",
    "print len(rx1)\n",
    "rx1.head()"
   ]
  },
  {
   "cell_type": "code",
   "execution_count": null,
   "metadata": {
    "collapsed": false,
    "scrolled": true
   },
   "outputs": [],
   "source": [
    "rx1['label'] = ['[{vc}] RXCUI:{cui} {drug}'.format(vc=drug.va_class_code, cui=rxcui, drug=drug.c_name)\n",
    "                for (rxcui, drug) in rx1.iterrows()]\n",
    "rx1.sort_values(['va_class_code', 'c_name'], inplace=True)\n",
    "rx1.head(20)[['va_class_code', 'c_name', 'label']]"
   ]
  },
  {
   "cell_type": "markdown",
   "metadata": {},
   "source": [
    "## Data Dictionary for REDCap"
   ]
  },
  {
   "cell_type": "code",
   "execution_count": null,
   "metadata": {
    "collapsed": false
   },
   "outputs": [],
   "source": [
    "ddict_prototype = pd.read_csv((cwd / 'redcap_ddict_prototype.csv').open()).set_index(u'Variable / Field Name')\n",
    "ddict_prototype.columns"
   ]
  },
  {
   "cell_type": "code",
   "execution_count": null,
   "metadata": {
    "collapsed": false
   },
   "outputs": [],
   "source": [
    "def choices(series):\n",
    "    return ' | '.join('{code}, {label}'.format(code=code, label=label)\n",
    "               for (code, label) in series.iteritems())"
   ]
  },
  {
   "cell_type": "code",
   "execution_count": null,
   "metadata": {
    "collapsed": false
   },
   "outputs": [],
   "source": [
    "med_ddict = ddict_prototype.copy()\n",
    "med_ddict.set_value('va_class', u'Choices, Calculations, OR Slider Labels', choices(med_va_class.set_index('code').c_name))\n",
    "med_ddict.set_value('rxcui', u'Choices, Calculations, OR Slider Labels', choices(rx1.label))\n",
    "\n",
    "med_ddict.to_csv('med_exposure_ddict.csv')\n",
    "med_ddict"
   ]
  },
  {
   "cell_type": "markdown",
   "metadata": {},
   "source": [
    "### Data Management Spreadsheet Dec 2015"
   ]
  },
  {
   "cell_type": "code",
   "execution_count": null,
   "metadata": {
    "collapsed": false
   },
   "outputs": [],
   "source": [
    "# https://informatics.gpcnetwork.org/trac/Project/attachment/ticket/295/BC-MasterDataManagement.xlsx\n",
    "# 2015-12-16T11:58:36-05:00\n",
    "mdm = pd.read_excel('BC-MasterDataManagement.xlsx')\n",
    "mdm.head()"
   ]
  },
  {
   "cell_type": "code",
   "execution_count": null,
   "metadata": {
    "collapsed": false
   },
   "outputs": [],
   "source": [
    "mdm[(mdm.source != 'registry') & ~pd.isnull(mdm['Variable Name'])][['Variable Name']]"
   ]
  },
  {
   "cell_type": "code",
   "execution_count": null,
   "metadata": {
    "collapsed": false
   },
   "outputs": [],
   "source": [
    "pd.DataFrame(dict(name=mdm['Variable Name'].unique()))"
   ]
  }
 ],
 "metadata": {
  "kernelspec": {
   "display_name": "Python 2",
   "language": "python",
   "name": "python2"
  },
  "language_info": {
   "codemirror_mode": {
    "name": "ipython",
    "version": 2
   },
   "file_extension": ".py",
   "mimetype": "text/x-python",
   "name": "python",
   "nbconvert_exporter": "python",
   "pygments_lexer": "ipython2",
   "version": "2.7.12"
  }
 },
 "nbformat": 4,
 "nbformat_minor": 0
}
