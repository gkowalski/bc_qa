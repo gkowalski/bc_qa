{
 "cells": [
  {
   "cell_type": "code",
   "execution_count": null,
   "metadata": {
    "collapsed": true
   },
   "outputs": [],
   "source": [
    "from xml.etree import ElementTree as ET\n",
    "import re"
   ]
  },
  {
   "cell_type": "code",
   "execution_count": null,
   "metadata": {
    "collapsed": false
   },
   "outputs": [],
   "source": [
    "import pandas as pd\n",
    "dict(pandas=pd.__version__)"
   ]
  },
  {
   "cell_type": "code",
   "execution_count": null,
   "metadata": {
    "collapsed": true
   },
   "outputs": [],
   "source": [
    "def file_access():\n",
    "    from pathlib import Path\n",
    "    return Path('.')\n",
    "cwd = file_access()"
   ]
  },
  {
   "cell_type": "markdown",
   "metadata": {},
   "source": [
    "## Babel DB Access"
   ]
  },
  {
   "cell_type": "code",
   "execution_count": null,
   "metadata": {
    "collapsed": false,
    "scrolled": true
   },
   "outputs": [],
   "source": [
    "def db_access(key='BABEL_DB'):\n",
    "    from os import getenv, environ\n",
    "    from sqlalchemy import create_engine\n",
    "\n",
    "    url = getenv(key)\n",
    "    if not url:\n",
    "        raise IOError(key)\n",
    "    return create_engine(url)\n",
    "\n",
    "babel_db = db_access()\n",
    "babel_db.execute('select 1+1').fetchone()"
   ]
  },
  {
   "cell_type": "markdown",
   "metadata": {},
   "source": [
    "## Data Dictionary"
   ]
  },
  {
   "cell_type": "markdown",
   "metadata": {},
   "source": [
    "### i2b2 query: BC Phase 2e of Dec 17, 2015"
   ]
  },
  {
   "cell_type": "code",
   "execution_count": null,
   "metadata": {
    "collapsed": true
   },
   "outputs": [],
   "source": [
    "bc295 = cwd / 'bc295_query_definition.xml'"
   ]
  },
  {
   "cell_type": "code",
   "execution_count": null,
   "metadata": {
    "collapsed": false
   },
   "outputs": [],
   "source": [
    "def strip_counts(label):\n",
    "    return None if label is None else re.sub(r' \\[[<\\d].*', '', label)\n",
    "[strip_counts(txt)\n",
    " for txt in ['[AN000] ANTINEOPLASTICS [2,134,661 facts',\n",
    "             '07 [<10 facts]']]"
   ]
  },
  {
   "cell_type": "code",
   "execution_count": null,
   "metadata": {
    "collapsed": false
   },
   "outputs": [],
   "source": [
    "def item_ont(item_key):\n",
    "    part = item_key.split('\\\\')\n",
    "    return part[5] if part[4] == 'naaccr' and part[5] == 'SEER Site' else part[4]\n",
    "\n",
    "item_ont(r'\\\\i2b2_Medications\\i2b2\\Medications\\RXAUI:3257')"
   ]
  },
  {
   "cell_type": "markdown",
   "metadata": {},
   "source": [
    "@@TODO: site-specific factors?"
   ]
  },
  {
   "cell_type": "code",
   "execution_count": null,
   "metadata": {
    "collapsed": false,
    "scrolled": true
   },
   "outputs": [],
   "source": [
    "with bc295.open() as s:\n",
    "    qdef = ET.parse(s).getroot()\n",
    "\n",
    "def e2d(e, keys):\n",
    "    get = lambda ty, e: None if e is None else ty(e.text)\n",
    "    return [(k, get(ty, e.find(k))) for (k, ty) in keys]\n",
    "\n",
    "#panel_cols = [('panel_number', int),\n",
    "#             ('invert', int),\n",
    "#             ('panel_date_from', str),\n",
    "#             ('panel_timing', str)]  # categorical\n",
    "item_cols = [('hlevel', int),\n",
    "             ('item_name', str),\n",
    "             ('item_key', str),\n",
    "             #('item_icon', str),  # categorical\n",
    "             ('tooltip', str),\n",
    "             #('class', str),\n",
    "             #('item_is_synonym', bool)\n",
    "            ]\n",
    "qitem = pd.DataFrame([dict(# e2d(panel, panel_cols) +\n",
    "                           e2d(item, item_cols))\n",
    "              # for panel in qdef.iter('panel')\n",
    "              for item in qdef.iter('item')])\n",
    "\n",
    "\n",
    "qitem['short_name'] = qitem.item_name.apply(strip_counts)\n",
    "del qitem['item_name']\n",
    "qitem = qitem.sort_values('item_key').drop_duplicates().reset_index(drop=True)\n",
    "qitem['ont'] = qitem.item_key.apply(item_ont)\n",
    "\n",
    "qitem.tail()"
   ]
  },
  {
   "cell_type": "code",
   "execution_count": null,
   "metadata": {
    "collapsed": false
   },
   "outputs": [],
   "source": [
    "qitem.tooltip.unique()"
   ]
  },
  {
   "cell_type": "code",
   "execution_count": null,
   "metadata": {
    "collapsed": false
   },
   "outputs": [],
   "source": [
    "qitem.groupby('ont')[['item_key']].count()"
   ]
  },
  {
   "cell_type": "code",
   "execution_count": null,
   "metadata": {
    "collapsed": false
   },
   "outputs": [],
   "source": [
    "qitem.set_value(qitem.ont == 'naaccr', 'naaccr_item', qitem.short_name.apply(lambda s: s[:4]))\n",
    "qitem[qitem.ont == 'naaccr'].head()"
   ]
  },
  {
   "cell_type": "code",
   "execution_count": null,
   "metadata": {
    "collapsed": false
   },
   "outputs": [],
   "source": [
    "qitem[qitem.naaccr_item == '0380']"
   ]
  },
  {
   "cell_type": "code",
   "execution_count": null,
   "metadata": {
    "collapsed": false
   },
   "outputs": [],
   "source": [
    "redcap_cols = pd.read_csv((cwd / 'redcap_ddict_prototype.csv').open(), nrows=0)\n",
    "\n",
    "bc2_ddict = pd.DataFrame(data={'Field Label': qitem.short_name}, columns=redcap_cols.columns)\n",
    "#bc2_ddict['Variable / Field Name'] = None\n",
    "#bc2_ddict['Form Name'] = None\n",
    "bc2_ddict.head()"
   ]
  },
  {
   "cell_type": "markdown",
   "metadata": {},
   "source": [
    "## Demographics"
   ]
  },
  {
   "cell_type": "code",
   "execution_count": null,
   "metadata": {
    "collapsed": false
   },
   "outputs": [],
   "source": [
    "bc2_ddict.set_value((qitem.ont == 'Demographics') |\n",
    "                    (qitem.tooltip == 'Cancer Cases \\\\ 02 Demographic')\n",
    "                    , 'Form Name', 'Demographics')\n",
    "bc2_ddict[bc2_ddict['Form Name'] == 'Demographics'][['Form Name', 'Field Label', 'Field Type']]"
   ]
  },
  {
   "cell_type": "markdown",
   "metadata": {},
   "source": [
    "demographics TODOs@@:\n",
    "\n",
    "  - codes for gender, rase, ...\n",
    "  - codes from naaccr\n",
    "  - group naaccr race with EMR race?"
   ]
  },
  {
   "cell_type": "markdown",
   "metadata": {},
   "source": [
    "## Vitals"
   ]
  },
  {
   "cell_type": "code",
   "execution_count": null,
   "metadata": {
    "collapsed": false
   },
   "outputs": [],
   "source": [
    "bc2_ddict.set_value(qitem.ont == 'Visit Details', 'Form Name', 'Visit Vitals')\n",
    "bc2_ddict[bc2_ddict['Form Name'] == 'Visit Vitals'][['Form Name', 'Field Label']]"
   ]
  },
  {
   "cell_type": "markdown",
   "metadata": {},
   "source": [
    "@@vitals todos:\n",
    "  - baseline, 1 year, two years\n",
    "  - field type, validation"
   ]
  },
  {
   "cell_type": "code",
   "execution_count": null,
   "metadata": {
    "collapsed": false
   },
   "outputs": [],
   "source": [
    "x = pd.DataFrame(dict(form=bc2_ddict['Form Name'],\n",
    "                      tooltip=qitem.tooltip,\n",
    "                      name=qitem.short_name,\n",
    "                     ont=qitem.ont),\n",
    "                columns='ont form tooltip name'.split())\n",
    "x[pd.isnull(x.form) & ~qitem.ont.isin(['Diagnoses', 'Procedures', 'Medications'])]\n"
   ]
  },
  {
   "cell_type": "markdown",
   "metadata": {},
   "source": [
    "### @@other"
   ]
  },
  {
   "cell_type": "code",
   "execution_count": null,
   "metadata": {
    "collapsed": false
   },
   "outputs": [],
   "source": [
    "qitem[~qitem.ont.isin(['naaccr', 'Diagnoses', 'Procedures'])][q_nice_cols]"
   ]
  },
  {
   "cell_type": "markdown",
   "metadata": {},
   "source": [
    "## NAACCR codes, labels"
   ]
  },
  {
   "cell_type": "code",
   "execution_count": null,
   "metadata": {
    "collapsed": true
   },
   "outputs": [],
   "source": [
    "def gpc_std(item_keys,\n",
    "            c_table_cd='GPC'):\n",
    "    return item_keys.apply(lambda k: '\\\\' + c_table_cd + '\\\\' + k.split('\\\\', 4)[-1])\n",
    "\n",
    "def path_constraint(terms,\n",
    "                    c_table_cd='GPC'):\n",
    "    paths = gpc_std(terms.item_key, c_table_cd=c_table_cd)\n",
    "    params = dict(('param' + str(ix), path)\n",
    "                  for (ix, path) in enumerate(paths))\n",
    "    expr = ', '.join('%({0})s'.format(k) for k in params.keys())\n",
    "    return expr, params"
   ]
  },
  {
   "cell_type": "code",
   "execution_count": null,
   "metadata": {
    "collapsed": false
   },
   "outputs": [],
   "source": [
    "#@@TODO: test the data dictionary (seq no. 0) vs i2b2 paths (\\00)\n",
    "pd.read_sql(r'''\n",
    "  select c_hlevel, c_name, c_fullname, c_tooltip, c_basecode\n",
    "  from i2b2metadata.kumc_terms\n",
    "  where c_fullname like '%%\\naaccr\\S:1 %%' escape '@'\n",
    "  and c_fullname like '%%0380%%'\n",
    "  order by c_fullname\n",
    "limit 10\n",
    "''', babel_db)"
   ]
  },
  {
   "cell_type": "code",
   "execution_count": null,
   "metadata": {
    "collapsed": false
   },
   "outputs": [],
   "source": [
    "expr, params = path_constraint(qitem[qitem.ont == 'naaccr'], c_table_cd='i2b2')\n",
    "naaccr_relevant = pd.read_sql(r'''\n",
    "with tr_terms as (\n",
    "  select c_hlevel, c_name, c_fullname, c_tooltip, c_basecode\n",
    "  from i2b2metadata.utsw_terms\n",
    "  where c_fullname like '\\i2b2\\naaccr\\S:%%' escape '@'\n",
    ")\n",
    ", tr_section as (\n",
    "  select c_hlevel, c_fullname, c_name section_name_\n",
    "  from i2b2metadata.heron_terms\n",
    "  where c_fullname like '\\i2b2\\naaccr\\S:%%' escape '@'\n",
    "  and c_hlevel = 2\n",
    ")\n",
    ", q_var as (\n",
    "  select c_hlevel, c_name, c_fullname, c_tooltip\n",
    "  from tr_terms\n",
    "  where c_fullname in ({expr})\n",
    ")\n",
    "\n",
    "select q_var.*, tr_section.section_name_, sub.c_hlevel val_level, sub.c_name val_name_, sub.c_fullname val_path, sub.c_basecode\n",
    "from q_var\n",
    "join tr_section on q_var.c_fullname like (tr_section.c_fullname || '%%') escape '@'\n",
    "left join tr_terms sub\n",
    "    on sub.c_fullname like (q_var.c_fullname || '%%') escape '@'\n",
    "   and sub.c_hlevel > q_var.c_hlevel\n",
    "order by q_var.c_fullname, sub.c_fullname\n",
    "'''.format(expr=expr), babel_db, params=params)"
   ]
  },
  {
   "cell_type": "code",
   "execution_count": null,
   "metadata": {
    "collapsed": false
   },
   "outputs": [],
   "source": [
    "len(naaccr_relevant)"
   ]
  },
  {
   "cell_type": "code",
   "execution_count": null,
   "metadata": {
    "collapsed": false
   },
   "outputs": [],
   "source": [
    "naaccr_relevant['naaccr_item'] = naaccr_relevant.c_name.apply(lambda n: n[:4] if n is not None else None)\n",
    "naaccr_relevant['section'] = naaccr_relevant.section_name_.apply(strip_counts)\n",
    "naaccr_relevant['var_name'] = naaccr_relevant.c_name.apply(strip_counts)\n",
    "naaccr_relevant['val_name'] = naaccr_relevant.val_name_.apply(strip_counts)"
   ]
  },
  {
   "cell_type": "code",
   "execution_count": null,
   "metadata": {
    "collapsed": false
   },
   "outputs": [],
   "source": [
    "def naaccr_choice_codes(terms):\n",
    "    return [\n",
    "        (None if term.val_path is None else\n",
    "         term.val_path.split('\\\\')[int(term.val_level + 1)].split(' ', 1)[0])\n",
    "        for (_, term) in terms.iterrows()]\n",
    "\n",
    "naaccr_relevant['choice_code'] = naaccr_choice_codes(naaccr_relevant)"
   ]
  },
  {
   "cell_type": "markdown",
   "metadata": {},
   "source": [
    "### Date variables from the Tumor Registry (@@TODO)"
   ]
  },
  {
   "cell_type": "code",
   "execution_count": null,
   "metadata": {
    "collapsed": false,
    "scrolled": true
   },
   "outputs": [],
   "source": [
    "naaccr_relevant[pd.isnull(naaccr_relevant.choice_code) &\n",
    "                naaccr_relevant.var_name.str.contains('Date')][['section', 'var_name']]"
   ]
  },
  {
   "cell_type": "markdown",
   "metadata": {},
   "source": [
    "### Nominal values and labels from the Tumor Registry ontology"
   ]
  },
  {
   "cell_type": "code",
   "execution_count": null,
   "metadata": {
    "collapsed": false
   },
   "outputs": [],
   "source": [
    "naaccr_relevant[~pd.isnull(naaccr_relevant.choice_code)][['section', 'var_name']].drop_duplicates().reset_index()"
   ]
  },
  {
   "cell_type": "code",
   "execution_count": null,
   "metadata": {
    "collapsed": false,
    "scrolled": true
   },
   "outputs": [],
   "source": [
    "naaccr_relevant.sort_values(['section', 'naaccr_item', 'choice_code'])[['section', 'naaccr_item', 'var_name', 'choice_code', 'val_name']]"
   ]
  },
  {
   "cell_type": "code",
   "execution_count": null,
   "metadata": {
    "collapsed": false
   },
   "outputs": [],
   "source": [
    "naaccr_relevant[naaccr_relevant.naaccr_item == '2940'][['section', 'naaccr_item', 'var_name', 'choice_code', 'val_name']]"
   ]
  },
  {
   "cell_type": "markdown",
   "metadata": {},
   "source": [
    "#### Medications: Antineoplastics, Hormones"
   ]
  },
  {
   "cell_type": "code",
   "execution_count": null,
   "metadata": {
    "collapsed": false,
    "scrolled": false
   },
   "outputs": [],
   "source": [
    "qitem[qitem.ont == 'Medications'][q_nice_cols]"
   ]
  },
  {
   "cell_type": "code",
   "execution_count": null,
   "metadata": {
    "collapsed": false
   },
   "outputs": [],
   "source": [
    "expr, params = path_constraint(qitem[qitem.ont == 'Medications'])\n",
    "pd.read_sql(r'''\n",
    "select *\n",
    "from i2b2metadata.gpc_terms\n",
    "where c_fullname in ({expr})\n",
    "limit 100\n",
    "'''.format(expr=expr), babel_db, params=params)"
   ]
  },
  {
   "cell_type": "code",
   "execution_count": null,
   "metadata": {
    "collapsed": false
   },
   "outputs": [],
   "source": [
    "# Note %s have to be doubled in sqlalchemy API\n",
    "sql = r'''\n",
    "with va_top as (\n",
    "  select *\n",
    "  from i2b2metadata.gpc_terms\n",
    "  where c_fullname in ({paths})\n",
    ")\n",
    ", va_class as (\n",
    "  select sub.c_hlevel, sub.c_basecode, sub.c_name, sub.c_fullname\n",
    "  from i2b2metadata.gpc_terms sub\n",
    "  join va_top on sub.c_fullname like (va_top.c_fullname || '%%') escape '@'\n",
    "  where sub.c_name like '[%%]%%'\n",
    ")\n",
    "select * from va_class\n",
    "order by c_fullname\n",
    "limit 100\n",
    "'''.format(paths=expr)\n",
    "med_va_class = pd.read_sql(sql, babel_db, params=params)\n",
    "med_va_class['code'] = med_va_class.c_name.apply(lambda s: s.split('] ')[0][1:])\n",
    "med_va_class.set_index('code')[['c_name']]"
   ]
  },
  {
   "cell_type": "code",
   "execution_count": null,
   "metadata": {
    "collapsed": false,
    "scrolled": true
   },
   "outputs": [],
   "source": [
    "# Note %s have to be doubled in sqlalchemy API\n",
    "sql = r'''\n",
    "with va_top as (\n",
    "  select *\n",
    "  from i2b2metadata.gpc_terms\n",
    "  where c_fullname in ({paths})\n",
    ")\n",
    ", va_class as (\n",
    "  select sub.c_hlevel, sub.c_basecode, sub.c_name, sub.c_fullname\n",
    "  from i2b2metadata.gpc_terms sub\n",
    "  join va_top on sub.c_fullname like (va_top.c_fullname || '%%') escape '@'\n",
    "  where sub.c_name like '[%%]%%'\n",
    ")\n",
    ", rx as (\n",
    "  select sub.c_hlevel, sub.c_basecode, sub.c_name\n",
    "       , substr(va_class.c_name, 2, 5) va_class_code\n",
    "       , sub.c_fullname\n",
    "  from i2b2metadata.gpc_terms sub\n",
    "  join va_class\n",
    "    on sub.c_fullname like (va_class.c_fullname || '%%') escape '@'\n",
    "   and sub.c_hlevel = va_class.c_hlevel + 1\n",
    "  where sub.c_name not like '[%%]%%'\n",
    ")\n",
    "select distinct * from rx\n",
    "order by va_class_code, c_basecode\n",
    "'''.format(paths=expr)\n",
    "rx = pd.read_sql(sql, babel_db, params=params)\n",
    "print 'distinct drugs:', len(rx)\n",
    "print 'hlevels:', rx.c_hlevel.unique()\n",
    "rx['rxcui'] = rx.c_basecode.apply(lambda s: s.split(':')[1])"
   ]
  },
  {
   "cell_type": "markdown",
   "metadata": {},
   "source": [
    "#### Unique Drugs: eliminating polyhierarchy"
   ]
  },
  {
   "cell_type": "code",
   "execution_count": null,
   "metadata": {
    "collapsed": false
   },
   "outputs": [],
   "source": [
    "len(rx.rxcui), len(rx.rxcui.unique())"
   ]
  },
  {
   "cell_type": "code",
   "execution_count": null,
   "metadata": {
    "collapsed": false
   },
   "outputs": [],
   "source": [
    "rx.sort_values('rxcui', inplace=True)\n",
    "dup_cuis = rx[rx.rxcui.duplicated()].rxcui\n",
    "rx[rx.rxcui.isin(dup_cuis)]"
   ]
  },
  {
   "cell_type": "code",
   "execution_count": null,
   "metadata": {
    "collapsed": false
   },
   "outputs": [],
   "source": [
    "#rx1 = pd.DataFrame(dict(va_class_code=rx.groupby('rxcui').va_class_code.min()))\n",
    "rx1 = rx.groupby('rxcui')[['va_class_code', 'c_name']].min()\n",
    "print len(rx1)\n",
    "rx1.head()"
   ]
  },
  {
   "cell_type": "code",
   "execution_count": null,
   "metadata": {
    "collapsed": false,
    "scrolled": true
   },
   "outputs": [],
   "source": [
    "rx1['label'] = ['[{vc}] RXCUI:{cui} {drug}'.format(vc=drug.va_class_code, cui=rxcui, drug=drug.c_name)\n",
    "                for (rxcui, drug) in rx1.iterrows()]\n",
    "rx1.sort_values(['va_class_code', 'c_name'], inplace=True)\n",
    "rx1.head(20)[['va_class_code', 'c_name', 'label']]"
   ]
  },
  {
   "cell_type": "markdown",
   "metadata": {},
   "source": [
    "## Data Dictionary for REDCap"
   ]
  },
  {
   "cell_type": "code",
   "execution_count": null,
   "metadata": {
    "collapsed": false
   },
   "outputs": [],
   "source": [
    "ddict_prototype = pd.read_csv((cwd / 'redcap_ddict_prototype.csv').open()).set_index(u'Variable / Field Name')\n",
    "ddict_prototype.columns"
   ]
  },
  {
   "cell_type": "code",
   "execution_count": null,
   "metadata": {
    "collapsed": false
   },
   "outputs": [],
   "source": [
    "def choices(series):\n",
    "    return ' | '.join('{code}, {label}'.format(code=code, label=label)\n",
    "               for (code, label) in series.iteritems())"
   ]
  },
  {
   "cell_type": "code",
   "execution_count": null,
   "metadata": {
    "collapsed": false
   },
   "outputs": [],
   "source": [
    "med_ddict = ddict_prototype.copy()\n",
    "med_ddict.set_value('va_class', u'Choices, Calculations, OR Slider Labels', choices(med_va_class.set_index('code').c_name))\n",
    "med_ddict.set_value('rxcui', u'Choices, Calculations, OR Slider Labels', choices(rx1.label))\n",
    "\n",
    "med_ddict.to_csv('med_exposure_ddict.csv')\n",
    "med_ddict"
   ]
  },
  {
   "cell_type": "markdown",
   "metadata": {},
   "source": [
    "### Data Management Spreadsheet Dec 2015"
   ]
  },
  {
   "cell_type": "code",
   "execution_count": null,
   "metadata": {
    "collapsed": false
   },
   "outputs": [],
   "source": [
    "# https://informatics.gpcnetwork.org/trac/Project/attachment/ticket/295/BC-MasterDataManagement.xlsx\n",
    "# 2015-12-16T11:58:36-05:00\n",
    "mdm = pd.read_excel('BC-MasterDataManagement.xlsx')\n",
    "mdm.head()"
   ]
  },
  {
   "cell_type": "code",
   "execution_count": null,
   "metadata": {
    "collapsed": false
   },
   "outputs": [],
   "source": [
    "mdm[(mdm.source != 'registry') & ~pd.isnull(mdm['Variable Name'])][['Variable Name']]"
   ]
  },
  {
   "cell_type": "code",
   "execution_count": null,
   "metadata": {
    "collapsed": false
   },
   "outputs": [],
   "source": [
    "pd.DataFrame(dict(name=mdm['Variable Name'].unique()))"
   ]
  }
 ],
 "metadata": {
  "kernelspec": {
   "display_name": "Python 2",
   "language": "python",
   "name": "python2"
  },
  "language_info": {
   "codemirror_mode": {
    "name": "ipython",
    "version": 2
   },
   "file_extension": ".py",
   "mimetype": "text/x-python",
   "name": "python",
   "nbconvert_exporter": "python",
   "pygments_lexer": "ipython2",
   "version": "2.7.12"
  }
 },
 "nbformat": 4,
 "nbformat_minor": 0
}
