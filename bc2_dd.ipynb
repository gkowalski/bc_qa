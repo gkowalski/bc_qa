{
 "cells": [
  {
   "cell_type": "code",
   "execution_count": null,
   "metadata": {
    "collapsed": true
   },
   "outputs": [],
   "source": [
    "from xml.etree import ElementTree as ET\n",
    "import re"
   ]
  },
  {
   "cell_type": "code",
   "execution_count": null,
   "metadata": {
    "collapsed": false
   },
   "outputs": [],
   "source": [
    "import pandas as pd\n",
    "dict(pandas=pd.__version__)"
   ]
  },
  {
   "cell_type": "markdown",
   "metadata": {},
   "source": [
    "## Babel DB Access"
   ]
  },
  {
   "cell_type": "code",
   "execution_count": null,
   "metadata": {
    "collapsed": false,
    "scrolled": true
   },
   "outputs": [],
   "source": [
    "def db_access(key='BABEL_DB'):\n",
    "    from os import getenv, environ\n",
    "    from sqlalchemy import create_engine\n",
    "\n",
    "    url = getenv(key)\n",
    "    if not url:\n",
    "        raise IOError(key)\n",
    "    return create_engine(url)\n",
    "\n",
    "babel_db = db_access()\n",
    "babel_db.execute('select 1+1').fetchone()"
   ]
  },
  {
   "cell_type": "markdown",
   "metadata": {},
   "source": [
    "## Data Dictionary"
   ]
  },
  {
   "cell_type": "markdown",
   "metadata": {},
   "source": [
    "### i2b2 query"
   ]
  },
  {
   "cell_type": "code",
   "execution_count": null,
   "metadata": {
    "collapsed": true
   },
   "outputs": [],
   "source": [
    "def file_access():\n",
    "    from pathlib import Path\n",
    "    return Path('.')\n",
    "cwd = file_access()"
   ]
  },
  {
   "cell_type": "code",
   "execution_count": null,
   "metadata": {
    "collapsed": false
   },
   "outputs": [],
   "source": [
    "def strip_counts(label):\n",
    "    return re.sub(r'\\[\\d.*', '', label)\n",
    "strip_counts('[AN000] ANTINEOPLASTICS [2,134,661 facts')"
   ]
  },
  {
   "cell_type": "code",
   "execution_count": null,
   "metadata": {
    "collapsed": false
   },
   "outputs": [],
   "source": [
    "def item_ont(item_key):\n",
    "    return item_key.split('\\\\')[4]\n",
    "\n",
    "item_ont(r'\\\\i2b2_Medications\\i2b2\\Medications\\RXAUI:3257')"
   ]
  },
  {
   "cell_type": "code",
   "execution_count": null,
   "metadata": {
    "collapsed": false,
    "scrolled": true
   },
   "outputs": [],
   "source": [
    "with (cwd / 'bc295_query_definition.xml').open() as s:\n",
    "    qdef = ET.parse(s).getroot()\n",
    "\n",
    "def e2d(e, keys):\n",
    "    get = lambda ty, e: None if e is None else ty(e.text)\n",
    "    return [(k, get(ty, e.find(k))) for (k, ty) in keys]\n",
    "\n",
    "panel_cols = [('panel_number', int),\n",
    "             ('invert', int),\n",
    "             ('panel_date_from', str),\n",
    "             ('panel_timing', str)]  # categorical\n",
    "item_cols = [('hlevel', int),\n",
    "             ('item_name', str),\n",
    "             ('item_key', str),\n",
    "             ('item_icon', str),  # categorical\n",
    "             ('tooltip', str),\n",
    "             ('class', str),\n",
    "             ('item_is_synonym', bool)]\n",
    "qitem = pd.DataFrame([dict(e2d(panel, panel_cols) + e2d(item, item_cols))\n",
    "              for panel in qdef.iter('panel')\n",
    "              for item in panel.iter('item')])\n",
    "\n",
    "\n",
    "qitem['short_name'] = qitem.item_name.apply(strip_counts)\n",
    "qitem['ont'] = qitem.item_key.apply(item_ont)\n",
    "\n",
    "qitem[['panel_number', 'hlevel', 'ont', 'tooltip', 'short_name']]"
   ]
  },
  {
   "cell_type": "code",
   "execution_count": null,
   "metadata": {
    "collapsed": false
   },
   "outputs": [],
   "source": [
    "qitem[~qitem.ont.isin(['naaccr', 'Diagnoses', 'Procedures'])][['panel_number', 'hlevel', 'ont', 'tooltip', 'short_name']]"
   ]
  },
  {
   "cell_type": "code",
   "execution_count": null,
   "metadata": {
    "collapsed": false
   },
   "outputs": [],
   "source": [
    "qitem.iloc[46]"
   ]
  },
  {
   "cell_type": "markdown",
   "metadata": {},
   "source": [
    "### Data Management Spreadsheet Dec 2015"
   ]
  },
  {
   "cell_type": "code",
   "execution_count": null,
   "metadata": {
    "collapsed": false
   },
   "outputs": [],
   "source": [
    "# https://informatics.gpcnetwork.org/trac/Project/attachment/ticket/295/BC-MasterDataManagement.xlsx\n",
    "# 2015-12-16T11:58:36-05:00\n",
    "mdm = pd.read_excel('BC-MasterDataManagement.xlsx')\n",
    "mdm.head()"
   ]
  },
  {
   "cell_type": "code",
   "execution_count": null,
   "metadata": {
    "collapsed": false
   },
   "outputs": [],
   "source": [
    "mdm[(mdm.source != 'registry') & ~pd.isnull(mdm['Variable Name'])][['Variable Name']]"
   ]
  },
  {
   "cell_type": "code",
   "execution_count": null,
   "metadata": {
    "collapsed": false
   },
   "outputs": [],
   "source": [
    "pd.DataFrame(dict(name=mdm['Variable Name'].unique()))"
   ]
  }
 ],
 "metadata": {
  "kernelspec": {
   "display_name": "Python 2",
   "language": "python",
   "name": "python2"
  },
  "language_info": {
   "codemirror_mode": {
    "name": "ipython",
    "version": 2
   },
   "file_extension": ".py",
   "mimetype": "text/x-python",
   "name": "python",
   "nbconvert_exporter": "python",
   "pygments_lexer": "ipython2",
   "version": "2.7.12"
  }
 },
 "nbformat": 4,
 "nbformat_minor": 0
}
