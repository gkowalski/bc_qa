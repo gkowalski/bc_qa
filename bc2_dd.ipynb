{
 "cells": [
  {
   "cell_type": "markdown",
   "metadata": {},
   "source": [
    "# GPC Breast Cancer EMR and Tumor Registry Data Dictionary\n",
    "\n",
    "@@TODO: links to context"
   ]
  },
  {
   "cell_type": "markdown",
   "metadata": {},
   "source": [
    "## Preface: PyData Scientific Python Tools\n",
    "\n",
    "See also [PyData](http://pydata.org/)."
   ]
  },
  {
   "cell_type": "code",
   "execution_count": null,
   "metadata": {
    "collapsed": true
   },
   "outputs": [],
   "source": [
    "# python standard library\n",
    "from xml.etree import ElementTree as ET\n",
    "import re"
   ]
  },
  {
   "cell_type": "code",
   "execution_count": null,
   "metadata": {
    "collapsed": false
   },
   "outputs": [],
   "source": [
    "import pandas as pd\n",
    "dict(pandas=pd.__version__)"
   ]
  },
  {
   "cell_type": "markdown",
   "metadata": {},
   "source": [
    "## Record-per-tumor project"
   ]
  },
  {
   "cell_type": "code",
   "execution_count": null,
   "metadata": {
    "collapsed": true
   },
   "outputs": [],
   "source": [
    "#@@ TODO: Identifier? = yes for date fields"
   ]
  },
  {
   "cell_type": "code",
   "execution_count": null,
   "metadata": {
    "collapsed": true
   },
   "outputs": [],
   "source": [
    "def file_access():\n",
    "    from pathlib import Path\n",
    "    return Path('.')\n",
    "cwd = file_access()"
   ]
  },
  {
   "cell_type": "code",
   "execution_count": null,
   "metadata": {
    "collapsed": false
   },
   "outputs": [],
   "source": [
    "bc_tumor_fields = pd.read_csv((cwd / 'bc_codebook_ddict.csv').open()).set_index('field_name')\n",
    "\n",
    "bc_tumor_fields['v_num'] = bc_tumor_fields.index.str.extract(r'v(\\d{2,3})_').astype('int')\n",
    "bc_tumor_fields['naaccr_item'] = bc_tumor_fields.index.str.extract(r'v\\d{2,3}_(\\d{3,4})_').astype('float32')\n",
    "\n",
    "bc_tumor_fields[['form_name', 'field_type', 'field_label', 'field_note']].head()"
   ]
  },
  {
   "cell_type": "code",
   "execution_count": null,
   "metadata": {
    "collapsed": false
   },
   "outputs": [],
   "source": [
    "bc_tumor_fields[['v_num', 'naaccr_item']].head(15)"
   ]
  },
  {
   "cell_type": "code",
   "execution_count": null,
   "metadata": {
    "collapsed": false
   },
   "outputs": [],
   "source": [
    "bc_tumor_fields[pd.isnull(bc_tumor_fields.naaccr_item)][[0, 1, 2, 3]]"
   ]
  },
  {
   "cell_type": "code",
   "execution_count": null,
   "metadata": {
    "collapsed": false
   },
   "outputs": [],
   "source": [
    "def parse_choices(txt):\n",
    "    return [tuple(item.split(', ', 1))\n",
    "            for item in txt.split('\\n')]\n",
    "\n",
    "ddict_choices = pd.DataFrame([\n",
    "        dict(choice_code=code, code_label=label,\n",
    "            naaccr_item=field.naaccr_item,\n",
    "            field_label=field.field_label)\n",
    "        for (name, field) in bc_tumor_fields[~pd.isnull(bc_tumor_fields.naaccr_item)].iterrows()\n",
    "        if not pd.isnull(field.select_choices_or_calculations)\n",
    "        for (code, label) in parse_choices(field.select_choices_or_calculations)\n",
    "    ],\n",
    "            columns=['naaccr_item', 'field_label', 'choice_code', 'code_label'])\n",
    "\n",
    "ddict_choices.head()"
   ]
  },
  {
   "cell_type": "markdown",
   "metadata": {},
   "source": [
    "### Babel DB Access"
   ]
  },
  {
   "cell_type": "code",
   "execution_count": null,
   "metadata": {
    "collapsed": false,
    "scrolled": true
   },
   "outputs": [],
   "source": [
    "def db_access(key='BABEL_DB'):\n",
    "    from os import getenv, environ\n",
    "    from sqlalchemy import create_engine\n",
    "\n",
    "    url = getenv(key)\n",
    "    if not url:\n",
    "        raise IOError(key)\n",
    "    return create_engine(url)\n",
    "\n",
    "babel_db = db_access()\n",
    "babel_db.execute('select 1+1').fetchone()"
   ]
  },
  {
   "cell_type": "markdown",
   "metadata": {},
   "source": [
    "## NAACCR codes, labels"
   ]
  },
  {
   "cell_type": "code",
   "execution_count": null,
   "metadata": {
    "collapsed": false,
    "scrolled": true
   },
   "outputs": [],
   "source": [
    "t_item = pd.read_sql('''\n",
    "-- \"Description\"\n",
    "select \"ItemNbr\", \"ItemName\",  \"SectionID\", \"FieldLength\", \"Format\", \"AllowValue\"\n",
    "from naaccr.t_item\n",
    "''', babel_db)\n",
    "t_item['item'] = t_item.ItemNbr.astype('int')\n",
    "t_item = t_item.set_index('item')\n",
    "t_item['FieldLength'] = t_item.FieldLength.astype('float64')\n",
    "t_item.head()"
   ]
  },
  {
   "cell_type": "code",
   "execution_count": null,
   "metadata": {
    "collapsed": false
   },
   "outputs": [],
   "source": [
    "t_item.loc[747]"
   ]
  },
  {
   "cell_type": "code",
   "execution_count": null,
   "metadata": {
    "collapsed": false
   },
   "outputs": [],
   "source": [
    "x = ddict_choices[['naaccr_item', 'field_label', 'choice_code']].copy()\n",
    "x['code_len'] = x.choice_code.str.len()\n",
    "x = x.merge(t_item[['FieldLength']], left_on='naaccr_item', right_index=True, how='left')\n",
    "x[x.code_len != x.FieldLength]"
   ]
  },
  {
   "cell_type": "code",
   "execution_count": null,
   "metadata": {
    "collapsed": true
   },
   "outputs": [],
   "source": [
    "def gpc_std(item_keys,\n",
    "            c_table_cd='GPC'):\n",
    "    return item_keys.apply(lambda k: '\\\\' + c_table_cd + '\\\\' + k.split('\\\\', 4)[-1])\n",
    "\n",
    "def path_constraint(terms,\n",
    "                    c_table_cd='GPC'):\n",
    "    paths = gpc_std(terms.item_key, c_table_cd=c_table_cd)\n",
    "    params = dict(('param' + str(ix), path)\n",
    "                  for (ix, path) in enumerate(paths))\n",
    "    expr = ', '.join('%({0})s'.format(k) for k in params.keys())\n",
    "    return expr, params"
   ]
  },
  {
   "cell_type": "code",
   "execution_count": null,
   "metadata": {
    "collapsed": false
   },
   "outputs": [],
   "source": [
    "naaccr_relevant = pd.read_sql(r'''\n",
    "  select c_hlevel, c_name, c_fullname, c_tooltip, c_basecode\n",
    "  from i2b2metadata.heron_terms\n",
    "  where c_fullname like '\\i2b2\\naaccr\\S:%%' escape '@'\n",
    "  and c_basecode like 'NAACCR|%%:_%%'\n",
    "  order by c_fullname\n",
    "''', babel_db)\n",
    "\n",
    "len(naaccr_relevant)"
   ]
  },
  {
   "cell_type": "code",
   "execution_count": null,
   "metadata": {
    "collapsed": false
   },
   "outputs": [],
   "source": [
    "def strip_counts(label):\n",
    "    return None if label is None else re.sub(r' \\[[<\\d].*', '', label)\n",
    "\n",
    "[strip_counts(txt)\n",
    " for txt in ['[AN000] ANTINEOPLASTICS [2,134,661 facts',\n",
    "             '07 [<10 facts]']]"
   ]
  },
  {
   "cell_type": "code",
   "execution_count": null,
   "metadata": {
    "collapsed": false
   },
   "outputs": [],
   "source": [
    "def strip_weird_star(txt):\n",
    "    return txt.replace('0*', '0')\n",
    "\n",
    "# @@@@@@@@TODO: what is up with this 0610 * stuff????\n",
    "strip_weird_star('00* Initial diagnosis at the reporting facility...')"
   ]
  },
  {
   "cell_type": "code",
   "execution_count": null,
   "metadata": {
    "collapsed": true
   },
   "outputs": [],
   "source": [
    "naaccr_relevant['naaccr_item'] = naaccr_relevant.c_basecode.apply(lambda c: int(c.split('|')[1].split(':')[0]))\n",
    "naaccr_relevant['section'] = naaccr_relevant.c_tooltip.apply(lambda tip: ''.join(tip.split(' \\\\ ')[1:2]))\n",
    "naaccr_relevant['item_name'] = (naaccr_relevant.c_tooltip\n",
    "                                .apply(lambda tip: ''.join(tip.split(' \\\\ ')[2:3])))\n",
    "naaccr_relevant['code_label'] = (naaccr_relevant.c_name\n",
    "                                 .apply(strip_counts))\n",
    "\n",
    "def naaccr_choice_codes(terms):\n",
    "    return [\n",
    "        (None if term.c_fullname is None else\n",
    "         term.c_fullname.split('\\\\')[int(term.c_hlevel + 1)].split(' ', 1)[0])\n",
    "        for (_, term) in terms.iterrows()]\n",
    "\n",
    "naaccr_relevant['choice_code'] = naaccr_choice_codes(naaccr_relevant)\n",
    "naaccr_relevant['short_code'] = naaccr_relevant.choice_code.apply(lambda c: '0' if '0' * len(c) == c else c.lstrip('0'))"
   ]
  },
  {
   "cell_type": "code",
   "execution_count": null,
   "metadata": {
    "collapsed": false,
    "scrolled": false
   },
   "outputs": [],
   "source": [
    "naaccr_relevant[naaccr_relevant.naaccr_item.isin([2980])][[  # 380, 610\n",
    "        'naaccr_item', 'section', 'item_name', 'choice_code', 'short_code', 'code_label']].reset_index()"
   ]
  },
  {
   "cell_type": "code",
   "execution_count": null,
   "metadata": {
    "collapsed": false
   },
   "outputs": [],
   "source": [
    "check1 = ddict_choices.set_index(['naaccr_item'])[['field_label', 'short_code', 'code_label']]\n",
    "check1 = check1.join(naaccr_relevant[naaccr_relevant.naaccr_item.isin(ddict_choices.naaccr_item)]\n",
    "         .set_index(['naaccr_item'])[['item_name']],\n",
    "                     how='outer', rsuffix='_db')\n",
    "check1.head()"
   ]
  },
  {
   "cell_type": "code",
   "execution_count": null,
   "metadata": {
    "collapsed": false
   },
   "outputs": [],
   "source": [
    "# coded in REDCap but not in DB or vice versa\n",
    "# @@TODO: change Age at diagnosis from coded to number\n",
    "check1[( pd.isnull(check1.item_name) & ~pd.isnull(check1.short_code)) |\n",
    "       (~pd.isnull(check1.item_name) &  pd.isnull(check1.field_label))]"
   ]
  },
  {
   "cell_type": "code",
   "execution_count": null,
   "metadata": {
    "collapsed": false
   },
   "outputs": [],
   "source": [
    "check = (naaccr_relevant[naaccr_relevant.naaccr_item.isin(ddict_choices.naaccr_item)]\n",
    "         .set_index(['naaccr_item', 'short_code'])[['item_name', 'choice_code', 'code_label']])\n",
    "check = check.join(ddict_choices.set_index(['naaccr_item', 'short_code']), how='outer', lsuffix='_db')\n",
    "check.head()"
   ]
  },
  {
   "cell_type": "code",
   "execution_count": null,
   "metadata": {
    "collapsed": false,
    "scrolled": false
   },
   "outputs": [],
   "source": [
    "check[pd.isnull(check.code_label_db)]"
   ]
  },
  {
   "cell_type": "code",
   "execution_count": null,
   "metadata": {
    "collapsed": false
   },
   "outputs": [],
   "source": [
    "to_fix = check[~pd.isnull(check.code_label_db) & (check.index.get_level_values('short_code') != check.choice_code)]\n",
    "to_fix.head(10)"
   ]
  },
  {
   "cell_type": "code",
   "execution_count": null,
   "metadata": {
    "collapsed": false
   },
   "outputs": [],
   "source": [
    "naaccr_relevant[naaccr_relevant.naaccr_item == 610] # [[5, 6, 7, 8, 9]]"
   ]
  },
  {
   "cell_type": "code",
   "execution_count": null,
   "metadata": {
    "collapsed": false
   },
   "outputs": [],
   "source": [
    "def encode_choices(df):\n",
    "    return ' | '.join(('%s, %s' % (item.choice_code,\n",
    "                                   item.code_label if not pd.isnull(item.code_label)\n",
    "                                   else item.choice_code))\n",
    "                      for (_, item) in df.iterrows())\n",
    "\n",
    "x = pd.DataFrame(dict(choices=to_fix.groupby(level=0).apply(encode_choices)))\n",
    "x.join(bc_tumor_fields.set_index('naaccr_item')[['Field Label']], how='left')"
   ]
  },
  {
   "cell_type": "markdown",
   "metadata": {},
   "source": [
    "### Date variables from the Tumor Registry (@@TODO)"
   ]
  },
  {
   "cell_type": "code",
   "execution_count": null,
   "metadata": {
    "collapsed": true
   },
   "outputs": [],
   "source": [
    "naaccr_relevant[pd.isnull(naaccr_relevant.choice_code) &\n",
    "                naaccr_relevant.var_name.str.contains('Date')][['section', 'var_name']]"
   ]
  },
  {
   "cell_type": "markdown",
   "metadata": {},
   "source": [
    "### Nominal values and labels from the Tumor Registry ontology"
   ]
  },
  {
   "cell_type": "code",
   "execution_count": null,
   "metadata": {
    "collapsed": true
   },
   "outputs": [],
   "source": [
    "naaccr_relevant[~pd.isnull(naaccr_relevant.choice_code)][['section', 'var_name']].drop_duplicates().reset_index()"
   ]
  },
  {
   "cell_type": "code",
   "execution_count": null,
   "metadata": {
    "collapsed": true
   },
   "outputs": [],
   "source": [
    "naaccr_relevant.sort_values(['section', 'naaccr_item', 'choice_code'])[['section', 'naaccr_item', 'var_name', 'choice_code', 'val_name']]"
   ]
  },
  {
   "cell_type": "code",
   "execution_count": null,
   "metadata": {
    "collapsed": true
   },
   "outputs": [],
   "source": [
    "naaccr_relevant[naaccr_relevant.naaccr_item == '2940'][['section', 'naaccr_item', 'var_name', 'choice_code', 'val_name']]"
   ]
  },
  {
   "cell_type": "markdown",
   "metadata": {},
   "source": [
    "## i2b2 query: BC Phase 2e of Dec 17, 2015"
   ]
  },
  {
   "cell_type": "code",
   "execution_count": null,
   "metadata": {
    "collapsed": true
   },
   "outputs": [],
   "source": [
    "bc295 = cwd / 'bc295_query_definition.xml'"
   ]
  },
  {
   "cell_type": "code",
   "execution_count": null,
   "metadata": {
    "collapsed": false
   },
   "outputs": [],
   "source": [
    "def item_ont(item_key):\n",
    "    part = item_key.split('\\\\')\n",
    "    return part[5] if part[4] == 'naaccr' and part[5] == 'SEER Site' else part[4]\n",
    "\n",
    "item_ont(r'\\\\i2b2_Medications\\i2b2\\Medications\\RXAUI:3257')"
   ]
  },
  {
   "cell_type": "markdown",
   "metadata": {},
   "source": [
    "@@TODO: site-specific factors?"
   ]
  },
  {
   "cell_type": "code",
   "execution_count": null,
   "metadata": {
    "collapsed": false,
    "scrolled": true
   },
   "outputs": [],
   "source": [
    "with bc295.open() as s:\n",
    "    qdef = ET.parse(s).getroot()\n",
    "\n",
    "def e2d(e, keys):\n",
    "    get = lambda ty, e: None if e is None else ty(e.text)\n",
    "    return [(k, get(ty, e.find(k))) for (k, ty) in keys]\n",
    "\n",
    "#panel_cols = [('panel_number', int),\n",
    "#             ('invert', int),\n",
    "#             ('panel_date_from', str),\n",
    "#             ('panel_timing', str)]  # categorical\n",
    "item_cols = [('hlevel', int),\n",
    "             ('item_name', str),\n",
    "             ('item_key', str),\n",
    "             #('item_icon', str),  # categorical\n",
    "             ('tooltip', str),\n",
    "             #('class', str),\n",
    "             #('item_is_synonym', bool)\n",
    "            ]\n",
    "qitem = pd.DataFrame([dict(# e2d(panel, panel_cols) +\n",
    "                           e2d(item, item_cols))\n",
    "              # for panel in qdef.iter('panel')\n",
    "              for item in qdef.iter('item')])\n",
    "\n",
    "\n",
    "qitem['short_name'] = qitem.item_name.apply(strip_counts)\n",
    "del qitem['item_name']\n",
    "qitem = qitem.sort_values('item_key').drop_duplicates().reset_index(drop=True)\n",
    "qitem['ont'] = qitem.item_key.apply(item_ont)\n",
    "\n",
    "qitem.tail()"
   ]
  },
  {
   "cell_type": "code",
   "execution_count": null,
   "metadata": {
    "collapsed": false
   },
   "outputs": [],
   "source": [
    "qitem.tooltip.unique()"
   ]
  },
  {
   "cell_type": "code",
   "execution_count": null,
   "metadata": {
    "collapsed": false
   },
   "outputs": [],
   "source": [
    "qitem.groupby('ont')[['item_key']].count()"
   ]
  },
  {
   "cell_type": "code",
   "execution_count": null,
   "metadata": {
    "collapsed": false
   },
   "outputs": [],
   "source": [
    "qitem.set_value(qitem.ont == 'naaccr', 'naaccr_item', qitem.short_name.apply(lambda s: s[:4]))\n",
    "qitem[qitem.ont == 'naaccr'].head()"
   ]
  },
  {
   "cell_type": "code",
   "execution_count": null,
   "metadata": {
    "collapsed": false
   },
   "outputs": [],
   "source": [
    "qitem[qitem.naaccr_item == '0380']"
   ]
  },
  {
   "cell_type": "code",
   "execution_count": null,
   "metadata": {
    "collapsed": false
   },
   "outputs": [],
   "source": [
    "redcap_cols = pd.read_csv((cwd / 'redcap_ddict_prototype.csv').open(), nrows=0)\n",
    "\n",
    "bc2_ddict = pd.DataFrame(data={'Field Label': qitem.short_name}, columns=redcap_cols.columns)\n",
    "#bc2_ddict['Variable / Field Name'] = None\n",
    "#bc2_ddict['Form Name'] = None\n",
    "bc2_ddict.head()"
   ]
  },
  {
   "cell_type": "markdown",
   "metadata": {},
   "source": [
    "## Demographics"
   ]
  },
  {
   "cell_type": "code",
   "execution_count": null,
   "metadata": {
    "collapsed": false
   },
   "outputs": [],
   "source": [
    "bc2_ddict.set_value((qitem.ont == 'Demographics') |\n",
    "                    (qitem.tooltip == 'Cancer Cases \\\\ 02 Demographic')\n",
    "                    , 'Form Name', 'Demographics')\n",
    "bc2_ddict[bc2_ddict['Form Name'] == 'Demographics'][['Form Name', 'Field Label', 'Field Type']]"
   ]
  },
  {
   "cell_type": "markdown",
   "metadata": {},
   "source": [
    "demographics TODOs@@:\n",
    "\n",
    "  - codes for gender, rase, ...\n",
    "  - codes from naaccr\n",
    "  - group naaccr race with EMR race?"
   ]
  },
  {
   "cell_type": "markdown",
   "metadata": {},
   "source": [
    "## Vitals"
   ]
  },
  {
   "cell_type": "code",
   "execution_count": null,
   "metadata": {
    "collapsed": false
   },
   "outputs": [],
   "source": [
    "bc2_ddict.set_value(qitem.ont == 'Visit Details', 'Form Name', 'Visit Vitals')\n",
    "bc2_ddict[bc2_ddict['Form Name'] == 'Visit Vitals'][['Form Name', 'Field Label']]"
   ]
  },
  {
   "cell_type": "markdown",
   "metadata": {},
   "source": [
    "@@vitals todos:\n",
    "  - baseline, 1 year, two years\n",
    "  - field type, validation"
   ]
  },
  {
   "cell_type": "code",
   "execution_count": null,
   "metadata": {
    "collapsed": false
   },
   "outputs": [],
   "source": [
    "x = pd.DataFrame(dict(form=bc2_ddict['Form Name'],\n",
    "                      tooltip=qitem.tooltip,\n",
    "                      name=qitem.short_name,\n",
    "                     ont=qitem.ont),\n",
    "                columns='ont form tooltip name'.split())\n",
    "x[pd.isnull(x.form) & ~qitem.ont.isin(['Diagnoses', 'Procedures', 'Medications'])]\n"
   ]
  },
  {
   "cell_type": "markdown",
   "metadata": {},
   "source": [
    "### @@other"
   ]
  },
  {
   "cell_type": "code",
   "execution_count": null,
   "metadata": {
    "collapsed": false
   },
   "outputs": [],
   "source": [
    "qitem[~qitem.ont.isin(['naaccr', 'Diagnoses', 'Procedures'])][q_nice_cols]"
   ]
  },
  {
   "cell_type": "markdown",
   "metadata": {},
   "source": [
    "#### Medications: Antineoplastics, Hormones"
   ]
  },
  {
   "cell_type": "code",
   "execution_count": null,
   "metadata": {
    "collapsed": false,
    "scrolled": false
   },
   "outputs": [],
   "source": [
    "qitem[qitem.ont == 'Medications'][q_nice_cols]"
   ]
  },
  {
   "cell_type": "code",
   "execution_count": null,
   "metadata": {
    "collapsed": false
   },
   "outputs": [],
   "source": [
    "expr, params = path_constraint(qitem[qitem.ont == 'Medications'])\n",
    "pd.read_sql(r'''\n",
    "select *\n",
    "from i2b2metadata.gpc_terms\n",
    "where c_fullname in ({expr})\n",
    "limit 100\n",
    "'''.format(expr=expr), babel_db, params=params)"
   ]
  },
  {
   "cell_type": "code",
   "execution_count": null,
   "metadata": {
    "collapsed": false
   },
   "outputs": [],
   "source": [
    "# Note %s have to be doubled in sqlalchemy API\n",
    "sql = r'''\n",
    "with va_top as (\n",
    "  select *\n",
    "  from i2b2metadata.gpc_terms\n",
    "  where c_fullname in ({paths})\n",
    ")\n",
    ", va_class as (\n",
    "  select sub.c_hlevel, sub.c_basecode, sub.c_name, sub.c_fullname\n",
    "  from i2b2metadata.gpc_terms sub\n",
    "  join va_top on sub.c_fullname like (va_top.c_fullname || '%%') escape '@'\n",
    "  where sub.c_name like '[%%]%%'\n",
    ")\n",
    "select * from va_class\n",
    "order by c_fullname\n",
    "limit 100\n",
    "'''.format(paths=expr)\n",
    "med_va_class = pd.read_sql(sql, babel_db, params=params)\n",
    "med_va_class['code'] = med_va_class.c_name.apply(lambda s: s.split('] ')[0][1:])\n",
    "med_va_class.set_index('code')[['c_name']]"
   ]
  },
  {
   "cell_type": "code",
   "execution_count": null,
   "metadata": {
    "collapsed": false,
    "scrolled": true
   },
   "outputs": [],
   "source": [
    "# Note %s have to be doubled in sqlalchemy API\n",
    "sql = r'''\n",
    "with va_top as (\n",
    "  select *\n",
    "  from i2b2metadata.gpc_terms\n",
    "  where c_fullname in ({paths})\n",
    ")\n",
    ", va_class as (\n",
    "  select sub.c_hlevel, sub.c_basecode, sub.c_name, sub.c_fullname\n",
    "  from i2b2metadata.gpc_terms sub\n",
    "  join va_top on sub.c_fullname like (va_top.c_fullname || '%%') escape '@'\n",
    "  where sub.c_name like '[%%]%%'\n",
    ")\n",
    ", rx as (\n",
    "  select sub.c_hlevel, sub.c_basecode, sub.c_name\n",
    "       , substr(va_class.c_name, 2, 5) va_class_code\n",
    "       , sub.c_fullname\n",
    "  from i2b2metadata.gpc_terms sub\n",
    "  join va_class\n",
    "    on sub.c_fullname like (va_class.c_fullname || '%%') escape '@'\n",
    "   and sub.c_hlevel = va_class.c_hlevel + 1\n",
    "  where sub.c_name not like '[%%]%%'\n",
    ")\n",
    "select distinct * from rx\n",
    "order by va_class_code, c_basecode\n",
    "'''.format(paths=expr)\n",
    "rx = pd.read_sql(sql, babel_db, params=params)\n",
    "print 'distinct drugs:', len(rx)\n",
    "print 'hlevels:', rx.c_hlevel.unique()\n",
    "rx['rxcui'] = rx.c_basecode.apply(lambda s: s.split(':')[1])"
   ]
  },
  {
   "cell_type": "markdown",
   "metadata": {},
   "source": [
    "#### Unique Drugs: eliminating polyhierarchy"
   ]
  },
  {
   "cell_type": "code",
   "execution_count": null,
   "metadata": {
    "collapsed": false
   },
   "outputs": [],
   "source": [
    "len(rx.rxcui), len(rx.rxcui.unique())"
   ]
  },
  {
   "cell_type": "code",
   "execution_count": null,
   "metadata": {
    "collapsed": false
   },
   "outputs": [],
   "source": [
    "rx.sort_values('rxcui', inplace=True)\n",
    "dup_cuis = rx[rx.rxcui.duplicated()].rxcui\n",
    "rx[rx.rxcui.isin(dup_cuis)]"
   ]
  },
  {
   "cell_type": "code",
   "execution_count": null,
   "metadata": {
    "collapsed": false
   },
   "outputs": [],
   "source": [
    "#rx1 = pd.DataFrame(dict(va_class_code=rx.groupby('rxcui').va_class_code.min()))\n",
    "rx1 = rx.groupby('rxcui')[['va_class_code', 'c_name']].min()\n",
    "print len(rx1)\n",
    "rx1.head()"
   ]
  },
  {
   "cell_type": "code",
   "execution_count": null,
   "metadata": {
    "collapsed": false,
    "scrolled": true
   },
   "outputs": [],
   "source": [
    "rx1['label'] = ['[{vc}] RXCUI:{cui} {drug}'.format(vc=drug.va_class_code, cui=rxcui, drug=drug.c_name)\n",
    "                for (rxcui, drug) in rx1.iterrows()]\n",
    "rx1.sort_values(['va_class_code', 'c_name'], inplace=True)\n",
    "rx1.head(20)[['va_class_code', 'c_name', 'label']]"
   ]
  },
  {
   "cell_type": "markdown",
   "metadata": {},
   "source": [
    "## Data Dictionary for REDCap"
   ]
  },
  {
   "cell_type": "code",
   "execution_count": null,
   "metadata": {
    "collapsed": false
   },
   "outputs": [],
   "source": [
    "ddict_prototype = pd.read_csv((cwd / 'redcap_ddict_prototype.csv').open()).set_index(u'Variable / Field Name')\n",
    "ddict_prototype.columns"
   ]
  },
  {
   "cell_type": "code",
   "execution_count": null,
   "metadata": {
    "collapsed": false
   },
   "outputs": [],
   "source": [
    "def choices(series):\n",
    "    return ' | '.join('{code}, {label}'.format(code=code, label=label)\n",
    "               for (code, label) in series.iteritems())"
   ]
  },
  {
   "cell_type": "code",
   "execution_count": null,
   "metadata": {
    "collapsed": false
   },
   "outputs": [],
   "source": [
    "med_ddict = ddict_prototype.copy()\n",
    "med_ddict.set_value('va_class', u'Choices, Calculations, OR Slider Labels', choices(med_va_class.set_index('code').c_name))\n",
    "med_ddict.set_value('rxcui', u'Choices, Calculations, OR Slider Labels', choices(rx1.label))\n",
    "\n",
    "med_ddict.to_csv('med_exposure_ddict.csv')\n",
    "med_ddict"
   ]
  },
  {
   "cell_type": "markdown",
   "metadata": {},
   "source": [
    "### Data Management Spreadsheet Dec 2015"
   ]
  },
  {
   "cell_type": "code",
   "execution_count": null,
   "metadata": {
    "collapsed": false
   },
   "outputs": [],
   "source": [
    "# https://informatics.gpcnetwork.org/trac/Project/attachment/ticket/295/BC-MasterDataManagement.xlsx\n",
    "# 2015-12-16T11:58:36-05:00\n",
    "mdm = pd.read_excel('BC-MasterDataManagement.xlsx')\n",
    "mdm.head()"
   ]
  },
  {
   "cell_type": "code",
   "execution_count": null,
   "metadata": {
    "collapsed": false
   },
   "outputs": [],
   "source": [
    "mdm[(mdm.source != 'registry') & ~pd.isnull(mdm['Variable Name'])][['Variable Name']]"
   ]
  },
  {
   "cell_type": "code",
   "execution_count": null,
   "metadata": {
    "collapsed": false
   },
   "outputs": [],
   "source": [
    "pd.DataFrame(dict(name=mdm['Variable Name'].unique()))"
   ]
  }
 ],
 "metadata": {
  "kernelspec": {
   "display_name": "Python 2",
   "language": "python",
   "name": "python2"
  },
  "language_info": {
   "codemirror_mode": {
    "name": "ipython",
    "version": 2
   },
   "file_extension": ".py",
   "mimetype": "text/x-python",
   "name": "python",
   "nbconvert_exporter": "python",
   "pygments_lexer": "ipython2",
   "version": "2.7.12"
  }
 },
 "nbformat": 4,
 "nbformat_minor": 0
}
