{
 "cells": [
  {
   "cell_type": "markdown",
   "metadata": {},
   "source": [
    "# GPC Breast Cancer EMR and Tumor Registry Data Dictionary\n",
    "\n",
    "context:\n",
    "\n",
    "  - [ticket:382 distribute the query to the sites for the data for consented breast cancer survey patients](https://informatics.gpcnetwork.org/trac/Project/ticket/382)\n",
    "  - [GPC BC 2nd Data Pull Slides](https://docs.google.com/presentation/d/1LANts9zyDNyR3uPoArU04tsrxaC2Ao3rQyRk9JRPg9c/edit)"
   ]
  },
  {
   "cell_type": "markdown",
   "metadata": {},
   "source": [
    "## Preface: PyData Scientific Python Tools\n",
    "\n",
    "See also [PyData](http://pydata.org/)."
   ]
  },
  {
   "cell_type": "code",
   "execution_count": 1,
   "metadata": {
    "collapsed": true
   },
   "outputs": [],
   "source": [
    "# python standard library\n",
    "from xml.etree import ElementTree as ET\n",
    "import re"
   ]
  },
  {
   "cell_type": "code",
   "execution_count": 2,
   "metadata": {
    "collapsed": false
   },
   "outputs": [
    {
     "data": {
      "text/plain": [
       "{'pandas': u'0.17.1'}"
      ]
     },
     "execution_count": 2,
     "metadata": {},
     "output_type": "execute_result"
    }
   ],
   "source": [
    "import pandas as pd\n",
    "dict(pandas=pd.__version__)"
   ]
  },
  {
   "cell_type": "markdown",
   "metadata": {},
   "source": [
    "## Record-per-tumor project\n",
    "\n",
    "Rather than try to squish diagnoses, procedures, and medications into a one-record-per-tumor format,\n",
    "we're addressing them separately:\n",
    "   - Medication exposures project (below)\n",
    "   - all diagnoses and procedures (ticket #nnn)\n",
    "\n",
    "But for the tumor registry data and a few other EMR fields we're using:\n",
    "\n",
    "  - [GPC REDCap project 32: Breast Cancer Datamart](https://redcap.gpcnetwork.org/redcap_v6.11.5/index.php?pid=32)"
   ]
  },
  {
   "cell_type": "code",
   "execution_count": 3,
   "metadata": {
    "collapsed": true
   },
   "outputs": [],
   "source": [
    "def file_access():\n",
    "    from pathlib import Path\n",
    "    return Path('.')\n",
    "cwd = file_access()"
   ]
  },
  {
   "cell_type": "code",
   "execution_count": 4,
   "metadata": {
    "collapsed": false
   },
   "outputs": [
    {
     "data": {
      "text/html": [
       "<div>\n",
       "<table border=\"1\" class=\"dataframe\">\n",
       "  <thead>\n",
       "    <tr style=\"text-align: right;\">\n",
       "      <th></th>\n",
       "      <th>form_name</th>\n",
       "      <th>field_type</th>\n",
       "      <th>field_label</th>\n",
       "      <th>field_note</th>\n",
       "    </tr>\n",
       "    <tr>\n",
       "      <th>field_name</th>\n",
       "      <th></th>\n",
       "      <th></th>\n",
       "      <th></th>\n",
       "      <th></th>\n",
       "    </tr>\n",
       "  </thead>\n",
       "  <tbody>\n",
       "    <tr>\n",
       "      <th>v00_tumorid</th>\n",
       "      <td>admin</td>\n",
       "      <td>text</td>\n",
       "      <td>TumorID</td>\n",
       "      <td>Study ID and Sequence Number source: mixed</td>\n",
       "    </tr>\n",
       "    <tr>\n",
       "      <th>v01_studyid</th>\n",
       "      <td>admin</td>\n",
       "      <td>text</td>\n",
       "      <td>StudyID</td>\n",
       "      <td>Study ID source: study</td>\n",
       "    </tr>\n",
       "    <tr>\n",
       "      <th>v02_breastsurvey</th>\n",
       "      <td>admin</td>\n",
       "      <td>dropdown</td>\n",
       "      <td>breastsurvey</td>\n",
       "      <td>Breast Cancer Survey Participant source: study</td>\n",
       "    </tr>\n",
       "    <tr>\n",
       "      <th>v03_medrecordconsent</th>\n",
       "      <td>admin</td>\n",
       "      <td>dropdown</td>\n",
       "      <td>medrecordconsent</td>\n",
       "      <td>Medical Record Consent Given source: study</td>\n",
       "    </tr>\n",
       "    <tr>\n",
       "      <th>v13_seer_site_summary</th>\n",
       "      <td>clinical</td>\n",
       "      <td>text</td>\n",
       "      <td>SEER Site Summary</td>\n",
       "      <td>source: registry</td>\n",
       "    </tr>\n",
       "  </tbody>\n",
       "</table>\n",
       "</div>"
      ],
      "text/plain": [
       "                      form_name field_type        field_label  \\\n",
       "field_name                                                      \n",
       "v00_tumorid               admin       text            TumorID   \n",
       "v01_studyid               admin       text            StudyID   \n",
       "v02_breastsurvey          admin   dropdown       breastsurvey   \n",
       "v03_medrecordconsent      admin   dropdown   medrecordconsent   \n",
       "v13_seer_site_summary  clinical       text  SEER Site Summary   \n",
       "\n",
       "                                                           field_note  \n",
       "field_name                                                             \n",
       "v00_tumorid                Study ID and Sequence Number source: mixed  \n",
       "v01_studyid                                    Study ID source: study  \n",
       "v02_breastsurvey       Breast Cancer Survey Participant source: study  \n",
       "v03_medrecordconsent       Medical Record Consent Given source: study  \n",
       "v13_seer_site_summary                                source: registry  "
      ]
     },
     "execution_count": 4,
     "metadata": {},
     "output_type": "execute_result"
    }
   ],
   "source": [
    "bc_tumor_fields = pd.read_csv((cwd / 'bc_codebook_ddict.csv').open()).set_index('field_name')\n",
    "\n",
    "bc_tumor_fields['v_num'] = bc_tumor_fields.index.str.extract(r'v(\\d{2,3})_').astype('int')\n",
    "bc_tumor_fields['naaccr_item'] = bc_tumor_fields.index.str.extract(r'v\\d{2,3}_(\\d{3,4})_').astype('float32')\n",
    "\n",
    "bc_tumor_fields[['form_name', 'field_type', 'field_label', 'field_note']].head()"
   ]
  },
  {
   "cell_type": "markdown",
   "metadata": {},
   "source": [
    "### Tumor registry variables\n",
    "\n",
    "Most of the variables come from the tumor registry:"
   ]
  },
  {
   "cell_type": "code",
   "execution_count": 5,
   "metadata": {
    "collapsed": false
   },
   "outputs": [
    {
     "data": {
      "text/plain": [
       "(115, 134)"
      ]
     },
     "execution_count": 5,
     "metadata": {},
     "output_type": "execute_result"
    }
   ],
   "source": [
    "len(bc_tumor_fields[~pd.isnull(bc_tumor_fields.naaccr_item)]), len(bc_tumor_fields)"
   ]
  },
  {
   "cell_type": "markdown",
   "metadata": {},
   "source": [
    "The first few are:"
   ]
  },
  {
   "cell_type": "code",
   "execution_count": 6,
   "metadata": {
    "collapsed": false
   },
   "outputs": [
    {
     "data": {
      "text/html": [
       "<div>\n",
       "<table border=\"1\" class=\"dataframe\">\n",
       "  <thead>\n",
       "    <tr style=\"text-align: right;\">\n",
       "      <th></th>\n",
       "      <th>form_name</th>\n",
       "      <th>section_header</th>\n",
       "      <th>field_type</th>\n",
       "      <th>field_label</th>\n",
       "    </tr>\n",
       "    <tr>\n",
       "      <th>field_name</th>\n",
       "      <th></th>\n",
       "      <th></th>\n",
       "      <th></th>\n",
       "      <th></th>\n",
       "    </tr>\n",
       "  </thead>\n",
       "  <tbody>\n",
       "    <tr>\n",
       "      <th>v14_0400_primary_site</th>\n",
       "      <td>clinical</td>\n",
       "      <td>NaN</td>\n",
       "      <td>text</td>\n",
       "      <td>0400 Primary Site</td>\n",
       "    </tr>\n",
       "    <tr>\n",
       "      <th>v15_0380_sequence_numbercentral</th>\n",
       "      <td>clinical</td>\n",
       "      <td>NaN</td>\n",
       "      <td>dropdown</td>\n",
       "      <td>0380 Sequence Number-Central</td>\n",
       "    </tr>\n",
       "    <tr>\n",
       "      <th>v16_0560_sequence_numberhospital</th>\n",
       "      <td>clinical</td>\n",
       "      <td>NaN</td>\n",
       "      <td>dropdown</td>\n",
       "      <td>0560 Sequence Number-Hospital</td>\n",
       "    </tr>\n",
       "    <tr>\n",
       "      <th>v18_0390_date_of_diagnosis</th>\n",
       "      <td>clinical</td>\n",
       "      <td>NaN</td>\n",
       "      <td>text</td>\n",
       "      <td>0390 Date of diagnosis</td>\n",
       "    </tr>\n",
       "    <tr>\n",
       "      <th>v19_0230_age_at_diagnosis</th>\n",
       "      <td>clinical</td>\n",
       "      <td>NaN</td>\n",
       "      <td>text</td>\n",
       "      <td>0230 Age at Diagnosis</td>\n",
       "    </tr>\n",
       "  </tbody>\n",
       "</table>\n",
       "</div>"
      ],
      "text/plain": [
       "                                 form_name  section_header field_type  \\\n",
       "field_name                                                              \n",
       "v14_0400_primary_site             clinical             NaN       text   \n",
       "v15_0380_sequence_numbercentral   clinical             NaN   dropdown   \n",
       "v16_0560_sequence_numberhospital  clinical             NaN   dropdown   \n",
       "v18_0390_date_of_diagnosis        clinical             NaN       text   \n",
       "v19_0230_age_at_diagnosis         clinical             NaN       text   \n",
       "\n",
       "                                                    field_label  \n",
       "field_name                                                       \n",
       "v14_0400_primary_site                         0400 Primary Site  \n",
       "v15_0380_sequence_numbercentral    0380 Sequence Number-Central  \n",
       "v16_0560_sequence_numberhospital  0560 Sequence Number-Hospital  \n",
       "v18_0390_date_of_diagnosis               0390 Date of diagnosis  \n",
       "v19_0230_age_at_diagnosis                 0230 Age at Diagnosis  "
      ]
     },
     "execution_count": 6,
     "metadata": {},
     "output_type": "execute_result"
    }
   ],
   "source": [
    "bc_tumor_fields[~pd.isnull(bc_tumor_fields.naaccr_item)][[0, 1, 2, 3]].head()"
   ]
  },
  {
   "cell_type": "markdown",
   "metadata": {},
   "source": [
    "Variables not from NAACCR are:"
   ]
  },
  {
   "cell_type": "code",
   "execution_count": 7,
   "metadata": {
    "collapsed": false
   },
   "outputs": [
    {
     "data": {
      "text/html": [
       "<div>\n",
       "<table border=\"1\" class=\"dataframe\">\n",
       "  <thead>\n",
       "    <tr style=\"text-align: right;\">\n",
       "      <th></th>\n",
       "      <th>form_name</th>\n",
       "      <th>section_header</th>\n",
       "      <th>field_type</th>\n",
       "      <th>field_label</th>\n",
       "    </tr>\n",
       "    <tr>\n",
       "      <th>field_name</th>\n",
       "      <th></th>\n",
       "      <th></th>\n",
       "      <th></th>\n",
       "      <th></th>\n",
       "    </tr>\n",
       "  </thead>\n",
       "  <tbody>\n",
       "    <tr>\n",
       "      <th>v00_tumorid</th>\n",
       "      <td>admin</td>\n",
       "      <td>NaN</td>\n",
       "      <td>text</td>\n",
       "      <td>TumorID</td>\n",
       "    </tr>\n",
       "    <tr>\n",
       "      <th>v01_studyid</th>\n",
       "      <td>admin</td>\n",
       "      <td>NaN</td>\n",
       "      <td>text</td>\n",
       "      <td>StudyID</td>\n",
       "    </tr>\n",
       "    <tr>\n",
       "      <th>v02_breastsurvey</th>\n",
       "      <td>admin</td>\n",
       "      <td>NaN</td>\n",
       "      <td>dropdown</td>\n",
       "      <td>breastsurvey</td>\n",
       "    </tr>\n",
       "    <tr>\n",
       "      <th>v03_medrecordconsent</th>\n",
       "      <td>admin</td>\n",
       "      <td>NaN</td>\n",
       "      <td>dropdown</td>\n",
       "      <td>medrecordconsent</td>\n",
       "    </tr>\n",
       "    <tr>\n",
       "      <th>v13_seer_site_summary</th>\n",
       "      <td>clinical</td>\n",
       "      <td>NaN</td>\n",
       "      <td>text</td>\n",
       "      <td>SEER Site Summary</td>\n",
       "    </tr>\n",
       "    <tr>\n",
       "      <th>v53_deceased_per_ssa</th>\n",
       "      <td>clinical</td>\n",
       "      <td>NaN</td>\n",
       "      <td>dropdown</td>\n",
       "      <td>Deceased per SSA</td>\n",
       "    </tr>\n",
       "    <tr>\n",
       "      <th>v116_bmi_pre_0yr</th>\n",
       "      <td>clinical</td>\n",
       "      <td>NaN</td>\n",
       "      <td>text</td>\n",
       "      <td>BMI pre 0yr</td>\n",
       "    </tr>\n",
       "    <tr>\n",
       "      <th>v117_bmi_pre_0yr_date</th>\n",
       "      <td>clinical</td>\n",
       "      <td>NaN</td>\n",
       "      <td>text</td>\n",
       "      <td>BMI pre 0yr date</td>\n",
       "    </tr>\n",
       "    <tr>\n",
       "      <th>v118_bmi_post_0yr</th>\n",
       "      <td>clinical</td>\n",
       "      <td>NaN</td>\n",
       "      <td>text</td>\n",
       "      <td>BMI post 0yr</td>\n",
       "    </tr>\n",
       "    <tr>\n",
       "      <th>v119_bmi_post_0yr_date</th>\n",
       "      <td>clinical</td>\n",
       "      <td>NaN</td>\n",
       "      <td>text</td>\n",
       "      <td>BMI post 0yr date</td>\n",
       "    </tr>\n",
       "    <tr>\n",
       "      <th>v120_bmi_pre_1yr</th>\n",
       "      <td>clinical</td>\n",
       "      <td>NaN</td>\n",
       "      <td>text</td>\n",
       "      <td>BMI pre 1yr</td>\n",
       "    </tr>\n",
       "    <tr>\n",
       "      <th>v121_bmi_pre_1yr_date</th>\n",
       "      <td>clinical</td>\n",
       "      <td>NaN</td>\n",
       "      <td>text</td>\n",
       "      <td>BMI pre 1yr date</td>\n",
       "    </tr>\n",
       "    <tr>\n",
       "      <th>v122_bmi_post_1yr</th>\n",
       "      <td>clinical</td>\n",
       "      <td>NaN</td>\n",
       "      <td>text</td>\n",
       "      <td>BMI post 1yr</td>\n",
       "    </tr>\n",
       "    <tr>\n",
       "      <th>v123_bmi_post_1yr_date</th>\n",
       "      <td>clinical</td>\n",
       "      <td>NaN</td>\n",
       "      <td>text</td>\n",
       "      <td>BMI post 1yr date</td>\n",
       "    </tr>\n",
       "    <tr>\n",
       "      <th>v124_bmi_pre_2yr</th>\n",
       "      <td>clinical</td>\n",
       "      <td>NaN</td>\n",
       "      <td>text</td>\n",
       "      <td>BMI pre 2yr</td>\n",
       "    </tr>\n",
       "    <tr>\n",
       "      <th>v125_bmi_pre_2yr_date</th>\n",
       "      <td>clinical</td>\n",
       "      <td>NaN</td>\n",
       "      <td>text</td>\n",
       "      <td>BMI pre 2yr date</td>\n",
       "    </tr>\n",
       "    <tr>\n",
       "      <th>v126_bmi_post_2yr</th>\n",
       "      <td>clinical</td>\n",
       "      <td>NaN</td>\n",
       "      <td>text</td>\n",
       "      <td>BMI post 2yr</td>\n",
       "    </tr>\n",
       "    <tr>\n",
       "      <th>v127_bmi_post_2yr_date</th>\n",
       "      <td>clinical</td>\n",
       "      <td>NaN</td>\n",
       "      <td>text</td>\n",
       "      <td>BMI post 2yr date</td>\n",
       "    </tr>\n",
       "    <tr>\n",
       "      <th>v52_language</th>\n",
       "      <td>demographic</td>\n",
       "      <td>NaN</td>\n",
       "      <td>text</td>\n",
       "      <td>Language</td>\n",
       "    </tr>\n",
       "  </tbody>\n",
       "</table>\n",
       "</div>"
      ],
      "text/plain": [
       "                          form_name  section_header field_type  \\\n",
       "field_name                                                       \n",
       "v00_tumorid                   admin             NaN       text   \n",
       "v01_studyid                   admin             NaN       text   \n",
       "v02_breastsurvey              admin             NaN   dropdown   \n",
       "v03_medrecordconsent          admin             NaN   dropdown   \n",
       "v13_seer_site_summary      clinical             NaN       text   \n",
       "v53_deceased_per_ssa       clinical             NaN   dropdown   \n",
       "v116_bmi_pre_0yr           clinical             NaN       text   \n",
       "v117_bmi_pre_0yr_date      clinical             NaN       text   \n",
       "v118_bmi_post_0yr          clinical             NaN       text   \n",
       "v119_bmi_post_0yr_date     clinical             NaN       text   \n",
       "v120_bmi_pre_1yr           clinical             NaN       text   \n",
       "v121_bmi_pre_1yr_date      clinical             NaN       text   \n",
       "v122_bmi_post_1yr          clinical             NaN       text   \n",
       "v123_bmi_post_1yr_date     clinical             NaN       text   \n",
       "v124_bmi_pre_2yr           clinical             NaN       text   \n",
       "v125_bmi_pre_2yr_date      clinical             NaN       text   \n",
       "v126_bmi_post_2yr          clinical             NaN       text   \n",
       "v127_bmi_post_2yr_date     clinical             NaN       text   \n",
       "v52_language            demographic             NaN       text   \n",
       "\n",
       "                              field_label  \n",
       "field_name                                 \n",
       "v00_tumorid                       TumorID  \n",
       "v01_studyid                       StudyID  \n",
       "v02_breastsurvey             breastsurvey  \n",
       "v03_medrecordconsent     medrecordconsent  \n",
       "v13_seer_site_summary   SEER Site Summary  \n",
       "v53_deceased_per_ssa     Deceased per SSA  \n",
       "v116_bmi_pre_0yr              BMI pre 0yr  \n",
       "v117_bmi_pre_0yr_date    BMI pre 0yr date  \n",
       "v118_bmi_post_0yr            BMI post 0yr  \n",
       "v119_bmi_post_0yr_date  BMI post 0yr date  \n",
       "v120_bmi_pre_1yr              BMI pre 1yr  \n",
       "v121_bmi_pre_1yr_date    BMI pre 1yr date  \n",
       "v122_bmi_post_1yr            BMI post 1yr  \n",
       "v123_bmi_post_1yr_date  BMI post 1yr date  \n",
       "v124_bmi_pre_2yr              BMI pre 2yr  \n",
       "v125_bmi_pre_2yr_date    BMI pre 2yr date  \n",
       "v126_bmi_post_2yr            BMI post 2yr  \n",
       "v127_bmi_post_2yr_date  BMI post 2yr date  \n",
       "v52_language                     Language  "
      ]
     },
     "execution_count": 7,
     "metadata": {},
     "output_type": "execute_result"
    }
   ],
   "source": [
    "bc_tumor_fields[pd.isnull(bc_tumor_fields.naaccr_item)][[0, 1, 2, 3]]"
   ]
  },
  {
   "cell_type": "code",
   "execution_count": 8,
   "metadata": {
    "collapsed": true
   },
   "outputs": [],
   "source": [
    "# TODO: @ vis NI for deceased"
   ]
  },
  {
   "cell_type": "code",
   "execution_count": 9,
   "metadata": {
    "collapsed": true
   },
   "outputs": [],
   "source": [
    "# TODO: other vitals. and longitudinal for vitals"
   ]
  },
  {
   "cell_type": "markdown",
   "metadata": {},
   "source": [
    "### NAACCR codes: check data dictionary vs. ontology on babel\n",
    "\n",
    "Or data dictionary has standarized mappings from codes to labels:"
   ]
  },
  {
   "cell_type": "code",
   "execution_count": 10,
   "metadata": {
    "collapsed": false
   },
   "outputs": [
    {
     "data": {
      "text/html": [
       "<div>\n",
       "<table border=\"1\" class=\"dataframe\">\n",
       "  <thead>\n",
       "    <tr style=\"text-align: right;\">\n",
       "      <th></th>\n",
       "      <th>naaccr_item</th>\n",
       "      <th>field_label</th>\n",
       "      <th>choice_code</th>\n",
       "      <th>code_label</th>\n",
       "    </tr>\n",
       "  </thead>\n",
       "  <tbody>\n",
       "    <tr>\n",
       "      <th>0</th>\n",
       "      <td>380</td>\n",
       "      <td>0380 Sequence Number-Central</td>\n",
       "      <td>00</td>\n",
       "      <td>00-One primary in the patient's lifetime</td>\n",
       "    </tr>\n",
       "    <tr>\n",
       "      <th>1</th>\n",
       "      <td>380</td>\n",
       "      <td>0380 Sequence Number-Central</td>\n",
       "      <td>01</td>\n",
       "      <td>01-First of two or more primaries</td>\n",
       "    </tr>\n",
       "    <tr>\n",
       "      <th>2</th>\n",
       "      <td>380</td>\n",
       "      <td>0380 Sequence Number-Central</td>\n",
       "      <td>02</td>\n",
       "      <td>02-Second of two or more primaries</td>\n",
       "    </tr>\n",
       "    <tr>\n",
       "      <th>3</th>\n",
       "      <td>380</td>\n",
       "      <td>0380 Sequence Number-Central</td>\n",
       "      <td>59</td>\n",
       "      <td>59-Fifty-ninth or higher of fifty-nine or more...</td>\n",
       "    </tr>\n",
       "    <tr>\n",
       "      <th>4</th>\n",
       "      <td>380</td>\n",
       "      <td>0380 Sequence Number-Central</td>\n",
       "      <td>99</td>\n",
       "      <td>99-Unspecified or unknown sequence number of F...</td>\n",
       "    </tr>\n",
       "  </tbody>\n",
       "</table>\n",
       "</div>"
      ],
      "text/plain": [
       "   naaccr_item                   field_label choice_code  \\\n",
       "0          380  0380 Sequence Number-Central          00   \n",
       "1          380  0380 Sequence Number-Central          01   \n",
       "2          380  0380 Sequence Number-Central          02   \n",
       "3          380  0380 Sequence Number-Central          59   \n",
       "4          380  0380 Sequence Number-Central          99   \n",
       "\n",
       "                                          code_label  \n",
       "0           00-One primary in the patient's lifetime  \n",
       "1                  01-First of two or more primaries  \n",
       "2                 02-Second of two or more primaries  \n",
       "3  59-Fifty-ninth or higher of fifty-nine or more...  \n",
       "4  99-Unspecified or unknown sequence number of F...  "
      ]
     },
     "execution_count": 10,
     "metadata": {},
     "output_type": "execute_result"
    }
   ],
   "source": [
    "def parse_choices(txt):\n",
    "    return [tuple(item.split(', ', 1))\n",
    "            for item in txt.split('\\n')]\n",
    "\n",
    "ddict_choices = pd.DataFrame([\n",
    "        dict(choice_code=code, code_label=label,\n",
    "            naaccr_item=field.naaccr_item,\n",
    "            field_label=field.field_label)\n",
    "        for (name, field) in bc_tumor_fields[~pd.isnull(bc_tumor_fields.naaccr_item)].iterrows()\n",
    "        if not pd.isnull(field.select_choices_or_calculations)\n",
    "        for (code, label) in parse_choices(field.select_choices_or_calculations)\n",
    "    ],\n",
    "            columns=['naaccr_item', 'field_label', 'choice_code', 'code_label'])\n",
    "\n",
    "ddict_choices.head()"
   ]
  },
  {
   "cell_type": "code",
   "execution_count": 11,
   "metadata": {
    "collapsed": false,
    "scrolled": true
   },
   "outputs": [
    {
     "data": {
      "text/plain": [
       "(2,)"
      ]
     },
     "execution_count": 11,
     "metadata": {},
     "output_type": "execute_result"
    }
   ],
   "source": [
    "# Babel DB Access\n",
    "def db_access(key='BABEL_DB'):\n",
    "    from os import getenv, environ\n",
    "    from sqlalchemy import create_engine\n",
    "\n",
    "    url = getenv(key)\n",
    "    if not url:\n",
    "        raise IOError(key)\n",
    "    return create_engine(url)\n",
    "\n",
    "babel_db = db_access()\n",
    "babel_db.execute('select 1+1').fetchone()"
   ]
  },
  {
   "cell_type": "markdown",
   "metadata": {},
   "source": [
    "### Beware leading 0s: check code lengths\n",
    "\n",
    "Earlier codebook drafts omitted leading 0s, complicating data import."
   ]
  },
  {
   "cell_type": "code",
   "execution_count": 12,
   "metadata": {
    "collapsed": false,
    "scrolled": true
   },
   "outputs": [
    {
     "data": {
      "text/html": [
       "<div>\n",
       "<table border=\"1\" class=\"dataframe\">\n",
       "  <thead>\n",
       "    <tr style=\"text-align: right;\">\n",
       "      <th></th>\n",
       "      <th>ItemNbr</th>\n",
       "      <th>ItemName</th>\n",
       "      <th>SectionID</th>\n",
       "      <th>FieldLength</th>\n",
       "      <th>Format</th>\n",
       "      <th>AllowValue</th>\n",
       "    </tr>\n",
       "    <tr>\n",
       "      <th>item</th>\n",
       "      <th></th>\n",
       "      <th></th>\n",
       "      <th></th>\n",
       "      <th></th>\n",
       "      <th></th>\n",
       "      <th></th>\n",
       "    </tr>\n",
       "  </thead>\n",
       "  <tbody>\n",
       "    <tr>\n",
       "      <th>10</th>\n",
       "      <td>10</td>\n",
       "      <td>Record Type</td>\n",
       "      <td>9</td>\n",
       "      <td>1</td>\n",
       "      <td>None</td>\n",
       "      <td>I, C, A, U, M, L</td>\n",
       "    </tr>\n",
       "    <tr>\n",
       "      <th>20</th>\n",
       "      <td>20</td>\n",
       "      <td>Patient ID Number</td>\n",
       "      <td>9</td>\n",
       "      <td>8</td>\n",
       "      <td>Right justified, zero filled</td>\n",
       "      <td>None</td>\n",
       "    </tr>\n",
       "    <tr>\n",
       "      <th>30</th>\n",
       "      <td>30</td>\n",
       "      <td>Registry Type</td>\n",
       "      <td>9</td>\n",
       "      <td>1</td>\n",
       "      <td>None</td>\n",
       "      <td>1-3</td>\n",
       "    </tr>\n",
       "    <tr>\n",
       "      <th>35</th>\n",
       "      <td>35</td>\n",
       "      <td>FIN Coding System</td>\n",
       "      <td>9</td>\n",
       "      <td>1</td>\n",
       "      <td>None</td>\n",
       "      <td>1, 2, 9</td>\n",
       "    </tr>\n",
       "    <tr>\n",
       "      <th>40</th>\n",
       "      <td>40</td>\n",
       "      <td>Registry ID</td>\n",
       "      <td>9</td>\n",
       "      <td>10</td>\n",
       "      <td>Right justified, zero filled</td>\n",
       "      <td>10-digit number. Reference to EDITS table REGI...</td>\n",
       "    </tr>\n",
       "  </tbody>\n",
       "</table>\n",
       "</div>"
      ],
      "text/plain": [
       "     ItemNbr           ItemName SectionID  FieldLength  \\\n",
       "item                                                     \n",
       "10        10        Record Type         9            1   \n",
       "20        20  Patient ID Number         9            8   \n",
       "30        30      Registry Type         9            1   \n",
       "35        35  FIN Coding System         9            1   \n",
       "40        40        Registry ID         9           10   \n",
       "\n",
       "                            Format  \\\n",
       "item                                 \n",
       "10                            None   \n",
       "20    Right justified, zero filled   \n",
       "30                            None   \n",
       "35                            None   \n",
       "40    Right justified, zero filled   \n",
       "\n",
       "                                             AllowValue  \n",
       "item                                                     \n",
       "10                                     I, C, A, U, M, L  \n",
       "20                                                 None  \n",
       "30                                                  1-3  \n",
       "35                                              1, 2, 9  \n",
       "40    10-digit number. Reference to EDITS table REGI...  "
      ]
     },
     "execution_count": 12,
     "metadata": {},
     "output_type": "execute_result"
    }
   ],
   "source": [
    "# NAACCR items, labels\n",
    "\n",
    "t_item = pd.read_sql('''\n",
    "-- \"Description\"\n",
    "select \"ItemNbr\", \"ItemName\",  \"SectionID\", \"FieldLength\", \"Format\", \"AllowValue\"\n",
    "from naaccr.t_item\n",
    "''', babel_db)\n",
    "t_item['item'] = t_item.ItemNbr.astype('int')\n",
    "t_item = t_item.set_index('item')\n",
    "t_item['FieldLength'] = t_item.FieldLength.astype('float64')\n",
    "t_item.head()"
   ]
  },
  {
   "cell_type": "code",
   "execution_count": 13,
   "metadata": {
    "collapsed": false
   },
   "outputs": [
    {
     "data": {
      "text/html": [
       "<div>\n",
       "<table border=\"1\" class=\"dataframe\">\n",
       "  <thead>\n",
       "    <tr style=\"text-align: right;\">\n",
       "      <th></th>\n",
       "      <th>naaccr_item</th>\n",
       "      <th>field_label</th>\n",
       "      <th>choice_code</th>\n",
       "      <th>code_len</th>\n",
       "      <th>FieldLength</th>\n",
       "    </tr>\n",
       "  </thead>\n",
       "  <tbody>\n",
       "  </tbody>\n",
       "</table>\n",
       "</div>"
      ],
      "text/plain": [
       "Empty DataFrame\n",
       "Columns: [naaccr_item, field_label, choice_code, code_len, FieldLength]\n",
       "Index: []"
      ]
     },
     "execution_count": 13,
     "metadata": {},
     "output_type": "execute_result"
    }
   ],
   "source": [
    "# How long is each code in the REDCap data dictionary?\n",
    "x = ddict_choices[['naaccr_item', 'field_label', 'choice_code']].copy()\n",
    "x['code_len'] = x.choice_code.str.len()\n",
    "\n",
    "# Any codes from REDCap whose lengths don't match the NAACCR t_item.FieldLength?\n",
    "x = x.merge(t_item[['FieldLength']], left_on='naaccr_item', right_index=True, how='left')\n",
    "x[x.code_len != x.FieldLength]"
   ]
  },
  {
   "cell_type": "code",
   "execution_count": 14,
   "metadata": {
    "collapsed": true
   },
   "outputs": [],
   "source": [
    "# If there are, halt and catch fire.\n",
    "assert len(x[x.code_len != x.FieldLength]) == 0"
   ]
  },
  {
   "cell_type": "markdown",
   "metadata": {},
   "source": [
    "### Compare GPC Ontology values vs. REDCap data dictionary values"
   ]
  },
  {
   "cell_type": "code",
   "execution_count": 15,
   "metadata": {
    "collapsed": true
   },
   "outputs": [],
   "source": [
    "def gpc_std(item_keys,\n",
    "            c_table_cd='GPC'):\n",
    "    '''GPC hasn't standardized c_table_cd; ignore it.\n",
    "    '''\n",
    "    return item_keys.apply(lambda k: '\\\\' + c_table_cd + '\\\\' + k.split('\\\\', 4)[-1])\n",
    "\n",
    "def path_constraint(terms,\n",
    "                    c_table_cd='GPC'):\n",
    "    '''Build a SQL \"in (...)\" constraint from a dataframe of terms.\n",
    "    '''\n",
    "    paths = gpc_std(terms.item_key, c_table_cd=c_table_cd)\n",
    "    params = dict(('param' + str(ix), path)\n",
    "                  for (ix, path) in enumerate(paths))\n",
    "    expr = ', '.join('%({0})s'.format(k) for k in params.keys())\n",
    "    return expr, params"
   ]
  },
  {
   "cell_type": "markdown",
   "metadata": {},
   "source": [
    "Get metadata from babel for all concepts in the NAACCR ontology:"
   ]
  },
  {
   "cell_type": "code",
   "execution_count": 16,
   "metadata": {
    "collapsed": false
   },
   "outputs": [
    {
     "data": {
      "text/plain": [
       "24813"
      ]
     },
     "execution_count": 16,
     "metadata": {},
     "output_type": "execute_result"
    }
   ],
   "source": [
    "naaccr_relevant = pd.read_sql(r'''\n",
    "  select c_hlevel, c_name, c_fullname, c_tooltip, c_basecode\n",
    "  from i2b2metadata.heron_terms\n",
    "  where c_fullname like '\\i2b2\\naaccr\\S:%%' escape '@'\n",
    "  order by c_fullname\n",
    "''', babel_db)\n",
    "\n",
    "len(naaccr_relevant)"
   ]
  },
  {
   "cell_type": "markdown",
   "metadata": {},
   "source": [
    "Clean up the code labels and extract item and section info from path, tooltip:"
   ]
  },
  {
   "cell_type": "code",
   "execution_count": 17,
   "metadata": {
    "collapsed": false
   },
   "outputs": [
    {
     "data": {
      "text/plain": [
       "['[AN000] ANTINEOPLASTICS', '07']"
      ]
     },
     "execution_count": 17,
     "metadata": {},
     "output_type": "execute_result"
    }
   ],
   "source": [
    "def strip_counts(label):\n",
    "    return None if label is None else re.sub(r' \\[[<\\d].*', '', label)\n",
    "\n",
    "[strip_counts(txt)\n",
    " for txt in ['[AN000] ANTINEOPLASTICS [2,134,661 facts',\n",
    "             '07 [<10 facts]']]"
   ]
  },
  {
   "cell_type": "code",
   "execution_count": 18,
   "metadata": {
    "collapsed": false
   },
   "outputs": [],
   "source": [
    "map_option = lambda f: lambda x: None if not x else f(x)\n",
    "\n",
    "# GPC doesn't standardize c_basecode,\n",
    "# but this draws on heron_terms where the c_basecode pattern is known.\n",
    "naaccr_relevant['naaccr_item'] = naaccr_relevant.c_basecode.apply(\n",
    "    map_option(lambda c: int(c.split('|')[1].split(':')[0]))).astype('float64')\n",
    "# Again, GPC doesn't standardize tooltips, but their structure is known for heron_terms.\n",
    "naaccr_relevant['section'] = naaccr_relevant.c_tooltip.apply(\n",
    "    map_option(lambda tip: ''.join(tip.split(' \\\\ ')[1:2])))\n",
    "naaccr_relevant['item_name'] = naaccr_relevant.c_tooltip.apply(\n",
    "    map_option(lambda tip: ''.join(tip.split(' \\\\ ')[2:3])))\n",
    "naaccr_relevant['code_label'] = naaccr_relevant.c_name.apply(strip_counts)\n",
    "naaccr_relevant.set_value(naaccr_relevant.c_hlevel < 4, 'code_label', None)\n",
    "\n",
    "def naaccr_choice_codes(terms):\n",
    "    return [\n",
    "        (None if term.c_fullname is None or term.c_hlevel < 4 else\n",
    "         term.c_fullname.split('\\\\')[int(term.c_hlevel + 1)].split(' ', 1)[0])\n",
    "        for (_, term) in terms.iterrows()]\n",
    "\n",
    "naaccr_relevant['choice_code'] = naaccr_choice_codes(naaccr_relevant)"
   ]
  },
  {
   "cell_type": "code",
   "execution_count": 19,
   "metadata": {
    "collapsed": false,
    "scrolled": true
   },
   "outputs": [
    {
     "data": {
      "text/html": [
       "<div>\n",
       "<table border=\"1\" class=\"dataframe\">\n",
       "  <thead>\n",
       "    <tr style=\"text-align: right;\">\n",
       "      <th></th>\n",
       "      <th>naaccr_item</th>\n",
       "      <th>section</th>\n",
       "      <th>item_name</th>\n",
       "      <th>choice_code</th>\n",
       "      <th>code_label</th>\n",
       "    </tr>\n",
       "  </thead>\n",
       "  <tbody>\n",
       "    <tr>\n",
       "      <th>0</th>\n",
       "      <td>NaN</td>\n",
       "      <td></td>\n",
       "      <td></td>\n",
       "      <td>None</td>\n",
       "      <td>None</td>\n",
       "    </tr>\n",
       "    <tr>\n",
       "      <th>1</th>\n",
       "      <td>2220</td>\n",
       "      <td>10 Special Use</td>\n",
       "      <td></td>\n",
       "      <td>None</td>\n",
       "      <td>None</td>\n",
       "    </tr>\n",
       "    <tr>\n",
       "      <th>2</th>\n",
       "      <td>NaN</td>\n",
       "      <td></td>\n",
       "      <td></td>\n",
       "      <td>None</td>\n",
       "      <td>None</td>\n",
       "    </tr>\n",
       "    <tr>\n",
       "      <th>3</th>\n",
       "      <td>759</td>\n",
       "      <td>11 Stage/Prognostic Factors</td>\n",
       "      <td></td>\n",
       "      <td>None</td>\n",
       "      <td>None</td>\n",
       "    </tr>\n",
       "    <tr>\n",
       "      <th>4</th>\n",
       "      <td>759</td>\n",
       "      <td>11 Stage/Prognostic Factors</td>\n",
       "      <td>0759 SEER Summary Stage 2000</td>\n",
       "      <td>0</td>\n",
       "      <td>0 &lt;i&gt;In situ&lt;/i&gt;</td>\n",
       "    </tr>\n",
       "    <tr>\n",
       "      <th>5</th>\n",
       "      <td>759</td>\n",
       "      <td>11 Stage/Prognostic Factors</td>\n",
       "      <td>0759 SEER Summary Stage 2000</td>\n",
       "      <td>1</td>\n",
       "      <td>1 Localized</td>\n",
       "    </tr>\n",
       "    <tr>\n",
       "      <th>6</th>\n",
       "      <td>759</td>\n",
       "      <td>11 Stage/Prognostic Factors</td>\n",
       "      <td>0759 SEER Summary Stage 2000</td>\n",
       "      <td>2</td>\n",
       "      <td>2 Regional, direct extension only</td>\n",
       "    </tr>\n",
       "    <tr>\n",
       "      <th>7</th>\n",
       "      <td>759</td>\n",
       "      <td>11 Stage/Prognostic Factors</td>\n",
       "      <td>0759 SEER Summary Stage 2000</td>\n",
       "      <td>3</td>\n",
       "      <td>3 Regional, regional lymph nodes only</td>\n",
       "    </tr>\n",
       "  </tbody>\n",
       "</table>\n",
       "</div>"
      ],
      "text/plain": [
       "   naaccr_item                      section                     item_name  \\\n",
       "0          NaN                                                              \n",
       "1         2220               10 Special Use                                 \n",
       "2          NaN                                                              \n",
       "3          759  11 Stage/Prognostic Factors                                 \n",
       "4          759  11 Stage/Prognostic Factors  0759 SEER Summary Stage 2000   \n",
       "5          759  11 Stage/Prognostic Factors  0759 SEER Summary Stage 2000   \n",
       "6          759  11 Stage/Prognostic Factors  0759 SEER Summary Stage 2000   \n",
       "7          759  11 Stage/Prognostic Factors  0759 SEER Summary Stage 2000   \n",
       "\n",
       "  choice_code                             code_label  \n",
       "0        None                                   None  \n",
       "1        None                                   None  \n",
       "2        None                                   None  \n",
       "3        None                                   None  \n",
       "4           0                       0 <i>In situ</i>  \n",
       "5           1                            1 Localized  \n",
       "6           2      2 Regional, direct extension only  \n",
       "7           3  3 Regional, regional lymph nodes only  "
      ]
     },
     "execution_count": 19,
     "metadata": {},
     "output_type": "execute_result"
    }
   ],
   "source": [
    "naaccr_relevant[[\n",
    "        'naaccr_item', 'section', 'item_name', 'choice_code', 'code_label']].head(8)"
   ]
  },
  {
   "cell_type": "markdown",
   "metadata": {},
   "source": [
    "## Codes in REDCap but not in the ontology on babel"
   ]
  },
  {
   "cell_type": "code",
   "execution_count": 20,
   "metadata": {
    "collapsed": false
   },
   "outputs": [
    {
     "data": {
      "text/html": [
       "<div>\n",
       "<table border=\"1\" class=\"dataframe\">\n",
       "  <thead>\n",
       "    <tr style=\"text-align: right;\">\n",
       "      <th></th>\n",
       "      <th>field_label</th>\n",
       "      <th>naaccr_item</th>\n",
       "    </tr>\n",
       "    <tr>\n",
       "      <th>field_name</th>\n",
       "      <th></th>\n",
       "      <th></th>\n",
       "    </tr>\n",
       "  </thead>\n",
       "  <tbody>\n",
       "  </tbody>\n",
       "</table>\n",
       "</div>"
      ],
      "text/plain": [
       "Empty DataFrame\n",
       "Columns: [field_label, naaccr_item]\n",
       "Index: []"
      ]
     },
     "execution_count": 20,
     "metadata": {},
     "output_type": "execute_result"
    }
   ],
   "source": [
    "# First let's check that we have no NAACCR variables\n",
    "# in the data dictionary that are not on babel.\n",
    "bc_tumor_fields[\n",
    "    ~pd.isnull(bc_tumor_fields.naaccr_item) &\n",
    "    ~bc_tumor_fields.naaccr_item.isin(naaccr_relevant.naaccr_item.astype('float64'))\n",
    "][['field_label', 'naaccr_item']]\n"
   ]
  },
  {
   "cell_type": "markdown",
   "metadata": {},
   "source": [
    "Some codes in REDCap seem to be newer codes that are perhaps not\n",
    "in the version of the NAAACCR ontology used in babel.\n",
    "\n",
    "We're OK unless/until these codes show up in submitted data."
   ]
  },
  {
   "cell_type": "code",
   "execution_count": 21,
   "metadata": {
    "collapsed": false
   },
   "outputs": [
    {
     "data": {
      "text/html": [
       "<div>\n",
       "<table border=\"1\" class=\"dataframe\">\n",
       "  <thead>\n",
       "    <tr style=\"text-align: right;\">\n",
       "      <th></th>\n",
       "      <th></th>\n",
       "      <th>field_label</th>\n",
       "      <th>code_label</th>\n",
       "      <th>section</th>\n",
       "      <th>c_basecode</th>\n",
       "    </tr>\n",
       "    <tr>\n",
       "      <th>naaccr_item</th>\n",
       "      <th>choice_code</th>\n",
       "      <th></th>\n",
       "      <th></th>\n",
       "      <th></th>\n",
       "      <th></th>\n",
       "    </tr>\n",
       "  </thead>\n",
       "  <tbody>\n",
       "    <tr>\n",
       "      <th rowspan=\"2\" valign=\"top\">161</th>\n",
       "      <th>16</th>\n",
       "      <td>0161 Race 2</td>\n",
       "      <td>16-Asian Indian</td>\n",
       "      <td>NaN</td>\n",
       "      <td>NaN</td>\n",
       "    </tr>\n",
       "    <tr>\n",
       "      <th>17</th>\n",
       "      <td>0161 Race 2</td>\n",
       "      <td>17-Pakistani</td>\n",
       "      <td>NaN</td>\n",
       "      <td>NaN</td>\n",
       "    </tr>\n",
       "    <tr>\n",
       "      <th rowspan=\"2\" valign=\"top\">162</th>\n",
       "      <th>16</th>\n",
       "      <td>0162 Race 3</td>\n",
       "      <td>16-Asian Indian</td>\n",
       "      <td>NaN</td>\n",
       "      <td>NaN</td>\n",
       "    </tr>\n",
       "    <tr>\n",
       "      <th>17</th>\n",
       "      <td>0162 Race 3</td>\n",
       "      <td>17-Pakistani</td>\n",
       "      <td>NaN</td>\n",
       "      <td>NaN</td>\n",
       "    </tr>\n",
       "    <tr>\n",
       "      <th rowspan=\"2\" valign=\"top\">163</th>\n",
       "      <th>16</th>\n",
       "      <td>0163 Race 4</td>\n",
       "      <td>16-Asian Indian</td>\n",
       "      <td>NaN</td>\n",
       "      <td>NaN</td>\n",
       "    </tr>\n",
       "    <tr>\n",
       "      <th>17</th>\n",
       "      <td>0163 Race 4</td>\n",
       "      <td>17-Pakistani</td>\n",
       "      <td>NaN</td>\n",
       "      <td>NaN</td>\n",
       "    </tr>\n",
       "    <tr>\n",
       "      <th rowspan=\"2\" valign=\"top\">164</th>\n",
       "      <th>16</th>\n",
       "      <td>0164 Race 5</td>\n",
       "      <td>16-Asian Indian</td>\n",
       "      <td>NaN</td>\n",
       "      <td>NaN</td>\n",
       "    </tr>\n",
       "    <tr>\n",
       "      <th>17</th>\n",
       "      <td>0164 Race 5</td>\n",
       "      <td>17-Pakistani</td>\n",
       "      <td>NaN</td>\n",
       "      <td>NaN</td>\n",
       "    </tr>\n",
       "    <tr>\n",
       "      <th rowspan=\"2\" valign=\"top\">220</th>\n",
       "      <th>5</th>\n",
       "      <td>0220 Sex</td>\n",
       "      <td>5-Transsexual* natal male</td>\n",
       "      <td>NaN</td>\n",
       "      <td>NaN</td>\n",
       "    </tr>\n",
       "    <tr>\n",
       "      <th>6</th>\n",
       "      <td>0220 Sex</td>\n",
       "      <td>6-Transsexual* natal female</td>\n",
       "      <td>NaN</td>\n",
       "      <td>NaN</td>\n",
       "    </tr>\n",
       "    <tr>\n",
       "      <th rowspan=\"2\" valign=\"top\">560</th>\n",
       "      <th>59</th>\n",
       "      <td>0560 Sequence Number-Hospital</td>\n",
       "      <td>59-Fifty-ninth or higher of fifty-nine or more...</td>\n",
       "      <td>NaN</td>\n",
       "      <td>NaN</td>\n",
       "    </tr>\n",
       "    <tr>\n",
       "      <th>98</th>\n",
       "      <td>0560 Sequence Number-Hospital</td>\n",
       "      <td>98-Cervix carcinoma in situ (CIS)/CIN III* Dia...</td>\n",
       "      <td>NaN</td>\n",
       "      <td>NaN</td>\n",
       "    </tr>\n",
       "    <tr>\n",
       "      <th rowspan=\"3\" valign=\"top\">610</th>\n",
       "      <th>42</th>\n",
       "      <td>0610 Class of Case</td>\n",
       "      <td>42-Non-staff physician or non-CoC accredited c...</td>\n",
       "      <td>NaN</td>\n",
       "      <td>NaN</td>\n",
       "    </tr>\n",
       "    <tr>\n",
       "      <th>43</th>\n",
       "      <td>0610 Class of Case</td>\n",
       "      <td>43-PATHOLOGY or other lab specimens ONLY</td>\n",
       "      <td>NaN</td>\n",
       "      <td>NaN</td>\n",
       "    </tr>\n",
       "    <tr>\n",
       "      <th>49</th>\n",
       "      <td>0610 Class of Case</td>\n",
       "      <td>49-DEATH CERTIFICATE ONLY</td>\n",
       "      <td>NaN</td>\n",
       "      <td>NaN</td>\n",
       "    </tr>\n",
       "    <tr>\n",
       "      <th>1646</th>\n",
       "      <th>xx</th>\n",
       "      <td>1646 RX Summ--Surg Site 98-02</td>\n",
       "      <td>xx-site specific codes</td>\n",
       "      <td>NaN</td>\n",
       "      <td>NaN</td>\n",
       "    </tr>\n",
       "    <tr>\n",
       "      <th>3420</th>\n",
       "      <th>999</th>\n",
       "      <td>3420 Derived AJCC-7 M</td>\n",
       "      <td>999-MX</td>\n",
       "      <td>NaN</td>\n",
       "      <td>NaN</td>\n",
       "    </tr>\n",
       "  </tbody>\n",
       "</table>\n",
       "</div>"
      ],
      "text/plain": [
       "                                           field_label  \\\n",
       "naaccr_item choice_code                                  \n",
       "161         16                             0161 Race 2   \n",
       "            17                             0161 Race 2   \n",
       "162         16                             0162 Race 3   \n",
       "            17                             0162 Race 3   \n",
       "163         16                             0163 Race 4   \n",
       "            17                             0163 Race 4   \n",
       "164         16                             0164 Race 5   \n",
       "            17                             0164 Race 5   \n",
       "220         5                                 0220 Sex   \n",
       "            6                                 0220 Sex   \n",
       "560         59           0560 Sequence Number-Hospital   \n",
       "            98           0560 Sequence Number-Hospital   \n",
       "610         42                      0610 Class of Case   \n",
       "            43                      0610 Class of Case   \n",
       "            49                      0610 Class of Case   \n",
       "1646        xx           1646 RX Summ--Surg Site 98-02   \n",
       "3420        999                  3420 Derived AJCC-7 M   \n",
       "\n",
       "                                                                code_label  \\\n",
       "naaccr_item choice_code                                                      \n",
       "161         16                                             16-Asian Indian   \n",
       "            17                                                17-Pakistani   \n",
       "162         16                                             16-Asian Indian   \n",
       "            17                                                17-Pakistani   \n",
       "163         16                                             16-Asian Indian   \n",
       "            17                                                17-Pakistani   \n",
       "164         16                                             16-Asian Indian   \n",
       "            17                                                17-Pakistani   \n",
       "220         5                                    5-Transsexual* natal male   \n",
       "            6                                  6-Transsexual* natal female   \n",
       "560         59           59-Fifty-ninth or higher of fifty-nine or more...   \n",
       "            98           98-Cervix carcinoma in situ (CIS)/CIN III* Dia...   \n",
       "610         42           42-Non-staff physician or non-CoC accredited c...   \n",
       "            43                    43-PATHOLOGY or other lab specimens ONLY   \n",
       "            49                                   49-DEATH CERTIFICATE ONLY   \n",
       "1646        xx                                      xx-site specific codes   \n",
       "3420        999                                                    999-MX    \n",
       "\n",
       "                        section c_basecode  \n",
       "naaccr_item choice_code                     \n",
       "161         16              NaN        NaN  \n",
       "            17              NaN        NaN  \n",
       "162         16              NaN        NaN  \n",
       "            17              NaN        NaN  \n",
       "163         16              NaN        NaN  \n",
       "            17              NaN        NaN  \n",
       "164         16              NaN        NaN  \n",
       "            17              NaN        NaN  \n",
       "220         5               NaN        NaN  \n",
       "            6               NaN        NaN  \n",
       "560         59              NaN        NaN  \n",
       "            98              NaN        NaN  \n",
       "610         42              NaN        NaN  \n",
       "            43              NaN        NaN  \n",
       "            49              NaN        NaN  \n",
       "1646        xx              NaN        NaN  \n",
       "3420        999             NaN        NaN  "
      ]
     },
     "execution_count": 21,
     "metadata": {},
     "output_type": "execute_result"
    }
   ],
   "source": [
    "check1 = ddict_choices.set_index(['naaccr_item', 'choice_code']).join(\n",
    "    naaccr_relevant.set_index(\n",
    "        ['naaccr_item', 'choice_code'])[['section', 'c_basecode']],\n",
    "    how='left', rsuffix='_db')\n",
    "\n",
    "check1[pd.isnull(check1.c_basecode)]"
   ]
  },
  {
   "cell_type": "markdown",
   "metadata": {},
   "source": [
    "@@TODO: check for codes in babel but not in REDCap?"
   ]
  },
  {
   "cell_type": "markdown",
   "metadata": {},
   "source": [
    "## Code in REDCap but not in the i2b2 query"
   ]
  },
  {
   "cell_type": "markdown",
   "metadata": {},
   "source": [
    "The i2b2 query **BC Phase 2e** of Dec 17, 2015 has over 100 terms from NAACCR plus several others:"
   ]
  },
  {
   "cell_type": "code",
   "execution_count": 22,
   "metadata": {
    "collapsed": true
   },
   "outputs": [],
   "source": [
    "bc295 = cwd / 'bc295_query_definition.xml'"
   ]
  },
  {
   "cell_type": "code",
   "execution_count": 23,
   "metadata": {
    "collapsed": false
   },
   "outputs": [
    {
     "data": {
      "text/plain": [
       "'Medications'"
      ]
     },
     "execution_count": 23,
     "metadata": {},
     "output_type": "execute_result"
    }
   ],
   "source": [
    "def item_ont(item_key):\n",
    "    part = item_key.split('\\\\')\n",
    "    return part[5] if part[4] == 'naaccr' and part[5] == 'SEER Site' else part[4]\n",
    "\n",
    "item_ont(r'\\\\i2b2_Medications\\i2b2\\Medications\\RXAUI:3257')"
   ]
  },
  {
   "cell_type": "markdown",
   "metadata": {},
   "source": [
    "@@TODO: site-specific factors?"
   ]
  },
  {
   "cell_type": "code",
   "execution_count": 24,
   "metadata": {
    "collapsed": false,
    "scrolled": true
   },
   "outputs": [
    {
     "data": {
      "text/html": [
       "<div>\n",
       "<table border=\"1\" class=\"dataframe\">\n",
       "  <thead>\n",
       "    <tr style=\"text-align: right;\">\n",
       "      <th></th>\n",
       "      <th>hlevel</th>\n",
       "      <th>item_key</th>\n",
       "      <th>tooltip</th>\n",
       "      <th>short_name</th>\n",
       "      <th>ont</th>\n",
       "    </tr>\n",
       "  </thead>\n",
       "  <tbody>\n",
       "    <tr>\n",
       "      <th>126</th>\n",
       "      <td>3</td>\n",
       "      <td>\\\\i2b2_naaccr\\i2b2\\naaccr\\S:6 Hospital-Specifi...</td>\n",
       "      <td>Cancer Cases \\ 06 Hospital-Specific</td>\n",
       "      <td>0746 RX Hosp--Surg Site 98-02</td>\n",
       "      <td>naaccr</td>\n",
       "    </tr>\n",
       "    <tr>\n",
       "      <th>127</th>\n",
       "      <td>3</td>\n",
       "      <td>\\\\i2b2_naaccr\\i2b2\\naaccr\\S:6 Hospital-Specifi...</td>\n",
       "      <td>Cancer Cases \\ 06 Hospital-Specific</td>\n",
       "      <td>0747 RX Hosp--Scope Reg 98-02</td>\n",
       "      <td>naaccr</td>\n",
       "    </tr>\n",
       "    <tr>\n",
       "      <th>128</th>\n",
       "      <td>3</td>\n",
       "      <td>\\\\i2b2_naaccr\\i2b2\\naaccr\\S:6 Hospital-Specifi...</td>\n",
       "      <td>Cancer Cases \\ 06 Hospital-Specific</td>\n",
       "      <td>0748 RX Hosp--Surg Oth 98-02</td>\n",
       "      <td>naaccr</td>\n",
       "    </tr>\n",
       "    <tr>\n",
       "      <th>129</th>\n",
       "      <td>3</td>\n",
       "      <td>\\\\i2b2_naaccr\\i2b2\\naaccr\\S:6 Hospital-Specifi...</td>\n",
       "      <td>Cancer Cases \\ 06 Hospital-Specific</td>\n",
       "      <td>3280 RX Hosp--Palliative Proc</td>\n",
       "      <td>naaccr</td>\n",
       "    </tr>\n",
       "    <tr>\n",
       "      <th>130</th>\n",
       "      <td>3</td>\n",
       "      <td>\\\\i2b2_naaccr\\i2b2\\naaccr\\SEER Site\\Breast\\</td>\n",
       "      <td>Cancer Cases \\ SEER Site Summary</td>\n",
       "      <td>Breast</td>\n",
       "      <td>SEER Site</td>\n",
       "    </tr>\n",
       "  </tbody>\n",
       "</table>\n",
       "</div>"
      ],
      "text/plain": [
       "     hlevel                                           item_key  \\\n",
       "126       3  \\\\i2b2_naaccr\\i2b2\\naaccr\\S:6 Hospital-Specifi...   \n",
       "127       3  \\\\i2b2_naaccr\\i2b2\\naaccr\\S:6 Hospital-Specifi...   \n",
       "128       3  \\\\i2b2_naaccr\\i2b2\\naaccr\\S:6 Hospital-Specifi...   \n",
       "129       3  \\\\i2b2_naaccr\\i2b2\\naaccr\\S:6 Hospital-Specifi...   \n",
       "130       3        \\\\i2b2_naaccr\\i2b2\\naaccr\\SEER Site\\Breast\\   \n",
       "\n",
       "                                 tooltip                     short_name  \\\n",
       "126  Cancer Cases \\ 06 Hospital-Specific  0746 RX Hosp--Surg Site 98-02   \n",
       "127  Cancer Cases \\ 06 Hospital-Specific  0747 RX Hosp--Scope Reg 98-02   \n",
       "128  Cancer Cases \\ 06 Hospital-Specific   0748 RX Hosp--Surg Oth 98-02   \n",
       "129  Cancer Cases \\ 06 Hospital-Specific  3280 RX Hosp--Palliative Proc   \n",
       "130     Cancer Cases \\ SEER Site Summary                         Breast   \n",
       "\n",
       "           ont  \n",
       "126     naaccr  \n",
       "127     naaccr  \n",
       "128     naaccr  \n",
       "129     naaccr  \n",
       "130  SEER Site  "
      ]
     },
     "execution_count": 24,
     "metadata": {},
     "output_type": "execute_result"
    }
   ],
   "source": [
    "with bc295.open() as s:\n",
    "    qdef = ET.parse(s).getroot()\n",
    "\n",
    "def e2d(e, keys):\n",
    "    get = lambda ty, e: None if e is None else ty(e.text)\n",
    "    return [(k, get(ty, e.find(k))) for (k, ty) in keys]\n",
    "\n",
    "#panel_cols = [('panel_number', int),\n",
    "#             ('invert', int),\n",
    "#             ('panel_date_from', str),\n",
    "#             ('panel_timing', str)]  # categorical\n",
    "item_cols = [('hlevel', int),\n",
    "             ('item_name', str),\n",
    "             ('item_key', str),\n",
    "             #('item_icon', str),  # categorical\n",
    "             ('tooltip', str),\n",
    "             #('class', str),\n",
    "             #('item_is_synonym', bool)\n",
    "            ]\n",
    "qitem = pd.DataFrame([dict(# e2d(panel, panel_cols) +\n",
    "                           e2d(item, item_cols))\n",
    "              # for panel in qdef.iter('panel')\n",
    "              for item in qdef.iter('item')])\n",
    "\n",
    "\n",
    "qitem['short_name'] = qitem.item_name.apply(strip_counts)\n",
    "del qitem['item_name']\n",
    "qitem = qitem.sort_values('item_key').drop_duplicates().reset_index(drop=True)\n",
    "qitem['ont'] = qitem.item_key.apply(item_ont)\n",
    "\n",
    "qitem.tail()"
   ]
  },
  {
   "cell_type": "code",
   "execution_count": 25,
   "metadata": {
    "collapsed": false
   },
   "outputs": [],
   "source": [
    "q1 = qitem.groupby('item_key')[['hlevel', 'tooltip', 'short_name']].min()\n",
    "q1.reset_index()[['hlevel', 'tooltip', 'short_name', 'item_key']].to_csv('q295_sheet.csv')"
   ]
  },
  {
   "cell_type": "code",
   "execution_count": 26,
   "metadata": {
    "collapsed": false
   },
   "outputs": [
    {
     "data": {
      "text/html": [
       "<div>\n",
       "<table border=\"1\" class=\"dataframe\">\n",
       "  <thead>\n",
       "    <tr style=\"text-align: right;\">\n",
       "      <th></th>\n",
       "      <th>item_key</th>\n",
       "    </tr>\n",
       "    <tr>\n",
       "      <th>ont</th>\n",
       "      <th></th>\n",
       "    </tr>\n",
       "  </thead>\n",
       "  <tbody>\n",
       "    <tr>\n",
       "      <th>Demographics</th>\n",
       "      <td>5</td>\n",
       "    </tr>\n",
       "    <tr>\n",
       "      <th>Diagnoses</th>\n",
       "      <td>4</td>\n",
       "    </tr>\n",
       "    <tr>\n",
       "      <th>Medications</th>\n",
       "      <td>2</td>\n",
       "    </tr>\n",
       "    <tr>\n",
       "      <th>Procedures</th>\n",
       "      <td>3</td>\n",
       "    </tr>\n",
       "    <tr>\n",
       "      <th>SEER Site</th>\n",
       "      <td>1</td>\n",
       "    </tr>\n",
       "    <tr>\n",
       "      <th>Visit Details</th>\n",
       "      <td>3</td>\n",
       "    </tr>\n",
       "    <tr>\n",
       "      <th>naaccr</th>\n",
       "      <td>113</td>\n",
       "    </tr>\n",
       "  </tbody>\n",
       "</table>\n",
       "</div>"
      ],
      "text/plain": [
       "               item_key\n",
       "ont                    \n",
       "Demographics          5\n",
       "Diagnoses             4\n",
       "Medications           2\n",
       "Procedures            3\n",
       "SEER Site             1\n",
       "Visit Details         3\n",
       "naaccr              113"
      ]
     },
     "execution_count": 26,
     "metadata": {},
     "output_type": "execute_result"
    }
   ],
   "source": [
    "qitem.groupby('ont')[['item_key']].count()"
   ]
  },
  {
   "cell_type": "markdown",
   "metadata": {},
   "source": [
    "For the ones from NAACCR, let's pick out the item number:"
   ]
  },
  {
   "cell_type": "code",
   "execution_count": 27,
   "metadata": {
    "collapsed": false
   },
   "outputs": [
    {
     "data": {
      "text/html": [
       "<div>\n",
       "<table border=\"1\" class=\"dataframe\">\n",
       "  <thead>\n",
       "    <tr style=\"text-align: right;\">\n",
       "      <th></th>\n",
       "      <th>tooltip</th>\n",
       "      <th>short_name</th>\n",
       "      <th>naaccr_item</th>\n",
       "    </tr>\n",
       "  </thead>\n",
       "  <tbody>\n",
       "    <tr>\n",
       "      <th>17</th>\n",
       "      <td>Cancer Cases \\ 01 Cancer Identification</td>\n",
       "      <td>0380 Sequence Number--Central</td>\n",
       "      <td>380</td>\n",
       "    </tr>\n",
       "    <tr>\n",
       "      <th>18</th>\n",
       "      <td>Cancer Cases \\ 01 Cancer Identification</td>\n",
       "      <td>0390 Date of Diagnosis</td>\n",
       "      <td>390</td>\n",
       "    </tr>\n",
       "    <tr>\n",
       "      <th>19</th>\n",
       "      <td>Cancer Cases \\ 01 Cancer Identification</td>\n",
       "      <td>0400 Primary Site</td>\n",
       "      <td>400</td>\n",
       "    </tr>\n",
       "    <tr>\n",
       "      <th>20</th>\n",
       "      <td>Cancer Cases \\ 01 Cancer Identification</td>\n",
       "      <td>0410 Laterality</td>\n",
       "      <td>410</td>\n",
       "    </tr>\n",
       "    <tr>\n",
       "      <th>21</th>\n",
       "      <td>Cancer Cases \\ 01 Cancer Identification</td>\n",
       "      <td>0440 Grade</td>\n",
       "      <td>440</td>\n",
       "    </tr>\n",
       "  </tbody>\n",
       "</table>\n",
       "</div>"
      ],
      "text/plain": [
       "                                    tooltip                     short_name  \\\n",
       "17  Cancer Cases \\ 01 Cancer Identification  0380 Sequence Number--Central   \n",
       "18  Cancer Cases \\ 01 Cancer Identification         0390 Date of Diagnosis   \n",
       "19  Cancer Cases \\ 01 Cancer Identification              0400 Primary Site   \n",
       "20  Cancer Cases \\ 01 Cancer Identification                0410 Laterality   \n",
       "21  Cancer Cases \\ 01 Cancer Identification                     0440 Grade   \n",
       "\n",
       "    naaccr_item  \n",
       "17          380  \n",
       "18          390  \n",
       "19          400  \n",
       "20          410  \n",
       "21          440  "
      ]
     },
     "execution_count": 27,
     "metadata": {},
     "output_type": "execute_result"
    }
   ],
   "source": [
    "qitem.set_value(qitem.ont == 'naaccr', 'naaccr_item', qitem.short_name.apply(lambda s: s[:4]))\n",
    "qitem.naaccr_item = qitem.naaccr_item.astype('float64')\n",
    "\n",
    "qitem[qitem.ont == 'naaccr'][['tooltip', 'short_name', 'naaccr_item']].head()"
   ]
  },
  {
   "cell_type": "markdown",
   "metadata": {},
   "source": [
    "The following are missing from the query!"
   ]
  },
  {
   "cell_type": "code",
   "execution_count": 28,
   "metadata": {
    "collapsed": false
   },
   "outputs": [
    {
     "data": {
      "text/html": [
       "<div>\n",
       "<table border=\"1\" class=\"dataframe\">\n",
       "  <thead>\n",
       "    <tr style=\"text-align: right;\">\n",
       "      <th></th>\n",
       "      <th>field_label</th>\n",
       "      <th>form_name</th>\n",
       "      <th>naaccr_item</th>\n",
       "    </tr>\n",
       "    <tr>\n",
       "      <th>field_name</th>\n",
       "      <th></th>\n",
       "      <th></th>\n",
       "      <th></th>\n",
       "    </tr>\n",
       "  </thead>\n",
       "  <tbody>\n",
       "  </tbody>\n",
       "</table>\n",
       "</div>"
      ],
      "text/plain": [
       "Empty DataFrame\n",
       "Columns: [field_label, form_name, naaccr_item]\n",
       "Index: []"
      ]
     },
     "execution_count": 28,
     "metadata": {},
     "output_type": "execute_result"
    }
   ],
   "source": [
    "bc_tumor_fields[\n",
    "    ~pd.isnull(bc_tumor_fields.naaccr_item) &\n",
    "    ~bc_tumor_fields.naaccr_item.isin(qitem.naaccr_item)\n",
    "][['field_label', 'form_name', 'naaccr_item']]"
   ]
  },
  {
   "cell_type": "markdown",
   "metadata": {},
   "source": [
    "I'm looking for them in the ontology; what section are they in?"
   ]
  },
  {
   "cell_type": "code",
   "execution_count": 29,
   "metadata": {
    "collapsed": false
   },
   "outputs": [
    {
     "data": {
      "text/html": [
       "<div>\n",
       "<table border=\"1\" class=\"dataframe\">\n",
       "  <thead>\n",
       "    <tr style=\"text-align: right;\">\n",
       "      <th></th>\n",
       "      <th>naaccr_item</th>\n",
       "      <th>section</th>\n",
       "    </tr>\n",
       "  </thead>\n",
       "  <tbody>\n",
       "    <tr>\n",
       "      <th>832</th>\n",
       "      <td>2830</td>\n",
       "      <td>11 Stage/Prognostic Factors</td>\n",
       "    </tr>\n",
       "    <tr>\n",
       "      <th>929</th>\n",
       "      <td>2840</td>\n",
       "      <td>11 Stage/Prognostic Factors</td>\n",
       "    </tr>\n",
       "    <tr>\n",
       "      <th>16522</th>\n",
       "      <td>3270</td>\n",
       "      <td>15 Treatment-1st Course</td>\n",
       "    </tr>\n",
       "  </tbody>\n",
       "</table>\n",
       "</div>"
      ],
      "text/plain": [
       "       naaccr_item                      section\n",
       "832           2830  11 Stage/Prognostic Factors\n",
       "929           2840  11 Stage/Prognostic Factors\n",
       "16522         3270      15 Treatment-1st Course"
      ]
     },
     "execution_count": 29,
     "metadata": {},
     "output_type": "execute_result"
    }
   ],
   "source": [
    "naaccr_relevant[naaccr_relevant.naaccr_item.isin([2830, 2840, 3270]) & pd.isnull(naaccr_relevant.choice_code)][['naaccr_item', 'section']]"
   ]
  },
  {
   "cell_type": "markdown",
   "metadata": {},
   "source": [
    "## Demographics"
   ]
  },
  {
   "cell_type": "code",
   "execution_count": 30,
   "metadata": {
    "collapsed": false
   },
   "outputs": [
    {
     "data": {
      "text/html": [
       "<div>\n",
       "<table border=\"1\" class=\"dataframe\">\n",
       "  <thead>\n",
       "    <tr style=\"text-align: right;\">\n",
       "      <th></th>\n",
       "      <th>field_label</th>\n",
       "    </tr>\n",
       "    <tr>\n",
       "      <th>form_name</th>\n",
       "      <th></th>\n",
       "    </tr>\n",
       "  </thead>\n",
       "  <tbody>\n",
       "    <tr>\n",
       "      <th>admin</th>\n",
       "      <td>4</td>\n",
       "    </tr>\n",
       "    <tr>\n",
       "      <th>clinical</th>\n",
       "      <td>46</td>\n",
       "    </tr>\n",
       "    <tr>\n",
       "      <th>demographic</th>\n",
       "      <td>10</td>\n",
       "    </tr>\n",
       "    <tr>\n",
       "      <th>registry</th>\n",
       "      <td>10</td>\n",
       "    </tr>\n",
       "    <tr>\n",
       "      <th>test</th>\n",
       "      <td>1</td>\n",
       "    </tr>\n",
       "    <tr>\n",
       "      <th>treatment</th>\n",
       "      <td>63</td>\n",
       "    </tr>\n",
       "  </tbody>\n",
       "</table>\n",
       "</div>"
      ],
      "text/plain": [
       "             field_label\n",
       "form_name               \n",
       "admin                  4\n",
       "clinical              46\n",
       "demographic           10\n",
       "registry              10\n",
       "test                   1\n",
       "treatment             63"
      ]
     },
     "execution_count": 30,
     "metadata": {},
     "output_type": "execute_result"
    }
   ],
   "source": [
    "bc_tumor_fields.groupby('form_name')[['field_label']].count()"
   ]
  },
  {
   "cell_type": "code",
   "execution_count": 31,
   "metadata": {
    "collapsed": false
   },
   "outputs": [
    {
     "data": {
      "text/html": [
       "<div>\n",
       "<table border=\"1\" class=\"dataframe\">\n",
       "  <thead>\n",
       "    <tr style=\"text-align: right;\">\n",
       "      <th></th>\n",
       "      <th>form_name</th>\n",
       "      <th>section_header</th>\n",
       "      <th>field_type</th>\n",
       "      <th>field_label</th>\n",
       "      <th>select_choices_or_calculations</th>\n",
       "      <th>field_note</th>\n",
       "      <th>text_validation_type_or_show_slider_number</th>\n",
       "      <th>text_validation_min</th>\n",
       "      <th>text_validation_max</th>\n",
       "      <th>identifier</th>\n",
       "      <th>branching_logic</th>\n",
       "      <th>required_field</th>\n",
       "      <th>custom_alignment</th>\n",
       "      <th>question_number</th>\n",
       "      <th>matrix_group_name</th>\n",
       "      <th>v_num</th>\n",
       "      <th>naaccr_item</th>\n",
       "    </tr>\n",
       "    <tr>\n",
       "      <th>field_name</th>\n",
       "      <th></th>\n",
       "      <th></th>\n",
       "      <th></th>\n",
       "      <th></th>\n",
       "      <th></th>\n",
       "      <th></th>\n",
       "      <th></th>\n",
       "      <th></th>\n",
       "      <th></th>\n",
       "      <th></th>\n",
       "      <th></th>\n",
       "      <th></th>\n",
       "      <th></th>\n",
       "      <th></th>\n",
       "      <th></th>\n",
       "      <th></th>\n",
       "      <th></th>\n",
       "    </tr>\n",
       "  </thead>\n",
       "  <tbody>\n",
       "    <tr>\n",
       "      <th>v52_language</th>\n",
       "      <td>demographic</td>\n",
       "      <td>NaN</td>\n",
       "      <td>text</td>\n",
       "      <td>Language</td>\n",
       "      <td>NaN</td>\n",
       "      <td>source: EMR</td>\n",
       "      <td>NaN</td>\n",
       "      <td>NaN</td>\n",
       "      <td>NaN</td>\n",
       "      <td>NaN</td>\n",
       "      <td>NaN</td>\n",
       "      <td>NaN</td>\n",
       "      <td>NaN</td>\n",
       "      <td>NaN</td>\n",
       "      <td>NaN</td>\n",
       "      <td>52</td>\n",
       "      <td>NaN</td>\n",
       "    </tr>\n",
       "  </tbody>\n",
       "</table>\n",
       "</div>"
      ],
      "text/plain": [
       "                form_name  section_header field_type field_label  \\\n",
       "field_name                                                         \n",
       "v52_language  demographic             NaN       text    Language   \n",
       "\n",
       "             select_choices_or_calculations   field_note  \\\n",
       "field_name                                                 \n",
       "v52_language                            NaN  source: EMR   \n",
       "\n",
       "             text_validation_type_or_show_slider_number  text_validation_min  \\\n",
       "field_name                                                                     \n",
       "v52_language                                        NaN                  NaN   \n",
       "\n",
       "              text_validation_max identifier  branching_logic  required_field  \\\n",
       "field_name                                                                      \n",
       "v52_language                  NaN        NaN              NaN             NaN   \n",
       "\n",
       "              custom_alignment  question_number  matrix_group_name  v_num  \\\n",
       "field_name                                                                  \n",
       "v52_language               NaN              NaN                NaN     52   \n",
       "\n",
       "              naaccr_item  \n",
       "field_name                 \n",
       "v52_language          NaN  "
      ]
     },
     "execution_count": 31,
     "metadata": {},
     "output_type": "execute_result"
    }
   ],
   "source": [
    "bc_tumor_fields[(bc_tumor_fields.form_name == 'demographic') &\n",
    "                # NAACCR fields are already done\n",
    "                pd.isnull(bc_tumor_fields.naaccr_item)]\n",
    "#bc2_ddict[bc2_ddict['Form Name'] == 'Demographics'][['Form Name', 'Field Label', 'Field Type']]"
   ]
  },
  {
   "cell_type": "markdown",
   "metadata": {},
   "source": [
    "demographics TODOs@@:\n",
    "\n",
    "  - codes for gender, rase, ...\n",
    "  - codes from naaccr\n",
    "  - group naaccr race with EMR race?"
   ]
  },
  {
   "cell_type": "markdown",
   "metadata": {},
   "source": [
    "## Vitals"
   ]
  },
  {
   "cell_type": "code",
   "execution_count": 32,
   "metadata": {
    "collapsed": false
   },
   "outputs": [
    {
     "ename": "NameError",
     "evalue": "name 'bc2_ddict' is not defined",
     "output_type": "error",
     "traceback": [
      "\u001b[1;31m---------------------------------------------------------------------------\u001b[0m",
      "\u001b[1;31mNameError\u001b[0m                                 Traceback (most recent call last)",
      "\u001b[1;32m<ipython-input-32-1c4ce8766eb6>\u001b[0m in \u001b[0;36m<module>\u001b[1;34m()\u001b[0m\n\u001b[1;32m----> 1\u001b[1;33m \u001b[0mbc2_ddict\u001b[0m\u001b[1;33m.\u001b[0m\u001b[0mset_value\u001b[0m\u001b[1;33m(\u001b[0m\u001b[0mqitem\u001b[0m\u001b[1;33m.\u001b[0m\u001b[0mont\u001b[0m \u001b[1;33m==\u001b[0m \u001b[1;34m'Visit Details'\u001b[0m\u001b[1;33m,\u001b[0m \u001b[1;34m'Form Name'\u001b[0m\u001b[1;33m,\u001b[0m \u001b[1;34m'Visit Vitals'\u001b[0m\u001b[1;33m)\u001b[0m\u001b[1;33m\u001b[0m\u001b[0m\n\u001b[0m\u001b[0;32m      2\u001b[0m \u001b[0mbc2_ddict\u001b[0m\u001b[1;33m[\u001b[0m\u001b[0mbc2_ddict\u001b[0m\u001b[1;33m[\u001b[0m\u001b[1;34m'Form Name'\u001b[0m\u001b[1;33m]\u001b[0m \u001b[1;33m==\u001b[0m \u001b[1;34m'Visit Vitals'\u001b[0m\u001b[1;33m]\u001b[0m\u001b[1;33m[\u001b[0m\u001b[1;33m[\u001b[0m\u001b[1;34m'Form Name'\u001b[0m\u001b[1;33m,\u001b[0m \u001b[1;34m'Field Label'\u001b[0m\u001b[1;33m]\u001b[0m\u001b[1;33m]\u001b[0m\u001b[1;33m\u001b[0m\u001b[0m\n",
      "\u001b[1;31mNameError\u001b[0m: name 'bc2_ddict' is not defined"
     ]
    }
   ],
   "source": [
    "bc2_ddict.set_value(qitem.ont == 'Visit Details', 'Form Name', 'Visit Vitals')\n",
    "bc2_ddict[bc2_ddict['Form Name'] == 'Visit Vitals'][['Form Name', 'Field Label']]"
   ]
  },
  {
   "cell_type": "markdown",
   "metadata": {},
   "source": [
    "@@vitals todos:\n",
    "  - baseline, 1 year, two years\n",
    "  - field type, validation"
   ]
  },
  {
   "cell_type": "code",
   "execution_count": null,
   "metadata": {
    "collapsed": false
   },
   "outputs": [],
   "source": [
    "x = pd.DataFrame(dict(form=bc2_ddict['Form Name'],\n",
    "                      tooltip=qitem.tooltip,\n",
    "                      name=qitem.short_name,\n",
    "                     ont=qitem.ont),\n",
    "                columns='ont form tooltip name'.split())\n",
    "x[pd.isnull(x.form) & ~qitem.ont.isin(['Diagnoses', 'Procedures', 'Medications'])]\n"
   ]
  },
  {
   "cell_type": "markdown",
   "metadata": {},
   "source": [
    "### @@other"
   ]
  },
  {
   "cell_type": "code",
   "execution_count": null,
   "metadata": {
    "collapsed": false
   },
   "outputs": [],
   "source": [
    "qitem[~qitem.ont.isin(['naaccr', 'Diagnoses', 'Procedures'])][q_nice_cols]"
   ]
  },
  {
   "cell_type": "markdown",
   "metadata": {},
   "source": [
    "#### Medications: Antineoplastics, Hormones"
   ]
  },
  {
   "cell_type": "code",
   "execution_count": 51,
   "metadata": {
    "collapsed": false,
    "scrolled": false
   },
   "outputs": [
    {
     "data": {
      "text/html": [
       "<div>\n",
       "<table border=\"1\" class=\"dataframe\">\n",
       "  <thead>\n",
       "    <tr style=\"text-align: right;\">\n",
       "      <th></th>\n",
       "      <th>hlevel</th>\n",
       "      <th>item_key</th>\n",
       "      <th>tooltip</th>\n",
       "      <th>short_name</th>\n",
       "      <th>ont</th>\n",
       "      <th>naaccr_item</th>\n",
       "    </tr>\n",
       "  </thead>\n",
       "  <tbody>\n",
       "    <tr>\n",
       "      <th>9</th>\n",
       "      <td>2</td>\n",
       "      <td>\\\\i2b2_Medications\\i2b2\\Medications\\RXAUI:3257...</td>\n",
       "      <td>Medications</td>\n",
       "      <td>[AN000] ANTINEOPLASTICS</td>\n",
       "      <td>Medications</td>\n",
       "      <td>NaN</td>\n",
       "    </tr>\n",
       "    <tr>\n",
       "      <th>10</th>\n",
       "      <td>2</td>\n",
       "      <td>\\\\i2b2_Medications\\i2b2\\Medications\\RXAUI:3257...</td>\n",
       "      <td>Medications</td>\n",
       "      <td>[HS000] HORMONES/SYNTHETICS/MODIFIERS</td>\n",
       "      <td>Medications</td>\n",
       "      <td>NaN</td>\n",
       "    </tr>\n",
       "  </tbody>\n",
       "</table>\n",
       "</div>"
      ],
      "text/plain": [
       "    hlevel                                           item_key      tooltip  \\\n",
       "9        2  \\\\i2b2_Medications\\i2b2\\Medications\\RXAUI:3257...  Medications   \n",
       "10       2  \\\\i2b2_Medications\\i2b2\\Medications\\RXAUI:3257...  Medications   \n",
       "\n",
       "                               short_name          ont  naaccr_item  \n",
       "9                 [AN000] ANTINEOPLASTICS  Medications          NaN  \n",
       "10  [HS000] HORMONES/SYNTHETICS/MODIFIERS  Medications          NaN  "
      ]
     },
     "execution_count": 51,
     "metadata": {},
     "output_type": "execute_result"
    }
   ],
   "source": [
    "qitem[qitem.ont == 'Medications']  # [q_nice_cols]"
   ]
  },
  {
   "cell_type": "code",
   "execution_count": 57,
   "metadata": {
    "collapsed": false
   },
   "outputs": [
    {
     "data": {
      "text/plain": [
       "9                   ANTINEOPLASTICS\n",
       "10    HORMONES/SYNTHETICS/MODIFIERS\n",
       "Name: short_name, dtype: object"
      ]
     },
     "execution_count": 57,
     "metadata": {},
     "output_type": "execute_result"
    }
   ],
   "source": [
    "qitem[qitem.ont == 'Medications'].short_name.apply(lambda s: s[8:])"
   ]
  },
  {
   "cell_type": "code",
   "execution_count": 71,
   "metadata": {
    "collapsed": true
   },
   "outputs": [],
   "source": []
  },
  {
   "cell_type": "code",
   "execution_count": 88,
   "metadata": {
    "collapsed": false
   },
   "outputs": [
    {
     "data": {
      "text/plain": [
       "'https://rxnav.nlm.nih.gov/REST/rxclass/byId.json?classId=B01AA'"
      ]
     },
     "execution_count": 88,
     "metadata": {},
     "output_type": "execute_result"
    }
   ],
   "source": [
    "from urllib import urlencode\n",
    "\n",
    "class RxClass(object):\n",
    "    base='https://rxnav.nlm.nih.gov/REST/rxclass/'\n",
    "\n",
    "    def __init__(self, opener,\n",
    "                ):\n",
    "        def get(resource, **params):\n",
    "            addr = self._addr(resource, **params)\n",
    "            print \"@@getting:\", addr\n",
    "            body = opener.open(self._addr(resource, **params)).read()\n",
    "            print \"@@body:\", body\n",
    "            return json.loads(body)\n",
    "        self.get = get\n",
    "\n",
    "    def __getattr__(self, n):\n",
    "        return lambda **params: self.get(n, **params)\n",
    "\n",
    "    @classmethod\n",
    "    def _addr(cls, resource, **params):\n",
    "        return '{base}{resource}.json?{params}'.format(\n",
    "        base=cls.base, resource=resource, params=urlencode(params))\n",
    "\n",
    "RxClass._addr('byId', classId='B01AA')"
   ]
  },
  {
   "cell_type": "code",
   "execution_count": 89,
   "metadata": {
    "collapsed": false
   },
   "outputs": [
    {
     "name": "stdout",
     "output_type": "stream",
     "text": [
      "@@getting: https://rxnav.nlm.nih.gov/REST/rxclass/class/byId.json?classId=B01AA\n",
      "@@body: {\"userInput\":{\"classId\":\"B01AA\"},\"rxclassMinConceptList\":{\"rxclassMinConcept\":[{\"classId\":\"B01AA\",\"className\":\"Vitamin K antagonists\",\"classType\":\"ATC1-4\"}]}}\n"
     ]
    },
    {
     "data": {
      "text/plain": [
       "{u'rxclassMinConceptList': {u'rxclassMinConcept': [{u'classId': u'B01AA',\n",
       "    u'className': u'Vitamin K antagonists',\n",
       "    u'classType': u'ATC1-4'}]},\n",
       " u'userInput': {u'classId': u'B01AA'}}"
      ]
     },
     "execution_count": 89,
     "metadata": {},
     "output_type": "execute_result"
    }
   ],
   "source": [
    "def _x():\n",
    "    import urllib2\n",
    "    web = urllib2.build_opener()\n",
    "    return RxClass(web)\n",
    "rxclass = _x()\n",
    "rxclass.get('class/byId', classId='B01AA')"
   ]
  },
  {
   "cell_type": "code",
   "execution_count": 90,
   "metadata": {
    "collapsed": false
   },
   "outputs": [
    {
     "name": "stdout",
     "output_type": "stream",
     "text": [
      "@@getting: https://rxnav.nlm.nih.gov/REST/rxclass/class/byName.json?className=ANTINEOPLASTICS\n",
      "@@body: {\"userInput\":{\"className\":\"ANTINEOPLASTICS\",\"classTypes\":\"ALL\"},\"rxclassMinConceptList\":{\"rxclassMinConcept\":[{\"classId\":\"N0000029091\",\"className\":\"ANTINEOPLASTICS\",\"classType\":\"VA\"}]}}\n",
      "@@getting: https://rxnav.nlm.nih.gov/REST/rxclass/class/byName.json?className=HORMONES%2FSYNTHETICS%2FMODIFIERS\n",
      "@@body: {\"userInput\":{\"className\":\"HORMONES/SYNTHETICS/MODIFIERS\",\"classTypes\":\"ALL\"},\"rxclassMinConceptList\":{\"rxclassMinConcept\":[{\"classId\":\"N0000029177\",\"className\":\"HORMONES/SYNTHETICS/MODIFIERS\",\"classType\":\"VA\"}]}}\n"
     ]
    },
    {
     "data": {
      "text/plain": [
       "9     {u'userInput': {u'className': u'ANTINEOPLASTIC...\n",
       "10    {u'userInput': {u'className': u'HORMONES/SYNTH...\n",
       "Name: short_name, dtype: object"
      ]
     },
     "execution_count": 90,
     "metadata": {},
     "output_type": "execute_result"
    }
   ],
   "source": [
    "\n",
    "x = qitem[qitem.ont == 'Medications'].short_name.apply(lambda s: s[8:]).apply(\n",
    "    lambda n: rxclass.get('class/byName', className=n))\n",
    "x"
   ]
  },
  {
   "cell_type": "code",
   "execution_count": 91,
   "metadata": {
    "collapsed": false
   },
   "outputs": [
    {
     "data": {
      "text/html": [
       "<div>\n",
       "<table border=\"1\" class=\"dataframe\">\n",
       "  <thead>\n",
       "    <tr style=\"text-align: right;\">\n",
       "      <th></th>\n",
       "      <th>classId</th>\n",
       "      <th>className</th>\n",
       "      <th>classType</th>\n",
       "    </tr>\n",
       "  </thead>\n",
       "  <tbody>\n",
       "    <tr>\n",
       "      <th>0</th>\n",
       "      <td>N0000029091</td>\n",
       "      <td>ANTINEOPLASTICS</td>\n",
       "      <td>VA</td>\n",
       "    </tr>\n",
       "    <tr>\n",
       "      <th>1</th>\n",
       "      <td>N0000029177</td>\n",
       "      <td>HORMONES/SYNTHETICS/MODIFIERS</td>\n",
       "      <td>VA</td>\n",
       "    </tr>\n",
       "  </tbody>\n",
       "</table>\n",
       "</div>"
      ],
      "text/plain": [
       "       classId                      className classType\n",
       "0  N0000029091                ANTINEOPLASTICS        VA\n",
       "1  N0000029177  HORMONES/SYNTHETICS/MODIFIERS        VA"
      ]
     },
     "execution_count": 91,
     "metadata": {},
     "output_type": "execute_result"
    }
   ],
   "source": [
    "x = pd.DataFrame([item\n",
    "              for v in x\n",
    "             for item in v['rxclassMinConceptList']['rxclassMinConcept']])\n",
    "x"
   ]
  },
  {
   "cell_type": "code",
   "execution_count": 95,
   "metadata": {
    "collapsed": false
   },
   "outputs": [
    {
     "name": "stdout",
     "output_type": "stream",
     "text": [
      "@@getting: https://rxnav.nlm.nih.gov/REST/rxclass/classMembers.json?classId=N0000008588&rela=has_PE&relaSource=NDFRT\n",
      "@@body: {\"userInput\":{\"classId\":\"N0000008588\",\"trans\":\"0\",\"relaSource\":\"NDFRT\",\"rela\":\"has_PE\",\"ttys\":[\"IN\",\"PIN\",\"MIN\"]},\"drugMemberGroup\":{\"drugMember\":[{\"minConcept\":{\"rxcui\":\"16735\",\"name\":\"acetophenazine\",\"tty\":\"IN\"},\"nodeAttr\":[{\"attrName\":\"SourceId\",\"attrValue\":\"N0000147689\"},{\"attrName\":\"SourceName\",\"attrValue\":\"ACETOPHENAZINE\"},{\"attrName\":\"Relation\",\"attrValue\":\"DIRECT\"}]},{\"minConcept\":{\"rxcui\":\"89013\",\"name\":\"aripiprazole\",\"tty\":\"IN\"},\"nodeAttr\":[{\"attrName\":\"SourceId\",\"attrValue\":\"N0000148786\"},{\"attrName\":\"SourceName\",\"attrValue\":\"ARIPIPRAZOLE\"},{\"attrName\":\"Relation\",\"attrValue\":\"DIRECT\"}]},{\"minConcept\":{\"rxcui\":\"2403\",\"name\":\"Chlorpromazine\",\"tty\":\"IN\"},\"nodeAttr\":[{\"attrName\":\"SourceId\",\"attrValue\":\"N0000146214\"},{\"attrName\":\"SourceName\",\"attrValue\":\"CHLORPROMAZINE\"},{\"attrName\":\"Relation\",\"attrValue\":\"DIRECT\"}]},{\"minConcept\":{\"rxcui\":\"2406\",\"name\":\"Chlorprothixene\",\"tty\":\"IN\"},\"nodeAttr\":[{\"attrName\":\"SourceId\",\"attrValue\":\"N0000146149\"},{\"attrName\":\"SourceName\",\"attrValue\":\"CHLORPROTHIXENE\"},{\"attrName\":\"Relation\",\"attrValue\":\"DIRECT\"}]},{\"minConcept\":{\"rxcui\":\"2626\",\"name\":\"Clozapine\",\"tty\":\"IN\"},\"nodeAttr\":[{\"attrName\":\"SourceId\",\"attrValue\":\"N0000147608\"},{\"attrName\":\"SourceName\",\"attrValue\":\"CLOZAPINE\"},{\"attrName\":\"Relation\",\"attrValue\":\"DIRECT\"}]},{\"minConcept\":{\"rxcui\":\"4496\",\"name\":\"Fluphenazine\",\"tty\":\"IN\"},\"nodeAttr\":[{\"attrName\":\"SourceId\",\"attrValue\":\"N0000147853\"},{\"attrName\":\"SourceName\",\"attrValue\":\"FLUPHENAZINE\"},{\"attrName\":\"Relation\",\"attrValue\":\"DIRECT\"}]},{\"minConcept\":{\"rxcui\":\"5093\",\"name\":\"Haloperidol\",\"tty\":\"IN\"},\"nodeAttr\":[{\"attrName\":\"SourceId\",\"attrValue\":\"N0000146461\"},{\"attrName\":\"SourceName\",\"attrValue\":\"HALOPERIDOL\"},{\"attrName\":\"Relation\",\"attrValue\":\"DIRECT\"}]},{\"minConcept\":{\"rxcui\":\"6779\",\"name\":\"Mesoridazine\",\"tty\":\"IN\"},\"nodeAttr\":[{\"attrName\":\"SourceId\",\"attrValue\":\"N0000147905\"},{\"attrName\":\"SourceName\",\"attrValue\":\"MESORIDAZINE\"},{\"attrName\":\"Relation\",\"attrValue\":\"DIRECT\"}]},{\"minConcept\":{\"rxcui\":\"7019\",\"name\":\"Molindone\",\"tty\":\"IN\"},\"nodeAttr\":[{\"attrName\":\"SourceId\",\"attrValue\":\"N0000147930\"},{\"attrName\":\"SourceName\",\"attrValue\":\"MOLINDONE\"},{\"attrName\":\"Relation\",\"attrValue\":\"DIRECT\"}]},{\"minConcept\":{\"rxcui\":\"61381\",\"name\":\"olanzapine\",\"tty\":\"IN\"},\"nodeAttr\":[{\"attrName\":\"SourceId\",\"attrValue\":\"N0000148465\"},{\"attrName\":\"SourceName\",\"attrValue\":\"OLANZAPINE\"},{\"attrName\":\"Relation\",\"attrValue\":\"DIRECT\"}]},{\"minConcept\":{\"rxcui\":\"8076\",\"name\":\"Perphenazine\",\"tty\":\"IN\"},\"nodeAttr\":[{\"attrName\":\"SourceId\",\"attrValue\":\"N0000146289\"},{\"attrName\":\"SourceName\",\"attrValue\":\"PERPHENAZINE\"},{\"attrName\":\"Relation\",\"attrValue\":\"DIRECT\"}]},{\"minConcept\":{\"rxcui\":\"8338\",\"name\":\"piperacetazine\",\"tty\":\"IN\"},\"nodeAttr\":[{\"attrName\":\"SourceId\",\"attrValue\":\"N0000147203\"},{\"attrName\":\"SourceName\",\"attrValue\":\"PIPERACETAZINE\"},{\"attrName\":\"Relation\",\"attrValue\":\"DIRECT\"}]},{\"minConcept\":{\"rxcui\":\"8704\",\"name\":\"Prochlorperazine\",\"tty\":\"IN\"},\"nodeAttr\":[{\"attrName\":\"SourceId\",\"attrValue\":\"N0000146346\"},{\"attrName\":\"SourceName\",\"attrValue\":\"PROCHLORPERAZINE\"},{\"attrName\":\"Relation\",\"attrValue\":\"INDIRECT\"}]},{\"minConcept\":{\"rxcui\":\"8742\",\"name\":\"Promazine\",\"tty\":\"IN\"},\"nodeAttr\":[{\"attrName\":\"SourceId\",\"attrValue\":\"N0000147994\"},{\"attrName\":\"SourceName\",\"attrValue\":\"PROMAZINE\"},{\"attrName\":\"Relation\",\"attrValue\":\"DIRECT\"}]},{\"minConcept\":{\"rxcui\":\"8745\",\"name\":\"Promethazine\",\"tty\":\"IN\"},\"nodeAttr\":[{\"attrName\":\"SourceId\",\"attrValue\":\"N0000147995\"},{\"attrName\":\"SourceName\",\"attrValue\":\"PROMETHAZINE\"},{\"attrName\":\"Relation\",\"attrValue\":\"DIRECT\"}]},{\"minConcept\":{\"rxcui\":\"51272\",\"name\":\"quetiapine\",\"tty\":\"IN\"},\"nodeAttr\":[{\"attrName\":\"SourceId\",\"attrValue\":\"N0000022085\"},{\"attrName\":\"SourceName\",\"attrValue\":\"QUETIAPINE\"},{\"attrName\":\"Relation\",\"attrValue\":\"DIRECT\"}]},{\"minConcept\":{\"rxcui\":\"35636\",\"name\":\"Risperidone\",\"tty\":\"IN\"},\"nodeAttr\":[{\"attrName\":\"SourceId\",\"attrValue\":\"N0000148350\"},{\"attrName\":\"SourceName\",\"attrValue\":\"RISPERIDONE\"},{\"attrName\":\"Relation\",\"attrValue\":\"DIRECT\"}]},{\"minConcept\":{\"rxcui\":\"10471\",\"name\":\"Thiethylperazine\",\"tty\":\"IN\"},\"nodeAttr\":[{\"attrName\":\"SourceId\",\"attrValue\":\"N0000148028\"},{\"attrName\":\"SourceName\",\"attrValue\":\"THIETHYLPERAZINE\"},{\"attrName\":\"Relation\",\"attrValue\":\"INDIRECT\"}]},{\"minConcept\":{\"rxcui\":\"10502\",\"name\":\"Thioridazine\",\"tty\":\"IN\"},\"nodeAttr\":[{\"attrName\":\"SourceId\",\"attrValue\":\"N0000148031\"},{\"attrName\":\"SourceName\",\"attrValue\":\"THIORIDAZINE\"},{\"attrName\":\"Relation\",\"attrValue\":\"DIRECT\"}]},{\"minConcept\":{\"rxcui\":\"10510\",\"name\":\"Thiothixene\",\"tty\":\"IN\"},\"nodeAttr\":[{\"attrName\":\"SourceId\",\"attrValue\":\"N0000148032\"},{\"attrName\":\"SourceName\",\"attrValue\":\"THIOTHIXENE\"},{\"attrName\":\"Relation\",\"attrValue\":\"DIRECT\"}]},{\"minConcept\":{\"rxcui\":\"10800\",\"name\":\"Trifluoperazine\",\"tty\":\"IN\"},\"nodeAttr\":[{\"attrName\":\"SourceId\",\"attrValue\":\"N0000148042\"},{\"attrName\":\"SourceName\",\"attrValue\":\"TRIFLUOPERAZINE\"},{\"attrName\":\"Relation\",\"attrValue\":\"DIRECT\"}]},{\"minConcept\":{\"rxcui\":\"10805\",\"name\":\"Triflupromazine\",\"tty\":\"IN\"},\"nodeAttr\":[{\"attrName\":\"SourceId\",\"attrValue\":\"N0000148043\"},{\"attrName\":\"SourceName\",\"attrValue\":\"TRIFLUPROMAZINE\"},{\"attrName\":\"Relation\",\"attrValue\":\"DIRECT\"}]},{\"minConcept\":{\"rxcui\":\"115698\",\"name\":\"ziprasidone\",\"tty\":\"IN\"},\"nodeAttr\":[{\"attrName\":\"SourceId\",\"attrValue\":\"N0000148690\"},{\"attrName\":\"SourceName\",\"attrValue\":\"ZIPRASIDONE\"},{\"attrName\":\"Relation\",\"attrValue\":\"DIRECT\"}]}]}}\n"
     ]
    },
    {
     "data": {
      "text/plain": [
       "{u'drugMemberGroup': {u'drugMember': [{u'minConcept': {u'name': u'acetophenazine',\n",
       "     u'rxcui': u'16735',\n",
       "     u'tty': u'IN'},\n",
       "    u'nodeAttr': [{u'attrName': u'SourceId', u'attrValue': u'N0000147689'},\n",
       "     {u'attrName': u'SourceName', u'attrValue': u'ACETOPHENAZINE'},\n",
       "     {u'attrName': u'Relation', u'attrValue': u'DIRECT'}]},\n",
       "   {u'minConcept': {u'name': u'aripiprazole',\n",
       "     u'rxcui': u'89013',\n",
       "     u'tty': u'IN'},\n",
       "    u'nodeAttr': [{u'attrName': u'SourceId', u'attrValue': u'N0000148786'},\n",
       "     {u'attrName': u'SourceName', u'attrValue': u'ARIPIPRAZOLE'},\n",
       "     {u'attrName': u'Relation', u'attrValue': u'DIRECT'}]},\n",
       "   {u'minConcept': {u'name': u'Chlorpromazine',\n",
       "     u'rxcui': u'2403',\n",
       "     u'tty': u'IN'},\n",
       "    u'nodeAttr': [{u'attrName': u'SourceId', u'attrValue': u'N0000146214'},\n",
       "     {u'attrName': u'SourceName', u'attrValue': u'CHLORPROMAZINE'},\n",
       "     {u'attrName': u'Relation', u'attrValue': u'DIRECT'}]},\n",
       "   {u'minConcept': {u'name': u'Chlorprothixene',\n",
       "     u'rxcui': u'2406',\n",
       "     u'tty': u'IN'},\n",
       "    u'nodeAttr': [{u'attrName': u'SourceId', u'attrValue': u'N0000146149'},\n",
       "     {u'attrName': u'SourceName', u'attrValue': u'CHLORPROTHIXENE'},\n",
       "     {u'attrName': u'Relation', u'attrValue': u'DIRECT'}]},\n",
       "   {u'minConcept': {u'name': u'Clozapine', u'rxcui': u'2626', u'tty': u'IN'},\n",
       "    u'nodeAttr': [{u'attrName': u'SourceId', u'attrValue': u'N0000147608'},\n",
       "     {u'attrName': u'SourceName', u'attrValue': u'CLOZAPINE'},\n",
       "     {u'attrName': u'Relation', u'attrValue': u'DIRECT'}]},\n",
       "   {u'minConcept': {u'name': u'Fluphenazine',\n",
       "     u'rxcui': u'4496',\n",
       "     u'tty': u'IN'},\n",
       "    u'nodeAttr': [{u'attrName': u'SourceId', u'attrValue': u'N0000147853'},\n",
       "     {u'attrName': u'SourceName', u'attrValue': u'FLUPHENAZINE'},\n",
       "     {u'attrName': u'Relation', u'attrValue': u'DIRECT'}]},\n",
       "   {u'minConcept': {u'name': u'Haloperidol', u'rxcui': u'5093', u'tty': u'IN'},\n",
       "    u'nodeAttr': [{u'attrName': u'SourceId', u'attrValue': u'N0000146461'},\n",
       "     {u'attrName': u'SourceName', u'attrValue': u'HALOPERIDOL'},\n",
       "     {u'attrName': u'Relation', u'attrValue': u'DIRECT'}]},\n",
       "   {u'minConcept': {u'name': u'Mesoridazine',\n",
       "     u'rxcui': u'6779',\n",
       "     u'tty': u'IN'},\n",
       "    u'nodeAttr': [{u'attrName': u'SourceId', u'attrValue': u'N0000147905'},\n",
       "     {u'attrName': u'SourceName', u'attrValue': u'MESORIDAZINE'},\n",
       "     {u'attrName': u'Relation', u'attrValue': u'DIRECT'}]},\n",
       "   {u'minConcept': {u'name': u'Molindone', u'rxcui': u'7019', u'tty': u'IN'},\n",
       "    u'nodeAttr': [{u'attrName': u'SourceId', u'attrValue': u'N0000147930'},\n",
       "     {u'attrName': u'SourceName', u'attrValue': u'MOLINDONE'},\n",
       "     {u'attrName': u'Relation', u'attrValue': u'DIRECT'}]},\n",
       "   {u'minConcept': {u'name': u'olanzapine', u'rxcui': u'61381', u'tty': u'IN'},\n",
       "    u'nodeAttr': [{u'attrName': u'SourceId', u'attrValue': u'N0000148465'},\n",
       "     {u'attrName': u'SourceName', u'attrValue': u'OLANZAPINE'},\n",
       "     {u'attrName': u'Relation', u'attrValue': u'DIRECT'}]},\n",
       "   {u'minConcept': {u'name': u'Perphenazine',\n",
       "     u'rxcui': u'8076',\n",
       "     u'tty': u'IN'},\n",
       "    u'nodeAttr': [{u'attrName': u'SourceId', u'attrValue': u'N0000146289'},\n",
       "     {u'attrName': u'SourceName', u'attrValue': u'PERPHENAZINE'},\n",
       "     {u'attrName': u'Relation', u'attrValue': u'DIRECT'}]},\n",
       "   {u'minConcept': {u'name': u'piperacetazine',\n",
       "     u'rxcui': u'8338',\n",
       "     u'tty': u'IN'},\n",
       "    u'nodeAttr': [{u'attrName': u'SourceId', u'attrValue': u'N0000147203'},\n",
       "     {u'attrName': u'SourceName', u'attrValue': u'PIPERACETAZINE'},\n",
       "     {u'attrName': u'Relation', u'attrValue': u'DIRECT'}]},\n",
       "   {u'minConcept': {u'name': u'Prochlorperazine',\n",
       "     u'rxcui': u'8704',\n",
       "     u'tty': u'IN'},\n",
       "    u'nodeAttr': [{u'attrName': u'SourceId', u'attrValue': u'N0000146346'},\n",
       "     {u'attrName': u'SourceName', u'attrValue': u'PROCHLORPERAZINE'},\n",
       "     {u'attrName': u'Relation', u'attrValue': u'INDIRECT'}]},\n",
       "   {u'minConcept': {u'name': u'Promazine', u'rxcui': u'8742', u'tty': u'IN'},\n",
       "    u'nodeAttr': [{u'attrName': u'SourceId', u'attrValue': u'N0000147994'},\n",
       "     {u'attrName': u'SourceName', u'attrValue': u'PROMAZINE'},\n",
       "     {u'attrName': u'Relation', u'attrValue': u'DIRECT'}]},\n",
       "   {u'minConcept': {u'name': u'Promethazine',\n",
       "     u'rxcui': u'8745',\n",
       "     u'tty': u'IN'},\n",
       "    u'nodeAttr': [{u'attrName': u'SourceId', u'attrValue': u'N0000147995'},\n",
       "     {u'attrName': u'SourceName', u'attrValue': u'PROMETHAZINE'},\n",
       "     {u'attrName': u'Relation', u'attrValue': u'DIRECT'}]},\n",
       "   {u'minConcept': {u'name': u'quetiapine', u'rxcui': u'51272', u'tty': u'IN'},\n",
       "    u'nodeAttr': [{u'attrName': u'SourceId', u'attrValue': u'N0000022085'},\n",
       "     {u'attrName': u'SourceName', u'attrValue': u'QUETIAPINE'},\n",
       "     {u'attrName': u'Relation', u'attrValue': u'DIRECT'}]},\n",
       "   {u'minConcept': {u'name': u'Risperidone',\n",
       "     u'rxcui': u'35636',\n",
       "     u'tty': u'IN'},\n",
       "    u'nodeAttr': [{u'attrName': u'SourceId', u'attrValue': u'N0000148350'},\n",
       "     {u'attrName': u'SourceName', u'attrValue': u'RISPERIDONE'},\n",
       "     {u'attrName': u'Relation', u'attrValue': u'DIRECT'}]},\n",
       "   {u'minConcept': {u'name': u'Thiethylperazine',\n",
       "     u'rxcui': u'10471',\n",
       "     u'tty': u'IN'},\n",
       "    u'nodeAttr': [{u'attrName': u'SourceId', u'attrValue': u'N0000148028'},\n",
       "     {u'attrName': u'SourceName', u'attrValue': u'THIETHYLPERAZINE'},\n",
       "     {u'attrName': u'Relation', u'attrValue': u'INDIRECT'}]},\n",
       "   {u'minConcept': {u'name': u'Thioridazine',\n",
       "     u'rxcui': u'10502',\n",
       "     u'tty': u'IN'},\n",
       "    u'nodeAttr': [{u'attrName': u'SourceId', u'attrValue': u'N0000148031'},\n",
       "     {u'attrName': u'SourceName', u'attrValue': u'THIORIDAZINE'},\n",
       "     {u'attrName': u'Relation', u'attrValue': u'DIRECT'}]},\n",
       "   {u'minConcept': {u'name': u'Thiothixene',\n",
       "     u'rxcui': u'10510',\n",
       "     u'tty': u'IN'},\n",
       "    u'nodeAttr': [{u'attrName': u'SourceId', u'attrValue': u'N0000148032'},\n",
       "     {u'attrName': u'SourceName', u'attrValue': u'THIOTHIXENE'},\n",
       "     {u'attrName': u'Relation', u'attrValue': u'DIRECT'}]},\n",
       "   {u'minConcept': {u'name': u'Trifluoperazine',\n",
       "     u'rxcui': u'10800',\n",
       "     u'tty': u'IN'},\n",
       "    u'nodeAttr': [{u'attrName': u'SourceId', u'attrValue': u'N0000148042'},\n",
       "     {u'attrName': u'SourceName', u'attrValue': u'TRIFLUOPERAZINE'},\n",
       "     {u'attrName': u'Relation', u'attrValue': u'DIRECT'}]},\n",
       "   {u'minConcept': {u'name': u'Triflupromazine',\n",
       "     u'rxcui': u'10805',\n",
       "     u'tty': u'IN'},\n",
       "    u'nodeAttr': [{u'attrName': u'SourceId', u'attrValue': u'N0000148043'},\n",
       "     {u'attrName': u'SourceName', u'attrValue': u'TRIFLUPROMAZINE'},\n",
       "     {u'attrName': u'Relation', u'attrValue': u'DIRECT'}]},\n",
       "   {u'minConcept': {u'name': u'ziprasidone',\n",
       "     u'rxcui': u'115698',\n",
       "     u'tty': u'IN'},\n",
       "    u'nodeAttr': [{u'attrName': u'SourceId', u'attrValue': u'N0000148690'},\n",
       "     {u'attrName': u'SourceName', u'attrValue': u'ZIPRASIDONE'},\n",
       "     {u'attrName': u'Relation', u'attrValue': u'DIRECT'}]}]},\n",
       " u'userInput': {u'classId': u'N0000008588',\n",
       "  u'rela': u'has_PE',\n",
       "  u'relaSource': u'NDFRT',\n",
       "  u'trans': u'0',\n",
       "  u'ttys': [u'IN', u'PIN', u'MIN']}}"
      ]
     },
     "execution_count": 95,
     "metadata": {},
     "output_type": "execute_result"
    }
   ],
   "source": [
    "#m0 = rxclass.get('classMembers',\n",
    "#                 classId='N0000029091', rela='has_VAClass', relaSource='NDFRT')\n",
    "m0 = rxclass.get('classMembers',\n",
    "                 classId='N0000008588', relaSource='NDFRT' , rela='has_PE')\n",
    "\n",
    "m0"
   ]
  },
  {
   "cell_type": "code",
   "execution_count": 34,
   "metadata": {
    "collapsed": false
   },
   "outputs": [
    {
     "data": {
      "text/html": [
       "<div>\n",
       "<table border=\"1\" class=\"dataframe\">\n",
       "  <thead>\n",
       "    <tr style=\"text-align: right;\">\n",
       "      <th></th>\n",
       "      <th>c_hlevel</th>\n",
       "      <th>c_fullname</th>\n",
       "      <th>c_name</th>\n",
       "      <th>c_synonym_cd</th>\n",
       "      <th>c_visualattributes</th>\n",
       "      <th>c_totalnum</th>\n",
       "      <th>c_basecode</th>\n",
       "      <th>c_metadataxml</th>\n",
       "      <th>c_facttablecolumn</th>\n",
       "      <th>c_tablename</th>\n",
       "      <th>...</th>\n",
       "      <th>c_tooltip</th>\n",
       "      <th>m_applied_path</th>\n",
       "      <th>update_date</th>\n",
       "      <th>download_date</th>\n",
       "      <th>import_date</th>\n",
       "      <th>sourcesystem_cd</th>\n",
       "      <th>valuetype_cd</th>\n",
       "      <th>m_exclusion_cd</th>\n",
       "      <th>c_path</th>\n",
       "      <th>c_symbol</th>\n",
       "    </tr>\n",
       "  </thead>\n",
       "  <tbody>\n",
       "    <tr>\n",
       "      <th>0</th>\n",
       "      <td>2</td>\n",
       "      <td>\\GPC\\Medications\\RXAUI:3257701\\</td>\n",
       "      <td>[HS000] HORMONES/SYNTHETICS/MODIFIERS</td>\n",
       "      <td>N</td>\n",
       "      <td>FA</td>\n",
       "      <td>None</td>\n",
       "      <td>RXCUI:693370</td>\n",
       "      <td>None</td>\n",
       "      <td>concept_cd</td>\n",
       "      <td>concept_dimension</td>\n",
       "      <td>...</td>\n",
       "      <td>None</td>\n",
       "      <td>@</td>\n",
       "      <td>0001-10-16 00:00:00</td>\n",
       "      <td>0001-10-16 00:00:00</td>\n",
       "      <td>0001-10-16 00:00:00</td>\n",
       "      <td>RxNORM 10052015</td>\n",
       "      <td>None</td>\n",
       "      <td>None</td>\n",
       "      <td>None</td>\n",
       "      <td>None</td>\n",
       "    </tr>\n",
       "    <tr>\n",
       "      <th>1</th>\n",
       "      <td>2</td>\n",
       "      <td>\\GPC\\Medications\\RXAUI:3257528\\</td>\n",
       "      <td>[AN000] ANTINEOPLASTICS</td>\n",
       "      <td>N</td>\n",
       "      <td>FA</td>\n",
       "      <td>None</td>\n",
       "      <td>RXCUI:988</td>\n",
       "      <td>None</td>\n",
       "      <td>concept_cd</td>\n",
       "      <td>concept_dimension</td>\n",
       "      <td>...</td>\n",
       "      <td>None</td>\n",
       "      <td>@</td>\n",
       "      <td>0001-10-16 00:00:00</td>\n",
       "      <td>0001-10-16 00:00:00</td>\n",
       "      <td>0001-10-16 00:00:00</td>\n",
       "      <td>RxNORM 10052015</td>\n",
       "      <td>None</td>\n",
       "      <td>None</td>\n",
       "      <td>None</td>\n",
       "      <td>None</td>\n",
       "    </tr>\n",
       "  </tbody>\n",
       "</table>\n",
       "<p>2 rows × 25 columns</p>\n",
       "</div>"
      ],
      "text/plain": [
       "   c_hlevel                       c_fullname  \\\n",
       "0         2  \\GPC\\Medications\\RXAUI:3257701\\   \n",
       "1         2  \\GPC\\Medications\\RXAUI:3257528\\   \n",
       "\n",
       "                                  c_name c_synonym_cd c_visualattributes  \\\n",
       "0  [HS000] HORMONES/SYNTHETICS/MODIFIERS            N                FA    \n",
       "1                [AN000] ANTINEOPLASTICS            N                FA    \n",
       "\n",
       "  c_totalnum    c_basecode c_metadataxml c_facttablecolumn        c_tablename  \\\n",
       "0       None  RXCUI:693370          None        concept_cd  concept_dimension   \n",
       "1       None     RXCUI:988          None        concept_cd  concept_dimension   \n",
       "\n",
       "    ...    c_tooltip m_applied_path          update_date        download_date  \\\n",
       "0   ...         None              @  0001-10-16 00:00:00  0001-10-16 00:00:00   \n",
       "1   ...         None              @  0001-10-16 00:00:00  0001-10-16 00:00:00   \n",
       "\n",
       "           import_date  sourcesystem_cd valuetype_cd m_exclusion_cd c_path  \\\n",
       "0  0001-10-16 00:00:00  RxNORM 10052015         None           None   None   \n",
       "1  0001-10-16 00:00:00  RxNORM 10052015         None           None   None   \n",
       "\n",
       "  c_symbol  \n",
       "0     None  \n",
       "1     None  \n",
       "\n",
       "[2 rows x 25 columns]"
      ]
     },
     "execution_count": 34,
     "metadata": {},
     "output_type": "execute_result"
    }
   ],
   "source": [
    "expr, params = path_constraint(qitem[qitem.ont == 'Medications'])\n",
    "pd.read_sql(r'''\n",
    "select *\n",
    "from i2b2metadata.gpc_terms\n",
    "where c_fullname in ({expr})\n",
    "limit 100\n",
    "'''.format(expr=expr), babel_db, params=params)"
   ]
  },
  {
   "cell_type": "code",
   "execution_count": 35,
   "metadata": {
    "collapsed": false
   },
   "outputs": [
    {
     "data": {
      "text/html": [
       "<div>\n",
       "<table border=\"1\" class=\"dataframe\">\n",
       "  <thead>\n",
       "    <tr style=\"text-align: right;\">\n",
       "      <th></th>\n",
       "      <th>c_name</th>\n",
       "    </tr>\n",
       "    <tr>\n",
       "      <th>code</th>\n",
       "      <th></th>\n",
       "    </tr>\n",
       "  </thead>\n",
       "  <tbody>\n",
       "    <tr>\n",
       "      <th>AN000</th>\n",
       "      <td>[AN000] ANTINEOPLASTICS</td>\n",
       "    </tr>\n",
       "    <tr>\n",
       "      <th>AN100</th>\n",
       "      <td>[AN100] ANTINEOPLASTICS,ALKYLATING AGENTS</td>\n",
       "    </tr>\n",
       "    <tr>\n",
       "      <th>AN200</th>\n",
       "      <td>[AN200] ANTINEOPLASTIC ANTIBIOTICS</td>\n",
       "    </tr>\n",
       "    <tr>\n",
       "      <th>AN300</th>\n",
       "      <td>[AN300] ANTINEOPLASTICS,ANTIMETABOLITES</td>\n",
       "    </tr>\n",
       "    <tr>\n",
       "      <th>AN400</th>\n",
       "      <td>[AN400] ANTINEOPLASTIC ADJUVANTS</td>\n",
       "    </tr>\n",
       "    <tr>\n",
       "      <th>AN500</th>\n",
       "      <td>[AN500] ANTINEOPLASTIC HORMONES</td>\n",
       "    </tr>\n",
       "    <tr>\n",
       "      <th>AN600</th>\n",
       "      <td>[AN600] ANTINEOPLASTIC RADIOPHARMACEUTICALS</td>\n",
       "    </tr>\n",
       "    <tr>\n",
       "      <th>AN700</th>\n",
       "      <td>[AN700] PROTECTIVE AGENTS</td>\n",
       "    </tr>\n",
       "    <tr>\n",
       "      <th>AN900</th>\n",
       "      <td>[AN900] ANTINEOPLASTIC,OTHER</td>\n",
       "    </tr>\n",
       "    <tr>\n",
       "      <th>HS000</th>\n",
       "      <td>[HS000] HORMONES/SYNTHETICS/MODIFIERS</td>\n",
       "    </tr>\n",
       "    <tr>\n",
       "      <th>HS100</th>\n",
       "      <td>[HS100] ANDROGENS/ANABOLICS</td>\n",
       "    </tr>\n",
       "    <tr>\n",
       "      <th>HS200</th>\n",
       "      <td>[HS200] CONTRACEPTIVES,SYSTEMIC</td>\n",
       "    </tr>\n",
       "    <tr>\n",
       "      <th>HS300</th>\n",
       "      <td>[HS300] ESTROGENS</td>\n",
       "    </tr>\n",
       "    <tr>\n",
       "      <th>HS400</th>\n",
       "      <td>[HS400] GONADOTROPINS</td>\n",
       "    </tr>\n",
       "    <tr>\n",
       "      <th>HS500</th>\n",
       "      <td>[HS500] BLOOD GLUCOSE REGULATION AGENTS</td>\n",
       "    </tr>\n",
       "    <tr>\n",
       "      <th>HS501</th>\n",
       "      <td>[HS501] INSULIN</td>\n",
       "    </tr>\n",
       "    <tr>\n",
       "      <th>HS502</th>\n",
       "      <td>[HS502] ORAL HYPOGLYCEMIC AGENTS,ORAL</td>\n",
       "    </tr>\n",
       "    <tr>\n",
       "      <th>HS503</th>\n",
       "      <td>[HS503] ANTIHYPOGLYCEMICS</td>\n",
       "    </tr>\n",
       "    <tr>\n",
       "      <th>HS509</th>\n",
       "      <td>[HS509] HYPOGLYCEMIC AGENTS,OTHER</td>\n",
       "    </tr>\n",
       "    <tr>\n",
       "      <th>HS600</th>\n",
       "      <td>[HS600] PARATHYROID</td>\n",
       "    </tr>\n",
       "    <tr>\n",
       "      <th>HS700</th>\n",
       "      <td>[HS700] PITUITARY</td>\n",
       "    </tr>\n",
       "    <tr>\n",
       "      <th>HS701</th>\n",
       "      <td>[HS701] ANTERIOR PITUITARY</td>\n",
       "    </tr>\n",
       "    <tr>\n",
       "      <th>HS702</th>\n",
       "      <td>[HS702] POSTERIOR PITUITARY</td>\n",
       "    </tr>\n",
       "    <tr>\n",
       "      <th>HS800</th>\n",
       "      <td>[HS800] PROGESTINS</td>\n",
       "    </tr>\n",
       "    <tr>\n",
       "      <th>HS850</th>\n",
       "      <td>[HS850] THYROID MODIFIERS</td>\n",
       "    </tr>\n",
       "    <tr>\n",
       "      <th>HS851</th>\n",
       "      <td>[HS851] THYROID SUPPLEMENTS</td>\n",
       "    </tr>\n",
       "    <tr>\n",
       "      <th>HS852</th>\n",
       "      <td>[HS852] ANTITHYROID AGENTS</td>\n",
       "    </tr>\n",
       "    <tr>\n",
       "      <th>HS875</th>\n",
       "      <td>[HS875] PROSTAGLANDINS</td>\n",
       "    </tr>\n",
       "    <tr>\n",
       "      <th>HS900</th>\n",
       "      <td>[HS900] HORMONES/SYNTHETICS/MODIFIERS,OTHER</td>\n",
       "    </tr>\n",
       "    <tr>\n",
       "      <th>HS050</th>\n",
       "      <td>[HS050] ADRENAL CORTICOSTEROIDS</td>\n",
       "    </tr>\n",
       "    <tr>\n",
       "      <th>HS051</th>\n",
       "      <td>[HS051] GLUCOCORTICOIDS</td>\n",
       "    </tr>\n",
       "    <tr>\n",
       "      <th>HS052</th>\n",
       "      <td>[HS052] MINERALOCORTICOIDS</td>\n",
       "    </tr>\n",
       "  </tbody>\n",
       "</table>\n",
       "</div>"
      ],
      "text/plain": [
       "                                            c_name\n",
       "code                                              \n",
       "AN000                      [AN000] ANTINEOPLASTICS\n",
       "AN100    [AN100] ANTINEOPLASTICS,ALKYLATING AGENTS\n",
       "AN200           [AN200] ANTINEOPLASTIC ANTIBIOTICS\n",
       "AN300      [AN300] ANTINEOPLASTICS,ANTIMETABOLITES\n",
       "AN400             [AN400] ANTINEOPLASTIC ADJUVANTS\n",
       "AN500              [AN500] ANTINEOPLASTIC HORMONES\n",
       "AN600  [AN600] ANTINEOPLASTIC RADIOPHARMACEUTICALS\n",
       "AN700                    [AN700] PROTECTIVE AGENTS\n",
       "AN900                 [AN900] ANTINEOPLASTIC,OTHER\n",
       "HS000        [HS000] HORMONES/SYNTHETICS/MODIFIERS\n",
       "HS100                  [HS100] ANDROGENS/ANABOLICS\n",
       "HS200              [HS200] CONTRACEPTIVES,SYSTEMIC\n",
       "HS300                            [HS300] ESTROGENS\n",
       "HS400                        [HS400] GONADOTROPINS\n",
       "HS500      [HS500] BLOOD GLUCOSE REGULATION AGENTS\n",
       "HS501                              [HS501] INSULIN\n",
       "HS502        [HS502] ORAL HYPOGLYCEMIC AGENTS,ORAL\n",
       "HS503                    [HS503] ANTIHYPOGLYCEMICS\n",
       "HS509            [HS509] HYPOGLYCEMIC AGENTS,OTHER\n",
       "HS600                          [HS600] PARATHYROID\n",
       "HS700                            [HS700] PITUITARY\n",
       "HS701                   [HS701] ANTERIOR PITUITARY\n",
       "HS702                  [HS702] POSTERIOR PITUITARY\n",
       "HS800                           [HS800] PROGESTINS\n",
       "HS850                    [HS850] THYROID MODIFIERS\n",
       "HS851                  [HS851] THYROID SUPPLEMENTS\n",
       "HS852                   [HS852] ANTITHYROID AGENTS\n",
       "HS875                       [HS875] PROSTAGLANDINS\n",
       "HS900  [HS900] HORMONES/SYNTHETICS/MODIFIERS,OTHER\n",
       "HS050              [HS050] ADRENAL CORTICOSTEROIDS\n",
       "HS051                      [HS051] GLUCOCORTICOIDS\n",
       "HS052                   [HS052] MINERALOCORTICOIDS"
      ]
     },
     "execution_count": 35,
     "metadata": {},
     "output_type": "execute_result"
    }
   ],
   "source": [
    "# Note %s have to be doubled in sqlalchemy API\n",
    "sql = r'''\n",
    "with va_top as (\n",
    "  select *\n",
    "  from i2b2metadata.gpc_terms\n",
    "  where c_fullname in ({paths})\n",
    ")\n",
    ", va_class as (\n",
    "  select sub.c_hlevel, sub.c_basecode, sub.c_name, sub.c_fullname\n",
    "  from i2b2metadata.gpc_terms sub\n",
    "  join va_top on sub.c_fullname like (va_top.c_fullname || '%%') escape '@'\n",
    "  where sub.c_name like '[%%]%%'\n",
    ")\n",
    "select * from va_class\n",
    "order by c_fullname\n",
    "limit 100\n",
    "'''.format(paths=expr)\n",
    "med_va_class = pd.read_sql(sql, babel_db, params=params)\n",
    "med_va_class['code'] = med_va_class.c_name.apply(lambda s: s.split('] ')[0][1:])\n",
    "med_va_class.set_index('code')[['c_name']]"
   ]
  },
  {
   "cell_type": "code",
   "execution_count": 99,
   "metadata": {
    "collapsed": false,
    "scrolled": true
   },
   "outputs": [
    {
     "name": "stdout",
     "output_type": "stream",
     "text": [
      "distinct drugs: 0\n",
      "hlevels: []\n"
     ]
    }
   ],
   "source": [
    "# Note %s have to be doubled in sqlalchemy API\n",
    "sql = r'''\n",
    "with va_top as (\n",
    "  select *\n",
    "  from i2b2metadata.gpc_terms\n",
    "  where c_fullname in ({paths})\n",
    ")\n",
    ", va_class as (\n",
    "  select sub.c_hlevel, sub.c_basecode, sub.c_name, sub.c_fullname\n",
    "       , replace(sub.c_fullname, '\\GPC\\', '\\i2b2\\') i_fullname\n",
    "  from i2b2metadata.gpc_terms sub\n",
    "  join va_top on sub.c_fullname like (va_top.c_fullname || '%%') escape '@'\n",
    "  where sub.c_name like '[%%]%%'\n",
    ")\n",
    ", rx as (\n",
    "  select sub.c_hlevel, sub.c_basecode, sub.c_name\n",
    "       , substr(va_class.c_name, 2, 5) va_class_code\n",
    "       , sub.c_fullname\n",
    "  from i2b2metadata.unmc_terms sub\n",
    "  join va_class\n",
    "    on sub.c_fullname between va_class.i_fullname and (va_class.i_fullname || ']')\n",
    "   and sub.c_hlevel = va_class.c_hlevel + 1\n",
    "  where sub.c_name not like '[%%]%%'\n",
    ")\n",
    "select distinct * from rx\n",
    "order by va_class_code, c_basecode\n",
    "'''.format(paths=expr)\n",
    "rx = pd.read_sql(sql, babel_db, params=params)\n",
    "print 'distinct drugs:', len(rx)\n",
    "print 'hlevels:', rx.c_hlevel.unique()\n",
    "rx['rxcui'] = rx.c_basecode.apply(lambda s: s.split(':')[1])"
   ]
  },
  {
   "cell_type": "markdown",
   "metadata": {},
   "source": [
    "#### Unique Drugs: eliminating polyhierarchy"
   ]
  },
  {
   "cell_type": "code",
   "execution_count": 37,
   "metadata": {
    "collapsed": false
   },
   "outputs": [
    {
     "data": {
      "text/plain": [
       "(580, 576)"
      ]
     },
     "execution_count": 37,
     "metadata": {},
     "output_type": "execute_result"
    }
   ],
   "source": [
    "len(rx.rxcui), len(rx.rxcui.unique())"
   ]
  },
  {
   "cell_type": "code",
   "execution_count": 38,
   "metadata": {
    "collapsed": false
   },
   "outputs": [
    {
     "data": {
      "text/html": [
       "<div>\n",
       "<table border=\"1\" class=\"dataframe\">\n",
       "  <thead>\n",
       "    <tr style=\"text-align: right;\">\n",
       "      <th></th>\n",
       "      <th>c_hlevel</th>\n",
       "      <th>c_basecode</th>\n",
       "      <th>c_name</th>\n",
       "      <th>va_class_code</th>\n",
       "      <th>c_fullname</th>\n",
       "      <th>rxcui</th>\n",
       "    </tr>\n",
       "  </thead>\n",
       "  <tbody>\n",
       "    <tr>\n",
       "      <th>251</th>\n",
       "      <td>4</td>\n",
       "      <td>RXCUI:372105</td>\n",
       "      <td>Ethinyl Estradiol / Norethindrone Oral Tablet</td>\n",
       "      <td>HS200</td>\n",
       "      <td>\\GPC\\Medications\\RXAUI:3257701\\RXAUI:3257706\\R...</td>\n",
       "      <td>372105</td>\n",
       "    </tr>\n",
       "    <tr>\n",
       "      <th>530</th>\n",
       "      <td>4</td>\n",
       "      <td>RXCUI:372105</td>\n",
       "      <td>Ethinyl Estradiol / Norethindrone Oral Tablet</td>\n",
       "      <td>HS900</td>\n",
       "      <td>\\GPC\\Medications\\RXAUI:3257701\\RXAUI:3257723\\R...</td>\n",
       "      <td>372105</td>\n",
       "    </tr>\n",
       "    <tr>\n",
       "      <th>260</th>\n",
       "      <td>4</td>\n",
       "      <td>RXCUI:374644</td>\n",
       "      <td>Mifepristone Oral Tablet</td>\n",
       "      <td>HS200</td>\n",
       "      <td>\\GPC\\Medications\\RXAUI:3257701\\RXAUI:3257706\\R...</td>\n",
       "      <td>374644</td>\n",
       "    </tr>\n",
       "    <tr>\n",
       "      <th>538</th>\n",
       "      <td>4</td>\n",
       "      <td>RXCUI:374644</td>\n",
       "      <td>Mifepristone Oral Tablet</td>\n",
       "      <td>HS900</td>\n",
       "      <td>\\GPC\\Medications\\RXAUI:3257701\\RXAUI:3257723\\R...</td>\n",
       "      <td>374644</td>\n",
       "    </tr>\n",
       "    <tr>\n",
       "      <th>418</th>\n",
       "      <td>5</td>\n",
       "      <td>RXCUI:377980</td>\n",
       "      <td>Glucose Oral Gel</td>\n",
       "      <td>HS502</td>\n",
       "      <td>\\GPC\\Medications\\RXAUI:3257701\\RXAUI:3257709\\R...</td>\n",
       "      <td>377980</td>\n",
       "    </tr>\n",
       "    <tr>\n",
       "      <th>441</th>\n",
       "      <td>5</td>\n",
       "      <td>RXCUI:377980</td>\n",
       "      <td>Glucose Oral Gel</td>\n",
       "      <td>HS503</td>\n",
       "      <td>\\GPC\\Medications\\RXAUI:3257701\\RXAUI:3257709\\R...</td>\n",
       "      <td>377980</td>\n",
       "    </tr>\n",
       "    <tr>\n",
       "      <th>160</th>\n",
       "      <td>4</td>\n",
       "      <td>RXCUI:378383</td>\n",
       "      <td>valrubicin Irrigation Solution</td>\n",
       "      <td>AN900</td>\n",
       "      <td>\\GPC\\Medications\\RXAUI:3257528\\RXAUI:3257536\\R...</td>\n",
       "      <td>378383</td>\n",
       "    </tr>\n",
       "    <tr>\n",
       "      <th>31</th>\n",
       "      <td>4</td>\n",
       "      <td>RXCUI:378383</td>\n",
       "      <td>valrubicin Irrigation Solution</td>\n",
       "      <td>AN200</td>\n",
       "      <td>\\GPC\\Medications\\RXAUI:3257528\\RXAUI:3257530\\R...</td>\n",
       "      <td>378383</td>\n",
       "    </tr>\n",
       "  </tbody>\n",
       "</table>\n",
       "</div>"
      ],
      "text/plain": [
       "     c_hlevel    c_basecode                                         c_name  \\\n",
       "251         4  RXCUI:372105  Ethinyl Estradiol / Norethindrone Oral Tablet   \n",
       "530         4  RXCUI:372105  Ethinyl Estradiol / Norethindrone Oral Tablet   \n",
       "260         4  RXCUI:374644                       Mifepristone Oral Tablet   \n",
       "538         4  RXCUI:374644                       Mifepristone Oral Tablet   \n",
       "418         5  RXCUI:377980                               Glucose Oral Gel   \n",
       "441         5  RXCUI:377980                               Glucose Oral Gel   \n",
       "160         4  RXCUI:378383                 valrubicin Irrigation Solution   \n",
       "31          4  RXCUI:378383                 valrubicin Irrigation Solution   \n",
       "\n",
       "    va_class_code                                         c_fullname   rxcui  \n",
       "251         HS200  \\GPC\\Medications\\RXAUI:3257701\\RXAUI:3257706\\R...  372105  \n",
       "530         HS900  \\GPC\\Medications\\RXAUI:3257701\\RXAUI:3257723\\R...  372105  \n",
       "260         HS200  \\GPC\\Medications\\RXAUI:3257701\\RXAUI:3257706\\R...  374644  \n",
       "538         HS900  \\GPC\\Medications\\RXAUI:3257701\\RXAUI:3257723\\R...  374644  \n",
       "418         HS502  \\GPC\\Medications\\RXAUI:3257701\\RXAUI:3257709\\R...  377980  \n",
       "441         HS503  \\GPC\\Medications\\RXAUI:3257701\\RXAUI:3257709\\R...  377980  \n",
       "160         AN900  \\GPC\\Medications\\RXAUI:3257528\\RXAUI:3257536\\R...  378383  \n",
       "31          AN200  \\GPC\\Medications\\RXAUI:3257528\\RXAUI:3257530\\R...  378383  "
      ]
     },
     "execution_count": 38,
     "metadata": {},
     "output_type": "execute_result"
    }
   ],
   "source": [
    "rx.sort_values('rxcui', inplace=True)\n",
    "dup_cuis = rx[rx.rxcui.duplicated()].rxcui\n",
    "rx[rx.rxcui.isin(dup_cuis)]"
   ]
  },
  {
   "cell_type": "code",
   "execution_count": 39,
   "metadata": {
    "collapsed": false
   },
   "outputs": [
    {
     "name": "stdout",
     "output_type": "stream",
     "text": [
      "576\n"
     ]
    },
    {
     "data": {
      "text/html": [
       "<div>\n",
       "<table border=\"1\" class=\"dataframe\">\n",
       "  <thead>\n",
       "    <tr style=\"text-align: right;\">\n",
       "      <th></th>\n",
       "      <th>va_class_code</th>\n",
       "      <th>c_name</th>\n",
       "    </tr>\n",
       "    <tr>\n",
       "      <th>rxcui</th>\n",
       "      <th></th>\n",
       "      <th></th>\n",
       "    </tr>\n",
       "  </thead>\n",
       "  <tbody>\n",
       "    <tr>\n",
       "      <th>1005923</th>\n",
       "      <td>HS200</td>\n",
       "      <td>ulipristal Oral Tablet</td>\n",
       "    </tr>\n",
       "    <tr>\n",
       "      <th>1043561</th>\n",
       "      <td>HS502</td>\n",
       "      <td>Metformin / saxagliptin Extended Release Oral ...</td>\n",
       "    </tr>\n",
       "    <tr>\n",
       "      <th>1044586</th>\n",
       "      <td>HS900</td>\n",
       "      <td>tesamorelin Injectable Solution</td>\n",
       "    </tr>\n",
       "    <tr>\n",
       "      <th>1045455</th>\n",
       "      <td>AN900</td>\n",
       "      <td>eribulin Injectable Solution</td>\n",
       "    </tr>\n",
       "    <tr>\n",
       "      <th>1090995</th>\n",
       "      <td>HS900</td>\n",
       "      <td>Ethinyl Estradiol / Norethindrone Oral Tablet ...</td>\n",
       "    </tr>\n",
       "  </tbody>\n",
       "</table>\n",
       "</div>"
      ],
      "text/plain": [
       "        va_class_code                                             c_name\n",
       "rxcui                                                                   \n",
       "1005923         HS200                             ulipristal Oral Tablet\n",
       "1043561         HS502  Metformin / saxagliptin Extended Release Oral ...\n",
       "1044586         HS900                    tesamorelin Injectable Solution\n",
       "1045455         AN900                       eribulin Injectable Solution\n",
       "1090995         HS900  Ethinyl Estradiol / Norethindrone Oral Tablet ..."
      ]
     },
     "execution_count": 39,
     "metadata": {},
     "output_type": "execute_result"
    }
   ],
   "source": [
    "#rx1 = pd.DataFrame(dict(va_class_code=rx.groupby('rxcui').va_class_code.min()))\n",
    "rx1 = rx.groupby('rxcui')[['va_class_code', 'c_name']].min()\n",
    "print len(rx1)\n",
    "rx1.head()"
   ]
  },
  {
   "cell_type": "code",
   "execution_count": 40,
   "metadata": {
    "collapsed": false,
    "scrolled": false
   },
   "outputs": [
    {
     "data": {
      "text/html": [
       "<div>\n",
       "<table border=\"1\" class=\"dataframe\">\n",
       "  <thead>\n",
       "    <tr style=\"text-align: right;\">\n",
       "      <th></th>\n",
       "      <th>va_class_code</th>\n",
       "      <th>c_name</th>\n",
       "      <th>label</th>\n",
       "    </tr>\n",
       "    <tr>\n",
       "      <th>rxcui</th>\n",
       "      <th></th>\n",
       "      <th></th>\n",
       "      <th></th>\n",
       "    </tr>\n",
       "  </thead>\n",
       "  <tbody>\n",
       "    <tr>\n",
       "      <th>377179</th>\n",
       "      <td>AN100</td>\n",
       "      <td>Busulfan Injectable Solution</td>\n",
       "      <td>[AN100] RXCUI:377179 Busulfan Injectable Solution</td>\n",
       "    </tr>\n",
       "    <tr>\n",
       "      <th>371165</th>\n",
       "      <td>AN100</td>\n",
       "      <td>Busulfan Oral Tablet</td>\n",
       "      <td>[AN100] RXCUI:371165 Busulfan Oral Tablet</td>\n",
       "    </tr>\n",
       "    <tr>\n",
       "      <th>378774</th>\n",
       "      <td>AN100</td>\n",
       "      <td>Carmustine Drug Implant</td>\n",
       "      <td>[AN100] RXCUI:378774 Carmustine Drug Implant</td>\n",
       "    </tr>\n",
       "    <tr>\n",
       "      <th>370496</th>\n",
       "      <td>AN100</td>\n",
       "      <td>Carmustine Injectable Solution</td>\n",
       "      <td>[AN100] RXCUI:370496 Carmustine Injectable Sol...</td>\n",
       "    </tr>\n",
       "    <tr>\n",
       "      <th>371375</th>\n",
       "      <td>AN100</td>\n",
       "      <td>Chlorambucil Oral Tablet</td>\n",
       "      <td>[AN100] RXCUI:371375 Chlorambucil Oral Tablet</td>\n",
       "    </tr>\n",
       "    <tr>\n",
       "      <th>377238</th>\n",
       "      <td>AN100</td>\n",
       "      <td>Cyclophosphamide / Mannitol Injectable Solution</td>\n",
       "      <td>[AN100] RXCUI:377238 Cyclophosphamide / Mannit...</td>\n",
       "    </tr>\n",
       "    <tr>\n",
       "      <th>376666</th>\n",
       "      <td>AN100</td>\n",
       "      <td>Cyclophosphamide Injectable Solution</td>\n",
       "      <td>[AN100] RXCUI:376666 Cyclophosphamide Injectab...</td>\n",
       "    </tr>\n",
       "    <tr>\n",
       "      <th>1437967</th>\n",
       "      <td>AN100</td>\n",
       "      <td>Cyclophosphamide Oral Capsule</td>\n",
       "      <td>[AN100] RXCUI:1437967 Cyclophosphamide Oral Ca...</td>\n",
       "    </tr>\n",
       "    <tr>\n",
       "      <th>371664</th>\n",
       "      <td>AN100</td>\n",
       "      <td>Cyclophosphamide Oral Tablet</td>\n",
       "      <td>[AN100] RXCUI:371664 Cyclophosphamide Oral Tablet</td>\n",
       "    </tr>\n",
       "    <tr>\n",
       "      <th>377128</th>\n",
       "      <td>AN100</td>\n",
       "      <td>Ifosfamide Injectable Solution</td>\n",
       "      <td>[AN100] RXCUI:377128 Ifosfamide Injectable Sol...</td>\n",
       "    </tr>\n",
       "    <tr>\n",
       "      <th>372631</th>\n",
       "      <td>AN100</td>\n",
       "      <td>Lomustine Oral Capsule</td>\n",
       "      <td>[AN100] RXCUI:372631 Lomustine Oral Capsule</td>\n",
       "    </tr>\n",
       "    <tr>\n",
       "      <th>379296</th>\n",
       "      <td>AN100</td>\n",
       "      <td>Mechlorethamine Injectable Solution</td>\n",
       "      <td>[AN100] RXCUI:379296 Mechlorethamine Injectabl...</td>\n",
       "    </tr>\n",
       "    <tr>\n",
       "      <th>372755</th>\n",
       "      <td>AN100</td>\n",
       "      <td>Melphalan Injectable Solution</td>\n",
       "      <td>[AN100] RXCUI:372755 Melphalan Injectable Solu...</td>\n",
       "    </tr>\n",
       "    <tr>\n",
       "      <th>372756</th>\n",
       "      <td>AN100</td>\n",
       "      <td>Melphalan Oral Tablet</td>\n",
       "      <td>[AN100] RXCUI:372756 Melphalan Oral Tablet</td>\n",
       "    </tr>\n",
       "    <tr>\n",
       "      <th>373476</th>\n",
       "      <td>AN100</td>\n",
       "      <td>Pipobroman Oral Tablet</td>\n",
       "      <td>[AN100] RXCUI:373476 Pipobroman Oral Tablet</td>\n",
       "    </tr>\n",
       "    <tr>\n",
       "      <th>363194</th>\n",
       "      <td>AN100</td>\n",
       "      <td>Thiotepa Injectable Solution [Thioplex]</td>\n",
       "      <td>[AN100] RXCUI:363194 Thiotepa Injectable Solut...</td>\n",
       "    </tr>\n",
       "    <tr>\n",
       "      <th>1660003</th>\n",
       "      <td>AN100</td>\n",
       "      <td>Thiotepa Injection</td>\n",
       "      <td>[AN100] RXCUI:1660003 Thiotepa Injection</td>\n",
       "    </tr>\n",
       "    <tr>\n",
       "      <th>374270</th>\n",
       "      <td>AN100</td>\n",
       "      <td>Uracil Mustard Oral Capsule</td>\n",
       "      <td>[AN100] RXCUI:374270 Uracil Mustard Oral Capsule</td>\n",
       "    </tr>\n",
       "    <tr>\n",
       "      <th>790322</th>\n",
       "      <td>AN100</td>\n",
       "      <td>bendamustine Injectable Solution</td>\n",
       "      <td>[AN100] RXCUI:790322 bendamustine Injectable S...</td>\n",
       "    </tr>\n",
       "    <tr>\n",
       "      <th>835944</th>\n",
       "      <td>AN100</td>\n",
       "      <td>temozolomide Injectable Solution</td>\n",
       "      <td>[AN100] RXCUI:835944 temozolomide Injectable S...</td>\n",
       "    </tr>\n",
       "  </tbody>\n",
       "</table>\n",
       "</div>"
      ],
      "text/plain": [
       "        va_class_code                                           c_name  \\\n",
       "rxcui                                                                    \n",
       "377179          AN100                     Busulfan Injectable Solution   \n",
       "371165          AN100                             Busulfan Oral Tablet   \n",
       "378774          AN100                          Carmustine Drug Implant   \n",
       "370496          AN100                   Carmustine Injectable Solution   \n",
       "371375          AN100                         Chlorambucil Oral Tablet   \n",
       "377238          AN100  Cyclophosphamide / Mannitol Injectable Solution   \n",
       "376666          AN100             Cyclophosphamide Injectable Solution   \n",
       "1437967         AN100                    Cyclophosphamide Oral Capsule   \n",
       "371664          AN100                     Cyclophosphamide Oral Tablet   \n",
       "377128          AN100                   Ifosfamide Injectable Solution   \n",
       "372631          AN100                           Lomustine Oral Capsule   \n",
       "379296          AN100              Mechlorethamine Injectable Solution   \n",
       "372755          AN100                    Melphalan Injectable Solution   \n",
       "372756          AN100                            Melphalan Oral Tablet   \n",
       "373476          AN100                           Pipobroman Oral Tablet   \n",
       "363194          AN100          Thiotepa Injectable Solution [Thioplex]   \n",
       "1660003         AN100                               Thiotepa Injection   \n",
       "374270          AN100                      Uracil Mustard Oral Capsule   \n",
       "790322          AN100                 bendamustine Injectable Solution   \n",
       "835944          AN100                 temozolomide Injectable Solution   \n",
       "\n",
       "                                                     label  \n",
       "rxcui                                                       \n",
       "377179   [AN100] RXCUI:377179 Busulfan Injectable Solution  \n",
       "371165           [AN100] RXCUI:371165 Busulfan Oral Tablet  \n",
       "378774        [AN100] RXCUI:378774 Carmustine Drug Implant  \n",
       "370496   [AN100] RXCUI:370496 Carmustine Injectable Sol...  \n",
       "371375       [AN100] RXCUI:371375 Chlorambucil Oral Tablet  \n",
       "377238   [AN100] RXCUI:377238 Cyclophosphamide / Mannit...  \n",
       "376666   [AN100] RXCUI:376666 Cyclophosphamide Injectab...  \n",
       "1437967  [AN100] RXCUI:1437967 Cyclophosphamide Oral Ca...  \n",
       "371664   [AN100] RXCUI:371664 Cyclophosphamide Oral Tablet  \n",
       "377128   [AN100] RXCUI:377128 Ifosfamide Injectable Sol...  \n",
       "372631         [AN100] RXCUI:372631 Lomustine Oral Capsule  \n",
       "379296   [AN100] RXCUI:379296 Mechlorethamine Injectabl...  \n",
       "372755   [AN100] RXCUI:372755 Melphalan Injectable Solu...  \n",
       "372756          [AN100] RXCUI:372756 Melphalan Oral Tablet  \n",
       "373476         [AN100] RXCUI:373476 Pipobroman Oral Tablet  \n",
       "363194   [AN100] RXCUI:363194 Thiotepa Injectable Solut...  \n",
       "1660003           [AN100] RXCUI:1660003 Thiotepa Injection  \n",
       "374270    [AN100] RXCUI:374270 Uracil Mustard Oral Capsule  \n",
       "790322   [AN100] RXCUI:790322 bendamustine Injectable S...  \n",
       "835944   [AN100] RXCUI:835944 temozolomide Injectable S...  "
      ]
     },
     "execution_count": 40,
     "metadata": {},
     "output_type": "execute_result"
    }
   ],
   "source": [
    "rx1['label'] = ['[{vc}] RXCUI:{cui} {drug}'.format(vc=drug.va_class_code, cui=rxcui, drug=drug.c_name)\n",
    "                for (rxcui, drug) in rx1.iterrows()]\n",
    "rx1.sort_values(['va_class_code', 'c_name'], inplace=True)\n",
    "rx1.head(20)[['va_class_code', 'c_name', 'label']]"
   ]
  },
  {
   "cell_type": "code",
   "execution_count": 50,
   "metadata": {
    "collapsed": false
   },
   "outputs": [
    {
     "name": "stdout",
     "output_type": "stream",
     "text": [
      "distinct drugs: 0\n",
      "hlevels: []\n"
     ]
    }
   ],
   "source": [
    "# Note %s have to be doubled in sqlalchemy API\n",
    "sql = r'''\n",
    "  select c_hlevel, c_basecode, c_name, c_fullname\n",
    "  from i2b2metadata.gpc_terms\n",
    "  where c_basecode like '%%1670010'\n",
    "'''\n",
    "rxx = pd.read_sql(sql, babel_db)\n",
    "print 'distinct drugs:', len(rxx)\n",
    "print 'hlevels:', rxx.c_hlevel.unique()\n",
    "rxx['rxcui'] = rxx.c_basecode.apply(lambda s: s.split(':')[1])"
   ]
  },
  {
   "cell_type": "code",
   "execution_count": 46,
   "metadata": {
    "collapsed": false
   },
   "outputs": [
    {
     "data": {
      "text/html": [
       "<div>\n",
       "<table border=\"1\" class=\"dataframe\">\n",
       "  <thead>\n",
       "    <tr style=\"text-align: right;\">\n",
       "      <th></th>\n",
       "      <th>c_hlevel</th>\n",
       "      <th>c_basecode</th>\n",
       "      <th>c_name</th>\n",
       "      <th>c_fullname</th>\n",
       "      <th>rxcui</th>\n",
       "    </tr>\n",
       "  </thead>\n",
       "  <tbody>\n",
       "  </tbody>\n",
       "</table>\n",
       "</div>"
      ],
      "text/plain": [
       "Empty DataFrame\n",
       "Columns: [c_hlevel, c_basecode, c_name, c_fullname, rxcui]\n",
       "Index: []"
      ]
     },
     "execution_count": 46,
     "metadata": {},
     "output_type": "execute_result"
    }
   ],
   "source": [
    "rxx[rxx.rxcui == '1670010']\n",
    "#rxx.head()"
   ]
  },
  {
   "cell_type": "markdown",
   "metadata": {},
   "source": [
    "## Data Dictionary for REDCap"
   ]
  },
  {
   "cell_type": "code",
   "execution_count": null,
   "metadata": {
    "collapsed": false
   },
   "outputs": [],
   "source": [
    "ddict_prototype = pd.read_csv((cwd / 'redcap_ddict_prototype.csv').open()).set_index(u'Variable / Field Name')\n",
    "ddict_prototype.columns"
   ]
  },
  {
   "cell_type": "code",
   "execution_count": null,
   "metadata": {
    "collapsed": false
   },
   "outputs": [],
   "source": [
    "def choices(series):\n",
    "    return ' | '.join('{code}, {label}'.format(code=code, label=label)\n",
    "               for (code, label) in series.iteritems())"
   ]
  },
  {
   "cell_type": "code",
   "execution_count": null,
   "metadata": {
    "collapsed": false
   },
   "outputs": [],
   "source": [
    "med_ddict = ddict_prototype.copy()\n",
    "med_ddict.set_value('va_class', u'Choices, Calculations, OR Slider Labels', choices(med_va_class.set_index('code').c_name))\n",
    "med_ddict.set_value('rxcui', u'Choices, Calculations, OR Slider Labels', choices(rx1.label))\n",
    "\n",
    "med_ddict.to_csv('med_exposure_ddict.csv')\n",
    "med_ddict"
   ]
  }
 ],
 "metadata": {
  "kernelspec": {
   "display_name": "Python 2",
   "language": "python",
   "name": "python2"
  },
  "language_info": {
   "codemirror_mode": {
    "name": "ipython",
    "version": 2
   },
   "file_extension": ".py",
   "mimetype": "text/x-python",
   "name": "python",
   "nbconvert_exporter": "python",
   "pygments_lexer": "ipython2",
   "version": "2.7.12"
  }
 },
 "nbformat": 4,
 "nbformat_minor": 0
}
