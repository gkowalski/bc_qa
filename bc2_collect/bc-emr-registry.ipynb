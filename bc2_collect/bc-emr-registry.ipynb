{
 "cells": [
  {
   "cell_type": "markdown",
   "metadata": {},
   "source": [
    "# EMR and Registry Data for Breast Cancer Survey Participants\n",
    "\n",
    "Refs:\n",
    "  - [GPC BC 2nd Data Pull Slides](https://docs.google.com/presentation/d/1LANts9zyDNyR3uPoArU04tsrxaC2Ao3rQyRk9JRPg9c/edit)\n",
    "  - [Data Import Tool](https://redcap.gpcnetwork.org/redcap_v6.11.5/DataImport/index.php?pid=32) for per-tumor project 32.\n",
    "  - [Data Import Tool](https://redcap.gpcnetwork.org/redcap_v6.11.5/DataImport/index.php?pid=64) for per-medication-exposure project 64.\n",
    "\n",
    "\n",
    "- [#297 collect breast cancer data from GPC sites for linking with surveys, multi-signal analysis](https://informatics.gpcnetwork.org/trac/Project/ticket/297)\n",
    "  - [ticket:382 distribute the query to the sites for the data for consented breast cancer survey patients](https://informatics.gpcnetwork.org/trac/Project/ticket/382)"
   ]
  },
  {
   "cell_type": "markdown",
   "metadata": {},
   "source": [
    "## Adjust filenames and settings to suit"
   ]
  },
  {
   "cell_type": "code",
   "execution_count": null,
   "metadata": {
    "collapsed": true
   },
   "outputs": [],
   "source": [
    "site_access_group = '15'\n",
    "\n",
    "builder_filename = 'site-data/bc-g297-{site}.db'.format(site=site_access_group)\n",
    "crosswalk_filename = 'site-data/consented_crosswalk.csv'\n",
    "\n",
    "per_tumor_out = 'site-data/per-tumor.csv'\n",
    "per_med_exp_out = 'site-data/per-medication-exposure.csv'\n",
    "\n",
    "chunk_size = 2000  # med output will be broken into files of at most this many records"
   ]
  },
  {
   "cell_type": "markdown",
   "metadata": {},
   "source": [
    "## Preface: PyData Scientific Python Tools\n",
    "\n",
    "See also [PyData](http://pydata.org/)."
   ]
  },
  {
   "cell_type": "code",
   "execution_count": null,
   "metadata": {
    "collapsed": false,
    "scrolled": true
   },
   "outputs": [],
   "source": [
    "import pandas as pd\n",
    "\n",
    "dict(pandas=pd.__version__)"
   ]
  },
  {
   "cell_type": "markdown",
   "metadata": {},
   "source": [
    "### Mix crosswalk into builder file"
   ]
  },
  {
   "cell_type": "code",
   "execution_count": null,
   "metadata": {
    "collapsed": false
   },
   "outputs": [],
   "source": [
    "def builder_file_access(name):\n",
    "    from sqlite3 import connect\n",
    "    return connect(name)\n",
    "\n",
    "bc_data = builder_file_access(builder_filename)\n",
    "\n",
    "pd.read_sql('select count(*) from patient_dimension', bc_data)"
   ]
  },
  {
   "cell_type": "code",
   "execution_count": null,
   "metadata": {
    "collapsed": false
   },
   "outputs": [],
   "source": [
    "pd.read_sql('select pset, name from job', bc_data)"
   ]
  },
  {
   "cell_type": "code",
   "execution_count": null,
   "metadata": {
    "collapsed": false
   },
   "outputs": [],
   "source": [
    "consented_crosswalk = pd.read_csv(crosswalk_filename)\n",
    "consented_crosswalk.date_shift = pd.to_timedelta(consented_crosswalk.date_shift, unit='day')\n",
    "consented_crosswalk.head()"
   ]
  },
  {
   "cell_type": "code",
   "execution_count": null,
   "metadata": {
    "collapsed": false,
    "scrolled": true
   },
   "outputs": [],
   "source": [
    "consented_crosswalk[['study_id', 'patient_num']].to_sql('consented_crosswalk', bc_data, if_exists='replace')"
   ]
  },
  {
   "cell_type": "markdown",
   "metadata": {},
   "source": [
    "### Data Dictionary Fields and NAACCR Item Numbers"
   ]
  },
  {
   "cell_type": "code",
   "execution_count": null,
   "metadata": {
    "collapsed": false,
    "scrolled": true
   },
   "outputs": [],
   "source": [
    "# comma at end of header line causes goofy Unnamed: NNN column\n",
    "def fix_template(t):\n",
    "    return pd.DataFrame(\n",
    "        t, columns=[c for c in t.columns\n",
    "                    if not c.startswith('Unnamed: ')])\n",
    "    \n",
    "import_template = fix_template(pd.read_csv('bc_tumor_import_template.csv'))\n",
    "\n",
    "print \"First few fields...\"\n",
    "import_template.columns[:10]"
   ]
  },
  {
   "cell_type": "markdown",
   "metadata": {},
   "source": [
    "For NAACCR fields, extract the NAACCR item number from the variable name:"
   ]
  },
  {
   "cell_type": "code",
   "execution_count": null,
   "metadata": {
    "collapsed": false
   },
   "outputs": [],
   "source": [
    "import re\n",
    "\n",
    "naaccr_field = pd.DataFrame(dict(field_name=name, item=int(name.split('_', 3)[1]))\n",
    "            for name in import_template.columns\n",
    "            if re.match('v\\d{2,3}_\\d{3,4}_', name)).sort_values('field_name').set_index('item')\n",
    "print len(naaccr_field)\n",
    "naaccr_field.head()"
   ]
  },
  {
   "cell_type": "code",
   "execution_count": null,
   "metadata": {
    "collapsed": true
   },
   "outputs": [],
   "source": [
    "# @@TODO: Seer site summary"
   ]
  },
  {
   "cell_type": "code",
   "execution_count": null,
   "metadata": {
    "collapsed": true
   },
   "outputs": [],
   "source": [
    "# @@TODO: vital status: @ -> NI"
   ]
  },
  {
   "cell_type": "markdown",
   "metadata": {},
   "source": [
    "## NAACCR Coded Data"
   ]
  },
  {
   "cell_type": "code",
   "execution_count": null,
   "metadata": {
    "collapsed": false,
    "scrolled": true
   },
   "outputs": [],
   "source": [
    "# We assume HERON-style concept_cd, not just GPC paths.\n",
    "\n",
    "naaccr_coded_eav = pd.read_sql('''\n",
    "select * from (\n",
    "   select distinct patient_num, encounter_num, concept_cd\n",
    "        , 0 + substr(concept_cd, length('NAACCR|_')) item\n",
    "        , substr(concept_cd, instr(concept_cd, ':') + 1) code\n",
    "   from observation_fact\n",
    "   where concept_cd like 'NAACCR|%'\n",
    ") where code > ''\n",
    "''', bc_data)\n",
    "\n",
    "print len(naaccr_coded_eav), len(naaccr_coded_eav[['encounter_num', 'item']].drop_duplicates())\n",
    "naaccr_coded_eav.head()"
   ]
  },
  {
   "cell_type": "code",
   "execution_count": null,
   "metadata": {
    "collapsed": false
   },
   "outputs": [],
   "source": [
    "# TODO: why no data for this item at KUMC?\n",
    "# 746 RX HOSP--SURG SITE 98-02\n",
    "naaccr_coded_eav[naaccr_coded_eav.item == 746]"
   ]
  },
  {
   "cell_type": "markdown",
   "metadata": {},
   "source": [
    "Now pivot the data:"
   ]
  },
  {
   "cell_type": "code",
   "execution_count": null,
   "metadata": {
    "collapsed": false
   },
   "outputs": [],
   "source": [
    "naaccr_coded = (naaccr_coded_eav\n",
    "                .merge(naaccr_field, left_on='item', right_index=True)\n",
    "                .pivot(index='encounter_num', columns='field_name', values='code'))\n",
    "print \"coded data on\", len(naaccr_coded), \"tumors\"\n",
    "naaccr_coded.head()"
   ]
  },
  {
   "cell_type": "markdown",
   "metadata": {},
   "source": [
    "## NAACCR Date fields, unshifted"
   ]
  },
  {
   "cell_type": "code",
   "execution_count": null,
   "metadata": {
    "collapsed": true
   },
   "outputs": [],
   "source": [
    "from datetime import timedelta"
   ]
  },
  {
   "cell_type": "code",
   "execution_count": null,
   "metadata": {
    "collapsed": false
   },
   "outputs": [],
   "source": [
    "naaccr_dated_eav = pd.read_sql('''\n",
    "   select distinct patient_num, encounter_num, start_date date_deid\n",
    "        , 0 + substr(concept_cd, length('NAACCR|_')) item\n",
    "   from observation_fact\n",
    "   where concept_cd like 'NAACCR|%:'\n",
    "''', bc_data, parse_dates=['date_deid'])\n",
    "naaccr_dated_eav = naaccr_dated_eav.merge(consented_crosswalk[['patient_num', 'date_shift']], how='left')\n",
    "naaccr_dated_eav['date'] = naaccr_dated_eav.date_deid - naaccr_dated_eav.date_shift\n",
    "naaccr_dated_eav.head()"
   ]
  },
  {
   "cell_type": "code",
   "execution_count": null,
   "metadata": {
    "collapsed": false
   },
   "outputs": [],
   "source": [
    "naaccr_dated = (naaccr_dated_eav\n",
    "                .merge(naaccr_field, left_on='item', right_index=True)\n",
    "                .pivot(index='encounter_num', columns='field_name', values='date'))\n",
    "print \"date fields for\", len(naaccr_dated), \"tumors\"\n",
    "naaccr_dated.head()"
   ]
  },
  {
   "cell_type": "markdown",
   "metadata": {},
   "source": [
    "## All NAACCR fields: coded fields + date fields"
   ]
  },
  {
   "cell_type": "code",
   "execution_count": null,
   "metadata": {
    "collapsed": false,
    "scrolled": true
   },
   "outputs": [],
   "source": [
    "naaccr_records = naaccr_coded.join(naaccr_dated)\n",
    "print len(naaccr_records)\n",
    "naaccr_records.head()"
   ]
  },
  {
   "cell_type": "markdown",
   "metadata": {},
   "source": [
    "## Per-patient fields: language, consent, SSA vital status"
   ]
  },
  {
   "cell_type": "code",
   "execution_count": null,
   "metadata": {
    "collapsed": false
   },
   "outputs": [],
   "source": [
    "# remember to double \\\\s in sqlite string literals\n",
    "pd.read_sql('''\n",
    "select v.id, v.concept_path, v.name\n",
    "from variable v\n",
    "where concept_path not like '\\\\i2b2\\\\naaccr\\\\%'\n",
    "and concept_path not like '\\\\i2b2\\\\Diagnoses\\\\%'\n",
    "and concept_path not like '\\\\i2b2\\\\Procedures\\\\%'\n",
    "and concept_path not like '\\\\i2b2\\\\Medications\\\\%'\n",
    "and concept_path not like '\\\\i2b2\\\\Visit Details\\\\Vitals\\\\%'\n",
    "order by concept_path\n",
    "''', bc_data, index_col='id')"
   ]
  },
  {
   "cell_type": "code",
   "execution_count": null,
   "metadata": {
    "collapsed": false,
    "scrolled": true
   },
   "outputs": [],
   "source": [
    "from io import StringIO\n",
    "\n",
    "# EMR Gender, Race are ignored.\n",
    "emr_dem_terms=pd.read_csv(StringIO(ur'''\n",
    "concept_path,field_name\n",
    "\\i2b2\\Demographics\\Gender\\,vxx_gender\n",
    "\\i2b2\\Demographics\\Language\\,v52_language\n",
    "\\i2b2\\Demographics\\Marital Status\\,vxx_maritalstatus\n",
    "\\i2b2\\Demographics\\Race\\,vxx_race\n",
    "\\i2b2\\Demographics\\Vital Status\\Deceased per SSA\\,v53_deceased_per_ssa\n",
    "'''.strip()))\n",
    "\n",
    "emr_dem_terms"
   ]
  },
  {
   "cell_type": "code",
   "execution_count": null,
   "metadata": {
    "collapsed": false
   },
   "outputs": [],
   "source": [
    "emr_dem_terms.to_sql('emr_dem_terms', bc_data, if_exists='replace')\n",
    "dem_eav = pd.read_sql(\n",
    "'''\n",
    "select obs.patient_num, t.field_name, group_concat(substr(cd.concept_cd, instr(cd.concept_cd, ':') + 1)) code\n",
    "from emr_dem_terms t\n",
    "join concept_dimension cd on cd.concept_path like (t.concept_path || '%')\n",
    "join observation_fact obs on obs.concept_cd = cd.concept_cd\n",
    "group by obs.patient_num, t.field_name\n",
    "''', bc_data)\n",
    "dem_eav\n",
    "dem = pd.DataFrame(dem_eav.pivot(index='patient_num', columns='field_name', values='code'),\n",
    "                   columns=emr_dem_terms.field_name)\n",
    "dem.head()"
   ]
  },
  {
   "cell_type": "code",
   "execution_count": null,
   "metadata": {
    "collapsed": false,
    "scrolled": true
   },
   "outputs": [],
   "source": [
    "pat = pd.read_sql('''\n",
    "   select distinct cw.patient_num, cw.study_id v01_studyid, 1 v02_breastsurvey, 1 v03_medrecordconsent\n",
    "   from consented_crosswalk cw\n",
    "''', bc_data, index_col='patient_num')\n",
    "pat = pat.join(dem[['v52_language', 'v53_deceased_per_ssa']], how='left')\n",
    "#pat = pat.set_index('v01_studyid')\n",
    "print len(pat)\n",
    "pat.head()"
   ]
  },
  {
   "cell_type": "markdown",
   "metadata": {},
   "source": [
    "## Vitals - baseline, 1yr, 2yrs"
   ]
  },
  {
   "cell_type": "code",
   "execution_count": null,
   "metadata": {
    "collapsed": false
   },
   "outputs": [],
   "source": [
    "emr_numeric_eav=pd.read_sql(\n",
    "r'''\n",
    "with\n",
    "delta as (\n",
    "  select 0 yr union all\n",
    "  select 1 union all\n",
    "  select 2\n",
    ")\n",
    ", direction as (\n",
    "  select -1 sign union all\n",
    "  select 1\n",
    ")\n",
    ", dx as (\n",
    "  select distinct patient_num, encounter_num, start_date\n",
    "  from observation_fact f\n",
    "  where f.concept_cd = 'NAACCR|390:'\n",
    ")\n",
    ", obs as (\n",
    "  select distinct patient_num, start_date, nval_num\n",
    "  from observation_fact obs\n",
    "  join concept_dimension cd on cd.concept_cd = obs.concept_cd\n",
    "  where cd.concept_path in (?)\n",
    ")\n",
    ", event as (\n",
    "  select dx.patient_num, dx.encounter_num, dx.start_date dx_date\n",
    "       , datetime(dx.start_date, delta.yr || ' years') event_date\n",
    "       , obs.start_date obs_date, obs.nval_num\n",
    "       , delta.yr, sign\n",
    "  from dx\n",
    "  join obs on obs.patient_num = dx.patient_num\n",
    "  cross join delta\n",
    "  cross join direction\n",
    ")\n",
    ", candidate as (\n",
    "  select encounter_num, patient_num, dx_date, event_date, yr, sign\n",
    "       , obs_date, nval_num\n",
    "       , julianday(obs_date) - julianday(event_date) delta\n",
    "  from event\n",
    ")\n",
    ", winner as (\n",
    "  select encounter_num, patient_num, dx_date, event_date, yr, sign, min(abs(delta)) delta\n",
    "  from candidate\n",
    "  where abs(delta) < 365 and delta * sign > 0\n",
    "  group by encounter_num, dx_date, yr, sign\n",
    ")\n",
    "select winner.*\n",
    "    , (select nval_num from candidate\n",
    "       where candidate.delta = winner.delta * sign\n",
    "       and candidate.encounter_num = winner.encounter_num\n",
    "       and candidate.yr = winner.yr\n",
    "       and candidate.sign = winner.sign) nval_num\n",
    "    , (select obs_date from candidate\n",
    "       where candidate.delta = winner.delta * sign\n",
    "       and candidate.encounter_num = winner.encounter_num\n",
    "       and candidate.yr = winner.yr\n",
    "       and candidate.sign = winner.sign) obs_date_deid\n",
    "    , ('v' || (? + winner.yr * 4 + ((winner.sign + 1))) || '_' || ? \n",
    "         || case when winner.sign > 0 then '_post_' else '_pre_' end\n",
    "         || winner.yr || 'yr')  field_name\n",
    "from winner\n",
    "order by encounter_num, yr, sign\n",
    "''', bc_data, params=[r'\\i2b2\\Visit Details\\Vitals\\BMI\\ '[:-1], 116, 'bmi'],\n",
    "    parse_dates=['dx_date', 'event_date', 'obs_date_deid'])\n",
    "\n",
    "emr_numeric_eav = emr_numeric_eav.merge(consented_crosswalk[['patient_num', 'date_shift']], how='left')\n",
    "emr_numeric_eav['obs_date'] = emr_numeric_eav.obs_date_deid - emr_numeric_eav.date_shift\n",
    "\n",
    "emr_numeric_eav.head(20)"
   ]
  },
  {
   "cell_type": "code",
   "execution_count": null,
   "metadata": {
    "collapsed": false
   },
   "outputs": [],
   "source": [
    "vital_num = emr_numeric_eav.pivot(index='encounter_num', columns='field_name', values='nval_num')\n",
    "vital_date = emr_numeric_eav.pivot(index='encounter_num', columns='field_name', values='obs_date')\n",
    "\n",
    "# v118_bmi_post_0yr -> v117_bmi_post_0yr_date\n",
    "vital_date = vital_date.rename(\n",
    "    columns=dict((n, 'v%d_%s_date' % (int(v) + 1, rest))\n",
    "     for n in vital_num.columns\n",
    "     for (v, rest) in [n[1:].split('_', 1)]))\n",
    "\n",
    "vital = vital_num.join(vital_date)\n",
    "vital = pd.DataFrame(vital, columns=sorted(vital.columns))\n",
    "vital.describe()"
   ]
  },
  {
   "cell_type": "code",
   "execution_count": null,
   "metadata": {
    "collapsed": false
   },
   "outputs": [],
   "source": [
    "x = pd.DataFrame(dict(name=vital.columns))\n",
    "x['label'] = x.name.str.replace(r'^v\\d+_', '').str.replace('bmi', 'BMI').str.replace('_', ' ')\n",
    "x"
   ]
  },
  {
   "cell_type": "markdown",
   "metadata": {},
   "source": [
    "## Full record: Tumor ID, tumor data, Patient data, vitals"
   ]
  },
  {
   "cell_type": "code",
   "execution_count": null,
   "metadata": {
    "collapsed": false
   },
   "outputs": [],
   "source": [
    "tumor = pd.read_sql('''\n",
    "  select distinct obs.encounter_num, cw.study_id v01_studyid\n",
    "  from observation_fact obs\n",
    "  left join consented_crosswalk cw on cw.patient_num = obs.patient_num\n",
    "  where concept_cd like 'NAACCR|%'\n",
    "''', bc_data).set_index('encounter_num')\n",
    "\n",
    "tumor = tumor.join(naaccr_records[['v15_0380_sequence_numbercentral', 'v16_0560_sequence_numberhospital']])\n",
    "tumor['v00_tumorid'] = [str(r.v01_studyid) + ':' + \n",
    "                  (r.v15_0380_sequence_numbercentral if r.v15_0380_sequence_numbercentral > '' else\n",
    "                   r.v16_0560_sequence_numberhospital if r.v16_0560_sequence_numberhospital > '' else 'XX')\n",
    "                 for _, r in tumor.iterrows()]\n",
    "tumor = (tumor[['v00_tumorid', 'v01_studyid']]\n",
    "         .join(naaccr_records, how='left')\n",
    "         .join(vital, how='left')\n",
    "         .merge(pat, on='v01_studyid', how='left'))\n",
    "print len(tumor)\n",
    "tumor.head()\n",
    "\n",
    "#admin = pd.read_sql(admin_q, bc_data)\n",
    "\n",
    "#admin"
   ]
  },
  {
   "cell_type": "code",
   "execution_count": null,
   "metadata": {
    "collapsed": false
   },
   "outputs": [],
   "source": [
    "data = pd.DataFrame(tumor, columns=import_template.columns)\n",
    "data['redcap_data_access_group'] = site_access_group\n",
    "\n",
    "data['admin_complete'] = 2\n",
    "\n",
    "data[['v00_tumorid', 'v01_studyid', 'v02_breastsurvey', 'v03_medrecordconsent', 'admin_complete']].head()"
   ]
  },
  {
   "cell_type": "code",
   "execution_count": null,
   "metadata": {
    "collapsed": false
   },
   "outputs": [],
   "source": [
    "data.set_value(~pd.isnull(data.v20_0490_diagnostic_confirmation), 'test_complete', '2')\n",
    "data[['v20_0490_diagnostic_confirmation', 'test_complete']].describe()"
   ]
  },
  {
   "cell_type": "code",
   "execution_count": null,
   "metadata": {
    "collapsed": false
   },
   "outputs": [],
   "source": [
    "data.set_value(~pd.isnull(data.v52_language), 'demographic_complete', '2')\n",
    "data[['v52_language', 'demographic_complete']].describe()"
   ]
  },
  {
   "cell_type": "code",
   "execution_count": null,
   "metadata": {
    "collapsed": true
   },
   "outputs": [],
   "source": [
    "data.to_csv(per_tumor_out, index=False)"
   ]
  },
  {
   "cell_type": "code",
   "execution_count": null,
   "metadata": {
    "collapsed": false
   },
   "outputs": [],
   "source": [
    "set(import_template.columns) - set(tumor.columns)"
   ]
  },
  {
   "cell_type": "code",
   "execution_count": null,
   "metadata": {
    "collapsed": false
   },
   "outputs": [],
   "source": [
    "#@@ TODO: reconcile query vs. data dictionary\n",
    "d = set(naaccr_coded_eav.item.append(naaccr_dated_eav.item))\n",
    "dd = set(naaccr_field.index)\n",
    "dict(\n",
    "    data_item_qty=len(d),\n",
    "    ddict_qty=len(dd),\n",
    "    both=len(d & dd),\n",
    "    data_only=d - dd,\n",
    "    ddict_only=dd - d\n",
    ")"
   ]
  },
  {
   "cell_type": "markdown",
   "metadata": {},
   "source": [
    "## Medication Exposures"
   ]
  },
  {
   "cell_type": "code",
   "execution_count": null,
   "metadata": {
    "collapsed": false
   },
   "outputs": [],
   "source": [
    "def parent_path(p):\n",
    "    return '\\\\'.join(p.split('\\\\')[:-2]) + '\\\\'\n",
    "\n",
    "parent_path('\\\\a\\\\b\\\\c\\\\')"
   ]
  },
  {
   "cell_type": "code",
   "execution_count": null,
   "metadata": {
    "collapsed": false
   },
   "outputs": [],
   "source": [
    "med_term = pd.read_sql(\n",
    "'''\n",
    "with med_var as (\n",
    "  select v.id, v.concept_path, v.name\n",
    "  from variable v\n",
    "  where concept_path like '\\i2b2\\Medications\\%' escape '@'\n",
    ")\n",
    "\n",
    "select sub.concept_path concept_path, sub.concept_cd concept_cd, sub.name_char name_char\n",
    "from concept_dimension sub\n",
    "join med_var on sub.concept_path like (med_var.concept_path || '%%') escape '@' \n",
    "''', bc_data)\n",
    "print len(med_term)\n",
    "med_term['parent_path'] = med_term.concept_path.apply(parent_path)\n",
    "med_term.head()"
   ]
  },
  {
   "cell_type": "code",
   "execution_count": null,
   "metadata": {
    "collapsed": false
   },
   "outputs": [],
   "source": [
    "va_class = med_term[med_term.name_char.str.match(r'^\\[.....\\]')]\n",
    "va_class.head()"
   ]
  },
  {
   "cell_type": "code",
   "execution_count": null,
   "metadata": {
    "collapsed": false
   },
   "outputs": [],
   "source": [
    "rx = med_term.copy()\n",
    "rx = rx[rx.concept_path.apply(parent_path).isin(va_class.concept_path)  # directly under a VA class\n",
    "        & ~rx.concept_path.isin(va_class.concept_path) # but not itself a VA class\n",
    "        & rx.concept_cd.str.match('^RXCUI:')]\n",
    "rx['rxcui'] = rx.concept_cd.str.slice(len('RXCUI:'))\n",
    "rx.set_index('rxcui', inplace=True)\n",
    "print len(rx), len(rx.index.unique())\n",
    "rx[rx.index.isin(\n",
    "        rx[rx.index.duplicated()].index)]"
   ]
  },
  {
   "cell_type": "code",
   "execution_count": null,
   "metadata": {
    "collapsed": false
   },
   "outputs": [],
   "source": [
    "def is_ancestor(pa, pd):\n",
    "    return pd[:len(pa)] == pa\n",
    "\n",
    "def ancestors(anc, desc):\n",
    "    anc = anc.copy()\n",
    "    anc['key'] = 1\n",
    "    anc['path_length'] = anc.concept_path.str.len()\n",
    "    desc = desc.copy()\n",
    "    desc['key'] = 1\n",
    "    desc['path_length'] = desc.concept_path.str.len()\n",
    "    cross = anc.merge(desc, on='key', suffixes=('_a', ''))\n",
    "    cross = cross[cross.path_length >= cross.path_length_a]\n",
    "    cross['flag'] = [is_ancestor(c.concept_path_a, c.concept_path)\n",
    "            for (_, c) in cross.iterrows()]\n",
    "    return cross[cross.flag]\n",
    "\n",
    "x = ancestors(rx.reset_index(), med_term[['concept_path', 'concept_cd', 'name_char']][:20])\n",
    "x[['rxcui', 'name_char_a', 'name_char', 'concept_cd']].head()"
   ]
  },
  {
   "cell_type": "code",
   "execution_count": null,
   "metadata": {
    "collapsed": false
   },
   "outputs": [],
   "source": [
    "# TODO: consider modifier_cd?\n",
    "med_obs = pd.read_sql('''\n",
    "select patient_num\n",
    "     , start_date\n",
    "     , instance_num\n",
    "     , min(concept_cd) concept_cd\n",
    "     , max(end_date) end_date\n",
    "from observation_fact\n",
    "group by instance_num, patient_num, start_date\n",
    "order by patient_num, start_date\n",
    "''', bc_data, parse_dates=['start_date', 'end_date']).drop_duplicates()\n",
    "med_obs = med_obs[med_obs.concept_cd.isin(med_term.concept_cd)]\n",
    "print len(med_obs)\n",
    "med_obs.head()"
   ]
  },
  {
   "cell_type": "code",
   "execution_count": null,
   "metadata": {
    "collapsed": false
   },
   "outputs": [],
   "source": [
    "med_code = med_term[med_term.concept_cd.isin(med_obs.concept_cd)].copy()\n",
    "print len(med_code), len(med_code.concept_cd.unique())\n",
    "x = ancestors(rx.reset_index()[['rxcui', 'name_char', 'concept_path']],\n",
    "              med_code[['concept_cd', 'name_char', 'concept_path']])\n",
    "med_code = med_code.merge(x.rename(columns=dict(name_char_a='drug_name')), how='left')[[\n",
    "            'concept_cd', 'name_char', 'rxcui', 'drug_name']]\n",
    "med_code = med_code.groupby('concept_cd')[['name_char', 'rxcui', 'drug_name']].min().reset_index()\n",
    "print len(med_code), len(med_code.concept_cd.unique())\n",
    "med_code.head()"
   ]
  },
  {
   "cell_type": "code",
   "execution_count": null,
   "metadata": {
    "collapsed": false
   },
   "outputs": [],
   "source": [
    "med_exp = med_obs.merge(med_code, on='concept_cd')\n",
    "med_exp = med_exp.merge(consented_crosswalk[['patient_num', 'study_id', 'date_shift']])\n",
    "\n",
    "med_exp['raw_med_name'] = med_exp['name_char']\n",
    "med_exp['exposure_start'] = (med_exp.start_date - med_exp.date_shift).dt.strftime('%Y-%m-%d %H:%M')\n",
    "med_exp['exposure_end']   = (med_exp.end_date   - med_exp.date_shift).dt.strftime('%Y-%m-%d %H:%M')\n",
    "\n",
    "med_exp['record_id'] = ['{pat}_{start}_{instance}'.format(\n",
    "        pat=e.study_id, start=e.exposure_start, instance=e.instance_num)\n",
    "                       for (_, e) in med_exp.iterrows()]\n",
    "med_exp['medication_exposure_complete'] = '2'\n",
    "\n",
    "med_exp['redcap_data_access_group'] = site_access_group\n",
    "\n",
    "med_import_template = fix_template(pd.read_csv('bc_med_import_template.csv'))\n",
    "med_exp = pd.DataFrame(med_exp, columns=med_import_template.columns)\n",
    "print len(med_exp), len(med_exp.record_id.unique())\n",
    "assert len(med_exp) == len(med_exp.record_id.unique())\n",
    "med_exp.head()"
   ]
  },
  {
   "cell_type": "code",
   "execution_count": null,
   "metadata": {
    "collapsed": false
   },
   "outputs": [],
   "source": [
    "from sys import stderr\n",
    "\n",
    "def save_in_chunks(df, fn, chunk_size):\n",
    "    if len(df) <= chunk_size:\n",
    "        df.to_csv(fn, index=False)\n",
    "        return\n",
    "\n",
    "    base, ext = per_med_exp_out.split('.')\n",
    "    digits = len(str(len(df)))\n",
    "    for chunk in range(0, len(med_exp), chunk_size):\n",
    "        fn = '%s-%0*d.%s' % (base, digits, chunk, ext)\n",
    "        print >>stderr, 'writing to', fn\n",
    "        df[chunk:chunk + chunk_size].to_csv(fn, index=False)\n",
    "\n",
    "save_in_chunks(med_exp, per_med_exp_out, chunk_size)"
   ]
  }
 ],
 "metadata": {
  "kernelspec": {
   "display_name": "Python 2",
   "language": "python",
   "name": "python2"
  },
  "language_info": {
   "codemirror_mode": {
    "name": "ipython",
    "version": 2
   },
   "file_extension": ".py",
   "mimetype": "text/x-python",
   "name": "python",
   "nbconvert_exporter": "python",
   "pygments_lexer": "ipython2",
   "version": "2.7.12"
  }
 },
 "nbformat": 4,
 "nbformat_minor": 0
}
